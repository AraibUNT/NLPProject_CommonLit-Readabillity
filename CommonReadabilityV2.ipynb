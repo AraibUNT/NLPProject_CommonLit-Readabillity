{
  "nbformat": 4,
  "nbformat_minor": 0,
  "metadata": {
    "colab": {
      "name": "CommonReadability",
      "provenance": []
    },
    "kernelspec": {
      "name": "python3",
      "display_name": "Python 3"
    },
    "language_info": {
      "name": "python"
    },
    "accelerator": "GPU"
  },
  "cells": [
    {
      "cell_type": "code",
      "metadata": {
        "colab": {
          "base_uri": "https://localhost:8080/",
          "height": 52
        },
        "id": "drsU4Nk1iFB7",
        "outputId": "b04eb998-4908-4b6a-fea5-bc3cd3455574"
      },
      "source": [
        "import pandas as pd\n",
        "import numpy as np\n",
        "import matplotlib.pyplot as plt\n",
        "import seaborn as sns\n",
        "import plotly.offline as py\n",
        "color = sns.color_palette()\n",
        "import plotly.graph_objs as go\n",
        "py.init_notebook_mode(connected=True)\n",
        "import plotly.tools as tls\n",
        "import warnings\n",
        "warnings.filterwarnings('ignore')\n",
        "import os\n",
        "from nltk.corpus import stopwords\n",
        "import string\n",
        "import nltk\n",
        "nltk.download('stopwords')\n",
        "eng_stopwords = set(stopwords.words(\"english\"))\n",
        "pd.options.mode.chained_assignment = None"
      ],
      "execution_count": 1,
      "outputs": [
        {
          "output_type": "display_data",
          "data": {
            "text/html": [
              "        <script type=\"text/javascript\">\n",
              "        window.PlotlyConfig = {MathJaxConfig: 'local'};\n",
              "        if (window.MathJax) {MathJax.Hub.Config({SVG: {font: \"STIX-Web\"}});}\n",
              "        if (typeof require !== 'undefined') {\n",
              "        require.undef(\"plotly\");\n",
              "        requirejs.config({\n",
              "            paths: {\n",
              "                'plotly': ['https://cdn.plot.ly/plotly-latest.min']\n",
              "            }\n",
              "        });\n",
              "        require(['plotly'], function(Plotly) {\n",
              "            window._Plotly = Plotly;\n",
              "        });\n",
              "        }\n",
              "        </script>\n",
              "        "
            ]
          },
          "metadata": {}
        },
        {
          "output_type": "stream",
          "name": "stdout",
          "text": [
            "[nltk_data] Downloading package stopwords to /root/nltk_data...\n",
            "[nltk_data]   Package stopwords is already up-to-date!\n"
          ]
        }
      ]
    },
    {
      "cell_type": "code",
      "metadata": {
        "colab": {
          "base_uri": "https://localhost:8080/"
        },
        "id": "pXU2rQ47cRG9",
        "outputId": "40275ef8-96e9-4be6-893e-35409476bad3"
      },
      "source": [
        "!unzip commonlitreadabilityprize.zip"
      ],
      "execution_count": 2,
      "outputs": [
        {
          "output_type": "stream",
          "name": "stdout",
          "text": [
            "Archive:  commonlitreadabilityprize.zip\n",
            "  inflating: sample_submission.csv   \n",
            "  inflating: test.csv                \n",
            "  inflating: train.csv               \n"
          ]
        }
      ]
    },
    {
      "cell_type": "code",
      "metadata": {
        "colab": {
          "base_uri": "https://localhost:8080/",
          "height": 206
        },
        "id": "vwIQdhkrb_HA",
        "outputId": "d21bf6bd-5f81-49a1-d578-01b0e48149c3"
      },
      "source": [
        "df = pd.read_csv('train.csv')\n",
        "df_test = pd.read_csv('test.csv')\n",
        "df.head()"
      ],
      "execution_count": 6,
      "outputs": [
        {
          "output_type": "execute_result",
          "data": {
            "text/html": [
              "<div>\n",
              "<style scoped>\n",
              "    .dataframe tbody tr th:only-of-type {\n",
              "        vertical-align: middle;\n",
              "    }\n",
              "\n",
              "    .dataframe tbody tr th {\n",
              "        vertical-align: top;\n",
              "    }\n",
              "\n",
              "    .dataframe thead th {\n",
              "        text-align: right;\n",
              "    }\n",
              "</style>\n",
              "<table border=\"1\" class=\"dataframe\">\n",
              "  <thead>\n",
              "    <tr style=\"text-align: right;\">\n",
              "      <th></th>\n",
              "      <th>id</th>\n",
              "      <th>url_legal</th>\n",
              "      <th>license</th>\n",
              "      <th>excerpt</th>\n",
              "      <th>target</th>\n",
              "      <th>standard_error</th>\n",
              "    </tr>\n",
              "  </thead>\n",
              "  <tbody>\n",
              "    <tr>\n",
              "      <th>0</th>\n",
              "      <td>c12129c31</td>\n",
              "      <td>NaN</td>\n",
              "      <td>NaN</td>\n",
              "      <td>When the young people returned to the ballroom...</td>\n",
              "      <td>-0.340259</td>\n",
              "      <td>0.464009</td>\n",
              "    </tr>\n",
              "    <tr>\n",
              "      <th>1</th>\n",
              "      <td>85aa80a4c</td>\n",
              "      <td>NaN</td>\n",
              "      <td>NaN</td>\n",
              "      <td>All through dinner time, Mrs. Fayre was somewh...</td>\n",
              "      <td>-0.315372</td>\n",
              "      <td>0.480805</td>\n",
              "    </tr>\n",
              "    <tr>\n",
              "      <th>2</th>\n",
              "      <td>b69ac6792</td>\n",
              "      <td>NaN</td>\n",
              "      <td>NaN</td>\n",
              "      <td>As Roger had predicted, the snow departed as q...</td>\n",
              "      <td>-0.580118</td>\n",
              "      <td>0.476676</td>\n",
              "    </tr>\n",
              "    <tr>\n",
              "      <th>3</th>\n",
              "      <td>dd1000b26</td>\n",
              "      <td>NaN</td>\n",
              "      <td>NaN</td>\n",
              "      <td>And outside before the palace a great garden w...</td>\n",
              "      <td>-1.054013</td>\n",
              "      <td>0.450007</td>\n",
              "    </tr>\n",
              "    <tr>\n",
              "      <th>4</th>\n",
              "      <td>37c1b32fb</td>\n",
              "      <td>NaN</td>\n",
              "      <td>NaN</td>\n",
              "      <td>Once upon a time there were Three Bears who li...</td>\n",
              "      <td>0.247197</td>\n",
              "      <td>0.510845</td>\n",
              "    </tr>\n",
              "  </tbody>\n",
              "</table>\n",
              "</div>"
            ],
            "text/plain": [
              "          id url_legal  ...    target standard_error\n",
              "0  c12129c31       NaN  ... -0.340259       0.464009\n",
              "1  85aa80a4c       NaN  ... -0.315372       0.480805\n",
              "2  b69ac6792       NaN  ... -0.580118       0.476676\n",
              "3  dd1000b26       NaN  ... -1.054013       0.450007\n",
              "4  37c1b32fb       NaN  ...  0.247197       0.510845\n",
              "\n",
              "[5 rows x 6 columns]"
            ]
          },
          "metadata": {},
          "execution_count": 6
        }
      ]
    },
    {
      "cell_type": "code",
      "metadata": {
        "colab": {
          "base_uri": "https://localhost:8080/"
        },
        "id": "t7mjZ05qiXy9",
        "outputId": "853740b6-e50b-49ed-8035-671f2fa03bd3"
      },
      "source": [
        "df.dtypes"
      ],
      "execution_count": 3,
      "outputs": [
        {
          "output_type": "execute_result",
          "data": {
            "text/plain": [
              "id                 object\n",
              "url_legal          object\n",
              "license            object\n",
              "excerpt            object\n",
              "target            float64\n",
              "standard_error    float64\n",
              "dtype: object"
            ]
          },
          "metadata": {},
          "execution_count": 3
        }
      ]
    },
    {
      "cell_type": "code",
      "metadata": {
        "colab": {
          "base_uri": "https://localhost:8080/"
        },
        "id": "ALt-OBhFkwZk",
        "outputId": "d5088314-1604-4de1-a56d-3184b98d2132"
      },
      "source": [
        "df.isnull().sum()"
      ],
      "execution_count": 4,
      "outputs": [
        {
          "output_type": "execute_result",
          "data": {
            "text/plain": [
              "id                   0\n",
              "url_legal         2004\n",
              "license           2004\n",
              "excerpt              0\n",
              "target               0\n",
              "standard_error       0\n",
              "dtype: int64"
            ]
          },
          "metadata": {},
          "execution_count": 4
        }
      ]
    },
    {
      "cell_type": "code",
      "metadata": {
        "id": "GFAPz5qik-06"
      },
      "source": [
        "# Removing unnecessary columns\n",
        "df.drop(['url_legal', 'license'], axis=1, inplace=True)"
      ],
      "execution_count": 5,
      "outputs": []
    },
    {
      "cell_type": "code",
      "metadata": {
        "colab": {
          "base_uri": "https://localhost:8080/",
          "height": 206
        },
        "id": "BVNfcz_ElC_z",
        "outputId": "8633ca8a-d260-4f3e-fef9-1b0657cf1dab"
      },
      "source": [
        "df.head()"
      ],
      "execution_count": 6,
      "outputs": [
        {
          "output_type": "execute_result",
          "data": {
            "text/html": [
              "<div>\n",
              "<style scoped>\n",
              "    .dataframe tbody tr th:only-of-type {\n",
              "        vertical-align: middle;\n",
              "    }\n",
              "\n",
              "    .dataframe tbody tr th {\n",
              "        vertical-align: top;\n",
              "    }\n",
              "\n",
              "    .dataframe thead th {\n",
              "        text-align: right;\n",
              "    }\n",
              "</style>\n",
              "<table border=\"1\" class=\"dataframe\">\n",
              "  <thead>\n",
              "    <tr style=\"text-align: right;\">\n",
              "      <th></th>\n",
              "      <th>id</th>\n",
              "      <th>excerpt</th>\n",
              "      <th>target</th>\n",
              "      <th>standard_error</th>\n",
              "    </tr>\n",
              "  </thead>\n",
              "  <tbody>\n",
              "    <tr>\n",
              "      <th>0</th>\n",
              "      <td>c12129c31</td>\n",
              "      <td>When the young people returned to the ballroom...</td>\n",
              "      <td>-0.340259</td>\n",
              "      <td>0.464009</td>\n",
              "    </tr>\n",
              "    <tr>\n",
              "      <th>1</th>\n",
              "      <td>85aa80a4c</td>\n",
              "      <td>All through dinner time, Mrs. Fayre was somewh...</td>\n",
              "      <td>-0.315372</td>\n",
              "      <td>0.480805</td>\n",
              "    </tr>\n",
              "    <tr>\n",
              "      <th>2</th>\n",
              "      <td>b69ac6792</td>\n",
              "      <td>As Roger had predicted, the snow departed as q...</td>\n",
              "      <td>-0.580118</td>\n",
              "      <td>0.476676</td>\n",
              "    </tr>\n",
              "    <tr>\n",
              "      <th>3</th>\n",
              "      <td>dd1000b26</td>\n",
              "      <td>And outside before the palace a great garden w...</td>\n",
              "      <td>-1.054013</td>\n",
              "      <td>0.450007</td>\n",
              "    </tr>\n",
              "    <tr>\n",
              "      <th>4</th>\n",
              "      <td>37c1b32fb</td>\n",
              "      <td>Once upon a time there were Three Bears who li...</td>\n",
              "      <td>0.247197</td>\n",
              "      <td>0.510845</td>\n",
              "    </tr>\n",
              "  </tbody>\n",
              "</table>\n",
              "</div>"
            ],
            "text/plain": [
              "          id  ... standard_error\n",
              "0  c12129c31  ...       0.464009\n",
              "1  85aa80a4c  ...       0.480805\n",
              "2  b69ac6792  ...       0.476676\n",
              "3  dd1000b26  ...       0.450007\n",
              "4  37c1b32fb  ...       0.510845\n",
              "\n",
              "[5 rows x 4 columns]"
            ]
          },
          "metadata": {},
          "execution_count": 6
        }
      ]
    },
    {
      "cell_type": "markdown",
      "metadata": {
        "id": "Ct0xNEQBlI-u"
      },
      "source": [
        "#EDA"
      ]
    },
    {
      "cell_type": "code",
      "metadata": {
        "colab": {
          "base_uri": "https://localhost:8080/",
          "height": 449
        },
        "id": "UaxujsYglD-y",
        "outputId": "ddbc5e2d-861e-42bc-9615-1f8e34fe4836"
      },
      "source": [
        "from wordcloud import WordCloud, STOPWORDS\n",
        "stopwords = set(STOPWORDS)\n",
        "\n",
        "def show_wordcloud(data, title = None):\n",
        "    wordcloud = WordCloud(\n",
        "        background_color='black',\n",
        "        stopwords=stopwords,\n",
        "        max_words=200,\n",
        "        max_font_size=40, \n",
        "        scale=3,\n",
        "        random_state=1 # chosen at random by flipping a coin; it was heads\n",
        ").generate(str(data))\n",
        "\n",
        "    fig = plt.figure(1, figsize=(15, 15))\n",
        "    plt.axis('off')\n",
        "    if title: \n",
        "        fig.suptitle(title, fontsize=20)\n",
        "        fig.subplots_adjust(top=2.3)\n",
        "\n",
        "    plt.imshow(wordcloud)\n",
        "    plt.show()\n",
        "\n",
        "show_wordcloud(df['excerpt'])"
      ],
      "execution_count": 7,
      "outputs": [
        {
          "output_type": "display_data",
          "data": {
            "image/png": "[encoded data removed]",
            "text/plain": [
              "<Figure size 1080x1080 with 1 Axes>"
            ]
          },
          "metadata": {
            "needs_background": "light"
          }
        }
      ]
    },
    {
      "cell_type": "markdown",
      "metadata": {
        "id": "TTfuZ4RdlQH3"
      },
      "source": [
        "Checking distribution of target variable"
      ]
    },
    {
      "cell_type": "code",
      "metadata": {
        "colab": {
          "base_uri": "https://localhost:8080/",
          "height": 542
        },
        "id": "HHV1_NB9lKqo",
        "outputId": "326ae456-13f2-493f-bd0d-7c1891552444"
      },
      "source": [
        "import plotly.express as px\n",
        "fig = px.histogram(df, x=\"target\")\n",
        "fig.show()"
      ],
      "execution_count": 8,
      "outputs": [
        {
          "output_type": "display_data",
          "data": {
            "text/html": [
              "<div>\n",
              "        \n",
              "        \n",
              "            <div id=\"f4cb7073-ed56-444f-a819-ad76b069e945\" class=\"plotly-graph-div\" style=\"height:525px; width:100%;\"></div>\n",
              "            <script type=\"text/javascript\">\n",
              "                require([\"plotly\"], function(Plotly) {\n",
              "                    window.PLOTLYENV=window.PLOTLYENV || {};\n",
              "                    \n",
              "                if (document.getElementById(\"f4cb7073-ed56-444f-a819-ad76b069e945\")) {\n",
              "                    Plotly.newPlot(\n",
              "                        'f4cb7073-ed56-444f-a819-ad76b069e945',\n",
              "                        [{\"alignmentgroup\": \"True\", \"bingroup\": \"x\", \"hoverlabel\": {\"namelength\": 0}, \"hovertemplate\": \"target=%{x}<br>count=%{y}\", \"legendgroup\": \"\", \"marker\": {\"color\": \"#636efa\"}, \"name\": \"\", \"offsetgroup\": \"\", \"orientation\": \"v\", \"showlegend\": false, \"type\": \"histogram\", \"x\": [-0.340259125, -0.31537234199999997, -0.580117966, -1.05401339, 0.24719744600000002, -0.861808583, -1.759061403, -0.95232462, -0.371640688, -1.238432225, -3.081337118, -2.145248365, -1.400318025, -0.495298635, 0.24580570899999998, -0.18818586399999998, -1.28603909, -0.617733261, -1.126247781, -1.009999064, 0.281178362, 0.27820314100000004, -1.566220068, -2.3864848359999997, -1.483887001, 0.633138503, -1.394485086, -0.146083426, -1.314628766, -1.4137438830000002, -0.479830828, 0.404633391, -0.952123031, -1.053897658, 0.022597727, -0.47370199399999996, 0.610318885, -0.041920097999999996, 0.8579268320000001, -1.292569679, -0.13489299400000002, -0.13037452900000002, 0.394615951, -1.059970759, -0.58635946, -1.9264220490000001, 0.277144328, -0.998571415, -1.014199763, -0.7466154209999999, -0.462051139, -0.503614479, -0.371471833, -1.621394692, 0.08814816, -0.017160917, -1.170766776, -0.209570237, -1.857994444, -0.715517237, -1.156364261, -0.542735004, -0.013470524, -0.7321486229999999, -0.609884124, 1.039927275, -1.742983825, -0.377746885, -0.286843482, -0.8839095920000001, -1.570217995, -1.9681000780000002, -1.333456479, 0.009684340999999999, -0.506932291, -0.605646629, -0.849038856, 0.288984342, -1.1020824759999999, -0.7628050670000001, -0.416734159, -1.515342423, -1.378839273, -0.684945065, -0.477948265, -0.508062794, -0.525784067, -1.221284385, -1.2400808779999999, -0.098809527, -0.8676088359999999, -0.703780283, -1.56314024, -1.696766222, -1.6221317690000001, -0.607166564, -1.137032552, 0.061007467999999995, 0.18208168800000002, -0.811519925, -1.972670519, -1.8206428140000002, -0.760367894, -1.00707269, -1.289408299, -1.236415384, 0.0, -0.708095165, -0.25410312399999996, 0.270832416, -0.282044397, -1.642969499, -1.937949286, -0.216514978, -1.4926489090000001, -1.18578775, -1.1012952120000001, -1.9681844730000002, -0.206408222, -1.702971145, -2.315611548, -0.235148658, -1.679509559, -0.451994374, -0.093604041, -0.365378816, -0.6903078840000001, -2.461999582, -1.186614667, -0.007393824, -2.01911713, -0.41655201799999997, -2.62550662, -2.457151723, -0.951697208, -0.6467511020000001, -0.057672423, -0.36066138, -0.8766493870000001, -0.8394347240000001, -0.634326216, -1.035478244, -0.44031321100000004, -1.461300604, -1.2466535090000002, -2.1585144990000003, -0.151042306, -0.887361895, -1.061181523, -0.722882817, -0.662764496, -1.008790802, -2.1889146580000003, -1.758594754, -1.095873973, -1.713306482, -0.85532196, -1.556397958, -1.034282779, -0.374275101, -0.37796017299999995, -1.143987806, -1.5365386909999998, -0.455012507, -0.8558477640000001, -0.610791351, -1.4784161930000002, -0.129115374, -1.033506428, 0.877184835, -0.714561333, -0.714391937, -1.572265988, -1.333634907, -1.860140006, -0.548446675, -1.083722413, -1.215512674, -0.802785602, -1.964773354, -1.237728792, 0.384222695, -1.16337267, 0.572044972, -0.492691685, -0.290306006, 0.604258906, -1.73683059, 0.17861529199999998, -1.5578101640000002, -1.160410121, -0.14670831, -0.889420014, -0.003118553, -2.056437688, -0.28099387800000003, -0.74845172, -1.740491482, 0.938783027, 0.27773732100000004, -0.8950071159999999, -2.063722887, -0.282288378, -1.7346178069999998, -0.037241954, -0.960598135, -0.517560783, -1.4636078680000002, -1.465672751, -1.038890428, -0.727449806, 0.06258012, -1.880072943, -0.795230717, -1.617710055, -1.681722432, -1.07873501, -2.934846302, -2.415774514, -1.1152114709999998, -1.2584976620000001, -2.048224387, -1.3026876059999999, -0.7140087559999999, -1.541347178, -2.054283749, -0.852108946, -0.39054204600000003, -0.68799695, -0.9630758009999999, -0.114236961, -0.9781166570000001, -1.258051132, -0.994652967, -1.0766235240000002, -2.058022647, -2.641977952, -0.888960128, -0.56108449, -0.426813005, 1.465592368, -0.06499875, -1.1018626759999999, -0.095749985, -0.374500006, 0.624751002, 0.6879052929999999, -0.406253077, -1.669863846, -0.156618699, -0.814380276, -0.338547583, -0.820523406, -1.634185368, -2.492674043, -1.719895591, -2.11226356, -0.38658731, -1.5618005609999999, -0.7518473640000001, -0.863299895, -0.576698794, -1.157269036, -1.589571686, -0.6524211120000001, -1.370115991, -2.1926883530000003, -0.841114385, -0.87494669, -0.541982061, -1.238431716, 1.023516839, -1.154753922, -1.672911306, -1.330950329, -1.213193054, -1.3141400090000002, -1.959472481, -1.058465094, -1.782989643, -0.273238231, -1.248513154, -1.277544064, -0.7550335509999999, -1.1090531890000002, -0.9883855290000001, -0.11369393400000001, -2.331189821, -1.280788834, 0.411471026, -1.4313810219999998, -1.653130604, -1.8099571280000002, -2.085060117, 0.838793563, -0.007644294, -0.19903241300000002, 0.025170897999999997, -0.807687264, -1.4136988380000002, -0.8563815359999999, -2.536904911, -0.580746823, -0.585142293, -2.027056522, -0.515282095, -2.176054735, 0.9065262340000001, -1.4036322280000002, -0.240680292, 0.40728624, -0.8017068759999999, -1.493984206, -0.9660476570000001, -0.516593446, -2.1404502819999998, -1.549272194, -0.004268138, -1.8394746180000001, -0.937832595, -2.296675509, -0.622842684, -2.5247904180000003, -0.822943305, -1.488918252, -1.150423852, -1.1626638809999998, -1.5403972030000002, -1.8355893630000002, -0.10236821, 0.075708395, -2.241482979, -2.19510939, -1.7184457519999998, 0.3281442, -1.641886235, -2.3760213169999997, -1.5339709259999998, -0.451211686, -0.403295095, -1.652186861, -2.989178994, 0.726097322, -1.8202969340000001, -3.4135158530000003, -0.36109813, -2.1604606669999997, -2.378185941, -1.361228127, 0.14655572, -0.35118288, -0.200118712, -1.411302185, -0.539375362, -3.1371432610000003, -0.849320333, -1.684291865, -1.197114606, -0.829604039, -1.410773436, -1.6660494909999999, -0.515114516, 0.8038752809999999, -2.085486472, -0.014712066000000001, -1.380826715, -0.748301687, -0.518625175, -1.841355836, -2.486377231, -0.545255292, -1.397337222, -1.5015533509999999, -1.0749877209999998, -0.644070676, -3.123761608, -2.046467916, -0.8739068109999999, -0.06501728, -0.625072461, -1.15589416, -1.929461427, -1.981132405, -1.342195073, -1.493906454, -1.5037883509999999, -2.1133107819999997, 0.766250821, -1.134245897, 0.325987982, -0.429918342, -0.938450639, 0.10488508099999999, -0.732070942, -0.8013619890000001, -0.741878369, -1.008548435, 0.131890683, -0.281876326, -0.616799879, -0.237531023, -1.874572871, -1.57315016, -0.7058255170000001, -1.270939427, 0.154878577, -0.605162264, -0.555356062, 0.121154248, -1.795182698, 0.7848375240000001, -2.1197301790000003, -1.012693356, -0.7427136240000001, -0.6544389829999999, -0.034310631, -1.266894527, 0.185004067, -2.109452869, -0.630143391, -0.262953834, -0.286442912, -1.11505142, -1.4260123580000001, -0.074333762, -1.164143627, -2.273766532, -2.7936841689999996, -0.483763357, -1.414318496, -1.913303692, -0.550844284, -1.176277587, 0.043057874, -0.090667761, -1.073497469, -1.732891849, -0.183396499, -1.9393652780000001, -0.279002052, -0.10665716800000001, -0.5675447060000001, -1.0524533790000001, -0.870117303, 0.00942841, -1.314832607, -1.3693117330000002, -0.670190986, 0.15532111, 0.238440727, -0.133798219, -1.0465277309999999, -0.42617643200000005, 0.348012868, 0.516561198, -0.376403238, -1.201607893, -3.25631229, -0.53217563, -1.639359581, -2.049657104, -2.366802097, 0.526813057, 0.347466115, -0.40013408200000006, -0.621404507, -3.2955761010000004, -0.73102331, -2.451063403, 0.44973589799999997, -0.014684677, -0.531309028, -0.9772618890000001, 0.543572822, -0.398495737, -0.686426975, 0.44310066299999995, -1.255921325, -1.162651542, -1.681361062, 0.472264158, 0.254812169, -2.425235133, -0.455608931, -1.981244288, -0.929454538, -3.031543857, -0.34324576100000004, -1.804048773, -0.376544514, -2.11469151, -1.56499948, -1.814723766, -3.549190203, -1.7198424769999998, -0.5586168460000001, -0.518584635, -1.4530479930000002, -0.6555520979999999, -1.6251413, -2.098193776, -0.68030937, 0.533262425, -0.049815443, -2.119294409, -0.086804588, -0.559842818, -0.171100842, 1.062151104, -0.735349427, -1.456422672, 0.17980864, 0.3513912, -1.725807334, -0.574590947, -2.209590083, -1.433352744, -2.550370827, -0.49434772, 0.049662064000000006, -2.272952473, -1.060679063, -1.516844735, -1.869676686, -2.670400661, -0.236141283, 0.586342197, -0.641551836, 0.057474515999999996, -0.250598231, -1.204063046, 0.8663298009999999, -0.049885402, -2.176638474, -0.7084837270000001, -1.480922784, -1.348816209, -2.276119978, -0.918446463, -0.537256206, -2.516032203, 0.02739912, -1.218451365, -2.3370277980000003, -0.384449836, -0.163070217, -1.4100707469999998, -0.432077259, -0.6413322029999999, -1.961218774, 0.036622032, -0.152209653, -1.478113115, 0.844974076, -0.173404195, -1.4749373559999999, 0.33789777200000004, -2.312680565, -0.668905761, 0.5825860660000001, -0.142303129, -0.39411603100000003, -2.241481592, 0.992717695, 1.432603719, 0.650396086, 0.922598578, -2.098625275, -0.424981939, -0.344269809, -0.878020998, -1.2779499570000001, -1.457473562, 0.20725867, -1.441185956, -0.698003989, -2.215148883, -0.297259587, -3.263499847, -1.479471819, -1.8842976219999998, 0.488056427, -1.683761536, -0.7576071529999999, 1.268987149, -0.09500426599999999, -1.540198331, 0.08280077799999999, -0.10984593599999999, -0.19536495899999998, 0.011813763, -0.32779613399999996, -0.432472085, -1.417432918, 0.323425373, -2.7682479460000002, -0.701958848, -0.827983792, -1.067677743, -2.601398503, -1.979797604, -1.7215822330000001, -1.136051502, -1.776309711, -0.913326537, -0.12465925300000001, -2.1230866980000003, 0.49842990200000004, 0.259730278, -3.0515245280000003, -2.652384117, -2.864956753, -0.909141193, -1.3570383780000002, -1.451768512, -1.134821962, -1.612461057, -0.302916244, -1.7173297840000001, -2.088891083, -0.202360343, -1.533553613, -2.082496583, -0.8006733559999999, -0.933473096, -0.366843066, -0.838837134, 0.09869320699999999, -1.893606415, 0.053523571, -1.7772443230000001, -1.2847128490000002, -0.45173624799999995, -0.204233477, 0.843423217, -0.6546333520000001, 0.39033367399999996, 1.410419892, 0.619312344, 0.40496417, -1.0409923429999999, -2.232322583, -1.016749845, -0.790763483, -0.547254201, -1.758081302, -0.26086794399999996, -0.14072341800000002, -1.8480636959999999, -0.681241428, 0.23491040800000001, -1.02345278, -1.097923263, 1.079362146, -0.26854275899999996, 0.614928616, -0.067277264, -1.009732977, -1.0782375929999999, 0.16935606600000003, 0.228542017, 1.367284376, -0.30570297399999996, -2.64763109, -1.833088289, -0.6521941960000001, -0.569842532, -0.120578597, -0.7920716440000001, 0.555299059, -0.650477293, 0.900302169, -0.699882514, 0.624396241, -1.161062744, -0.5962579370000001, 1.0709875359999999, -2.261028038, -0.352036526, -0.169105333, -0.075289783, -0.31706137300000004, -0.4603042, -0.7434351359999999, -1.140224065, -0.569249053, 0.083994205, -2.530227686, 0.389075757, -0.802163794, -1.134926912, -0.41667149700000006, 1.024258258, -0.024195137999999998, -0.514429592, -1.342652384, -0.64364403, -0.887465518, 1.263126798, -1.10578373, -1.063582485, -0.309605294, 0.716514663, 0.192178063, -1.586580457, -1.291231784, 1.020308011, -0.594404653, -1.179180106, -0.9041285379999999, -2.030345161, -0.257776264, -0.371879498, 0.850392143, 0.357384606, -2.1991863030000003, -1.427664021, -0.38655225299999996, 0.7245535790000001, 0.487495265, 0.005085636, 0.991114026, -0.984640437, -1.644198296, -1.326654811, -0.14668009199999998, -0.556069951, -0.637014302, -0.124636626, 0.700117443, -0.43635162899999996, -1.5728982919999999, -0.8482350329999999, -0.976150327, -0.06282267400000001, -0.6325619, -0.0885427, -1.67757638, 0.34459256200000005, -1.9053861319999998, -1.520401466, -1.154857171, 0.861479827, -0.20307852899999998, -0.881081255, 0.28180950899999996, 0.105748891, 0.071003186, 0.294498053, -1.4223531669999998, -1.139722226, -0.7770896829999999, -2.599810686, -1.374425975, -0.346156966, -0.283326643, 1.088497136, -2.451886841, 0.0214596, -1.090008478, 0.129346895, -0.465615248, -1.527416846, -0.610551119, 0.5232301570000001, -0.9286604509999999, 0.17155279399999998, -0.902859765, -0.528970635, -2.1342979509999997, -0.597031199, 0.23168906399999997, 0.779653259, -0.544475948, -0.552166718, -0.589643764, -0.650322956, -0.291865363, -2.0238889159999998, -1.2391337070000001, -0.8572515470000001, 0.810874254, -0.563904647, 0.946567567, 0.627618676, -0.699299571, -1.725606079, 0.034710132000000005, 0.642449351, -0.6189873020000001, 1.040517007, -0.06284545799999999, 0.86413932, 0.918885563, -1.112676572, -1.395231365, -1.802185475, -0.567156181, -0.647143875, -0.101779002, 0.348589053, -0.041010564, 0.108476405, -1.056268572, -0.7597673840000001, -0.150425549, 0.422776366, -1.5691260230000001, 1.583846826, 0.330810305, -0.157654161, -1.363978683, 0.070826688, 0.684207676, 1.174546793, -0.879313861, -0.5103273229999999, 0.35680087299999996, -0.786118758, -2.457555647, -1.077825512, -0.687688231, -0.40786566799999996, -0.651453846, -0.631701701, -0.388758647, -1.061225412, -0.968179945, -0.11988797300000001, 0.025798866, -0.122770289, -0.634706485, -0.7432738329999999, 0.253266589, 0.220640262, 0.254373308, 0.653170795, 1.2229014740000002, 0.408821311, 1.0190091890000001, -2.116397617, -0.256244635, -0.606895841, -1.214881253, 0.46904376799999997, -0.40654094700000004, 0.556225571, -0.581659268, -0.639122344, -1.120507299, -1.509700571, 0.14587873699999998, -2.629611905, -0.7229620790000001, -0.48972296299999996, 0.031524593999999996, -0.954180142, -1.011278343, 0.230335717, 0.220971467, -0.6052157020000001, -1.340719333, 0.43742285200000003, 0.6246790879999999, 1.026815279, -0.136519785, -0.26013064, -0.315739242, -0.129758457, -0.769008705, 0.111872653, -0.883537828, 0.925734335, 0.564178555, 1.01346899, 0.019739515, 0.6722925959999999, -0.101555009, -0.9347324340000001, -2.307657979, 0.16998814899999998, -0.228202855, -0.078677586, -0.897239358, -1.385954048, -2.307499375, -1.12417843, -0.87656742, -1.300679398, -0.592005772, -1.0453398740000002, -2.319747409, -0.453465075, 0.435490337, -0.898352605, -0.091202393, 0.324048269, -0.6559581329999999, 0.790704112, -0.986988435, -0.45677196299999995, -0.8528521720000001, -1.178376039, -0.674413444, -0.041250227, -0.699823548, -0.78354654, 0.274767866, -0.7037289409999999, 0.227246688, 0.7489554890000001, -0.100796346, -0.716442767, -0.9285424520000001, 0.096782583, 0.19811675899999998, 0.575136517, 0.081029242, -1.741490658, -0.046594079000000004, 0.160049511, -1.0733541, 0.46388071799999997, 0.030959163999999997, 0.059704683, -0.46681954700000006, -1.503172935, 0.593029307, -0.272154008, 0.008822918, -1.120484394, -2.074318007, 0.659357489, -0.7021856040000001, 0.607157733, -0.8667942270000001, -1.054659865, -0.573610547, 0.8027627829999999, -1.063358784, -1.259489664, -0.9285107290000001, -0.9011179859999999, 0.861779838, 0.170972345, 0.446698097, -0.9293803340000001, 0.393562039, -1.624428478, -2.9307666460000004, -0.426009233, -0.056144522999999995, -1.560700658, -0.287080965, -0.5503987370000001, -1.5649713969999999, -0.5901817629999999, 0.699182731, -1.040647035, -1.861507512, 0.41702917, -2.3111475180000003, -0.313049974, 0.22612537300000002, -0.531587618, -1.301436029, -1.196385858, -0.7982918459999999, -0.244359685, 0.76450389, -0.672687728, 0.199687267, -0.279951755, -2.05197829, -0.5754147, -0.8382237640000001, -0.9393747579999999, 0.62587834, -1.6860577419999998, 1.332118919, 0.052490472999999996, 1.5978698409999998, 0.568791653, -0.8131937490000001, 0.12453659800000001, 0.128857544, -0.511391002, -2.7785150869999997, 0.010803516, 1.104488747, -0.536890434, -0.154503372, -1.588661778, 0.729105439, 0.4694777, -0.702123724, -0.6108308729999999, -0.728360793, 0.19003669199999998, -0.6916473470000001, -0.651409644, 0.512359829, -0.707411103, -0.033961057999999995, 0.682031464, 0.49588364, 1.378184677, 0.46462578299999996, -2.2179391809999998, 0.297964401, 0.273022642, 0.459932235, 0.739487555, 1.294290964, 1.5416718790000001, -0.34398012, 0.55619397, -0.805155232, 0.979971046, -0.74705416, -2.034098092, -0.9327388040000001, -0.391498678, -0.296450678, -0.050461806, 1.242843482, 0.10280278, 0.048205653, 0.975200134, 0.227889548, -0.68131055, 0.041924427, 0.202274188, 0.9135258509999999, -0.569187796, 1.190328647, 0.568668511, -0.81034806, 0.35629858700000006, 0.741025678, -0.995472072, -0.12353115699999999, 0.807642987, 0.10625615199999999, -1.9890343190000002, 0.332933047, 0.192928409, 0.927169042, -0.6715144359999999, 0.660067967, -0.175849361, -1.7578748969999998, 0.115457832, -0.313013937, 0.56484945, -0.33497658199999997, 0.8115163259999999, 0.639649888, 1.120176184, 1.290848776, 0.307041243, 0.162554017, -0.315435136, -0.301448697, 0.37850142200000003, -0.222946427, 1.467665465, 0.192212964, -0.346383854, 0.267636798, -0.107896459, 0.19555564399999997, -0.274797382, -0.032950289, 0.17873449100000002, 0.988936316, -2.301071222, -2.808524781, -2.0727038159999998, -3.352438391, 0.574606638, -0.842188983, -0.100216569, 0.375498596, -0.816137934, -0.634987162, 0.312500441, -2.106774417, 0.846838357, -0.23476626899999997, -0.41736942299999996, -1.6921334419999998, 0.176314672, -0.306367214, -1.2858940140000001, -0.21673827899999998, 1.090944394, -0.66514694, -1.6253273830000001, -0.047198885999999995, -1.535457991, -0.806679665, -1.736050455, -1.578212728, 0.7760117540000001, -1.7087660130000002, -0.930922754, -1.686775305, -1.296292486, -0.8222037329999999, -0.8425960220000001, -1.141634645, -1.100204889, -2.025856164, -1.428491792, -1.319758406, -1.209490537, -1.971193545, -1.568775143, -0.669447346, -1.320507075, -1.6346976309999999, -1.480371295, -0.522382942, -1.1718920290000001, -1.1911743, -3.203574994, 1.436503439, -3.66836041, -1.297943747, -1.58438395, -1.762893539, -2.528077874, 0.383873629, -1.678689313, -2.096309799, -1.471790116, -0.8072927679999999, -1.685742685, -1.8226589069999999, -1.8512366869999999, -0.927039954, -0.784178437, -1.942803646, 0.062270013, -2.31601951, -2.367913579, -1.1969034, -1.13804086, 0.39116838200000004, -1.1604991040000001, -0.626854713, 0.20094261100000002, -0.8685443429999999, -1.255286383, -0.307056769, -0.986645931, -0.642891812, -1.4647917959999999, -0.268395178, -2.315213321, -0.76765557, -1.54428469, -1.31374463, -0.024836284, -1.715521981, -2.150387868, -2.563457657, -1.645286253, -1.506979633, -2.081851819, -0.989921915, -1.4535803369999998, -1.594174966, -2.414430879, -0.036227181000000004, -1.085751491, -0.733407447, -2.238164382, -1.3846467409999998, -0.528146781, -2.4310459509999998, -3.229761439, -0.857871736, -2.057801801, -1.3506292930000001, -1.0856204390000002, -1.5519407509999998, -1.239472659, -0.726834636, -2.022772326, -1.1172507729999999, -1.217509269, -3.2139094260000003, -2.071544877, -1.6838233759999999, -3.3382906539999997, -2.217146149, -2.7073776489999997, -2.279783534, -3.070718237, -1.809774192, -1.577429866, -1.5546151080000001, -2.159716076, -1.659576072, -1.61389372, -2.853298148, -1.364178596, -2.2185845630000003, -1.130131848, -0.8699986820000001, -0.243290418, -1.109881758, -2.5999072130000003, -0.95866767, -0.883503775, -2.127381462, -1.877337905, -2.368856329, 0.332036628, -1.012834903, -1.436555618, -1.789432346, -1.603581736, -0.161361391, -0.76989626, -0.14745839300000002, -1.077611573, -0.8393844009999999, 0.055211105, 0.485115124, -0.900441127, -0.975162943, -0.074393372, -0.379957131, 0.278434963, -1.773906294, -1.251990702, -0.46928937200000004, 0.29292368, -0.315866135, -1.3825360580000001, -1.320423367, 0.70560033, -1.141776425, -0.992186958, -1.2708606390000001, -0.819014554, -0.9339567390000001, -1.9779203140000001, -2.158359899, -1.561510027, -0.41363741299999995, -1.2658349, -2.2610806390000002, -2.152497167, -0.6925367840000001, -0.15003615, 0.975370996, -1.27451227, -0.050774560999999996, -2.471668157, -0.9059800259999999, -0.660358016, -0.14555091, -0.522167305, -1.4273915130000001, -1.8170040180000002, -1.4294872859999999, -1.753041534, -1.171332861, -1.194476673, -1.045067123, -1.940968083, -2.01721308, -2.524451353, -2.7236590769999998, -2.362822909, -2.002054981, -2.500835952, -2.654973598, -2.149327999, -1.964240942, -0.739408733, -0.588322995, -2.25590829, -0.9855505090000001, -0.7978849379999999, -1.6426108430000002, -3.3519559830000003, -2.7834392219999997, -2.273443711, -2.062823949, -2.0346880780000003, -1.436563785, -1.31066947, -0.921112782, -0.947514257, -1.5327021969999999, -2.268261039, -2.423958975, -1.7992803780000002, -1.220816365, -1.545941286, -3.252689925, -2.175943391, -2.0967041269999998, -2.301775706, -1.260459089, -2.224202112, -1.188691585, -1.74357223, -1.316680123, -2.398856992, -1.883011322, -1.976942795, -1.540664434, -1.021877213, -0.925302513, -3.2651574639999996, -1.973181441, -2.0385911119999998, -2.20915345, -1.538150661, -1.8340873619999998, -2.140026004, -0.632470619, -0.9294518209999999, -0.554195149, -2.342190435, 0.21183849800000001, -1.4688354469999998, -1.308811409, -2.195230618, -0.74619518, -0.832042878, -2.4660195209999998, -1.6458634490000001, -1.4338142230000002, -2.081898765, -1.845326239, -2.546849825, -1.989715956, -2.538206658, -2.5159622059999998, -2.387704029, -2.6793157290000003, -1.465205893, -1.885562692, -2.6292398269999997, -2.87336216, -1.8777979759999999, -2.249575147, -2.56608741, -2.282976621, -2.754823687, -2.712360513, -1.746873455, -2.76705717, -0.135336551, -0.63025114, -2.624734335, -1.76263297, -2.290895211, -1.642834699, -1.61345839, -2.63413666, -1.545126414, -1.554428476, -1.56567436, -2.467363877, -2.292128032, -0.528836259, -2.239869305, -0.565012179, -1.638582206, -1.852132264, -2.404343223, -2.18070991, -0.9616645429999999, 0.573210593, -1.391437764, -1.9428479440000002, -0.91332221, -2.4006248219999997, -1.376693965, -1.842262569, -1.39689237, -0.554561822, -2.578698123, 0.004845971, -2.1018642069999998, -2.060765765, -2.948082775, -1.3658252690000001, -1.93576523, -1.407267637, -1.38205048, -0.841382898, -2.9118219119999997, -0.8023847270000001, -2.483672957, -1.560953864, -0.952408653, -0.115975286, -0.396491431, 0.145801428, -1.849974037, -0.754267857, -0.092494139, -3.52967539, -0.9870458440000001, -0.938611338, 0.260860865, 0.340046313, -0.712406469, -0.621882387, -1.319814571, -1.215729655, -2.665929152, -1.6380609959999999, -1.8880944730000002, -1.415263484, -2.955537104, -2.042323075, -1.243428618, -0.102268805, -0.739039881, -1.494777161, -2.097133615, -1.413449161, -1.671130915, -1.265389818, -1.093147648, -0.526481968, -2.224234664, -0.12470612199999999, -2.270804192, -1.7872453469999998, -1.036649589, 0.966852238, -0.0056605940000000006, 0.944228368, -0.206824252, -2.3111672619999997, -0.36245689600000003, -0.932491813, -2.008061222, -2.612573884, -0.699655758, -1.866238347, -1.934350681, -0.260550387, -0.699703008, 0.47479175799999995, -0.1977973, -1.3113461309999999, 0.120219521, -3.403929754, -0.422689384, -1.7656220630000001, -0.8395493490000001, -0.908395465, -1.1121191, -0.7700243720000001, -2.077954975, -0.129388122, -0.43628481700000005, -2.7936988030000003, -0.861131622, -1.532197091, -0.474787405, -1.583809005, -1.1559763779999999, -0.118755341, -3.16421232, -1.6092045169999998, -0.817092833, -1.499107861, -1.16090423, -2.337213633, -2.577482006, -2.743860438, -0.728201731, -0.860671205, -1.9089882919999999, -3.320428525, -1.5597784940000001, -0.275191768, -1.286254435, -0.641284526, -1.127962135, 0.281559715, -1.655468725, -1.039734313, -1.320275767, -1.212478027, -2.641667307, -1.826667527, -0.799008211, -1.4872966, -1.25140093, 0.079093893, -1.304138548, 0.024740431, -0.502556048, -1.519120403, -1.101336442, -0.295551613, -3.075393325, -0.006220476999999999, -1.369069343, -1.052443255, -0.67755485, -1.384305523, 0.06914782, -0.73580158, -2.18172358, -0.615923701, -1.0129139, -0.48646382299999996, -0.9090471640000001, -0.8999508079999999, -0.835897448, -0.522537934, -0.313097629, -1.009308845, -0.555041377, -1.8725131119999998, -0.8574027540000001, 0.071064667, 0.5664804929999999, -2.950134962, -1.737087807, -0.353889334, -0.8403729129999999, -0.245285845, -1.0603871390000001, -1.040422903, -2.165763445, -1.007234375, -1.789305774, -1.8258206019999998, -1.2546485809999999, -1.14153601, -2.375846218, -0.45676182, -0.510812498, -0.104264817, -1.074707578, -0.200083077, -2.744457798, -1.8843523119999999, -1.231130424, 0.544241454, -0.40549790399999996, -1.7118124730000002, -0.987073566, -1.052467727, -1.594132675, -2.536215683, -1.203183046, -2.2690671630000003, -1.742900661, -2.8628606480000003, -1.9631360469999999, -0.785718989, -1.8213971930000001, -2.601497993, -1.133677933, -1.858831637, -1.392789957, -1.5020675369999998, -1.7976813440000001, 0.500062235, -0.537186659, -2.709285623, -2.788857384, 0.049295932, -2.314187741, -2.64902363, -1.7803047969999999, -0.10793966599999999, -0.35986687700000003, -0.460316546, -1.871824065, -0.057944357, -0.536029213, -1.3245513279999999, -0.136892383, 0.25546054100000004, -1.1989280709999999, 1.289275816, -0.621972263, -0.911057055, -1.580970414, -2.360009235, 0.37558740399999996, -0.698302533, -1.6071607, -1.55135919, -1.9233651930000002, -2.427809564, -1.522596145, -0.7278850570000001, -1.5515263940000001, -1.298340818, -0.365093118, -2.416530915, -1.9019194369999999, -3.101971906, -2.5859083590000003, -2.246007796, -2.608282048, -2.187431065, -2.882630345, -2.54349878, -1.9447046730000002, -2.3482311719999998, -2.311410774, -2.760374038, -3.53168686, -3.415781255, -1.832601247, -2.33969165, -1.121301841, -1.1150693790000001, -3.3461919389999997, -1.942116474, -2.068389326, -3.0520812569999998, -2.816911847, -2.7424654889999998, -2.017839895, -1.84306115, -2.321029886, -3.236543305, -3.309177688, -2.422319978, -3.25298965, -2.095160981, -3.5853693030000002, -2.341073206, -1.6386440930000001, -2.327443133, -2.518638411, -2.129030307, -1.41070113, -1.054182004, -2.373624272, 0.401052549, -1.676793243, -2.1137726619999997, -1.876345467, -2.198923199, -2.80187364, -2.5151439140000003, -1.776978164, -2.014503916, -2.383689042, -1.480732779, -1.666457149, -1.076314585, -3.4638807689999997, -2.3085463969999998, -1.6604787730000001, -1.19023444, -1.461231114, -1.168033005, -2.217568481, -1.215503634, -2.510224011, -2.706857232, -2.183355813, -2.618078358, -1.0819110159999998, -2.500023894, -1.370184186, -2.4332769919999997, -1.666339889, -2.8576729889999997, -1.625672262, -2.5263536280000003, -2.7644404369999998, -0.054006612999999995, -2.116463269, -1.998301479, -2.254569968, -3.000127312, -2.7360072989999997, -2.7577377469999997, -1.713551786, -1.755899818, -2.556878206, -2.5411241209999997, -1.936371534, -3.394874047, -1.429361395, -2.162795917, -1.716466096, -1.5803638569999998, -1.6178738469999998, -2.925890992, -2.45685538, -3.676267773, -2.944232724, -2.8149618810000003, -0.611789473, -3.335810315, -1.769661427, -2.2116362290000002, -2.9375194639999997, -3.2762380110000002, -2.518195158, -2.194476549, -2.385984476, -1.172236203, -2.953939103, -2.407964427, -3.636833783, -1.16733657, -2.2811960019999997, -1.119710491, -2.463242714, -2.201092557, -2.6658853959999997, -2.0501231730000002, -2.321692814, -1.2667610459999998, -1.759131575, -2.862763453, 0.004187281, -1.4724422590000001, -1.770700571, -1.147913854, -2.2233635080000003, -2.39059848, -2.66580066, -2.552533902, -2.497270881, -2.7193959039999998, -2.519764895, -1.8149174380000002, -1.9886157830000002, -1.683489623, -1.76392627, -1.179981502, -2.7932133919999997, -1.696484052, -2.8461608089999997, -2.559770934, -3.6399355539999996, -1.041656664, -3.64289216, -2.278462418, -1.81048116, -2.815430619, -2.319227544, -1.803128658, -1.82895049, -1.852586129, -1.178851866, -1.604197427, -2.1254284009999997, -2.32817047, -2.348879783, -3.195814315, -3.037707345, -2.37252525, -3.3736000510000004, -2.755436885, -2.58066491, -2.036273591, -2.908671185, -2.177340304, -2.771850362, -0.675484106, 0.603083106, -0.511090666, 0.557032679, 0.213840367, 0.226051243, 0.845298282, -0.9732645679999999, 0.21322572399999998, 1.2562954, -0.567859467, -1.7673377680000002, -1.657961295, -3.038175323, -0.20350797899999998, 1.275683999, -1.4843560359999999, -0.583696639, 0.800924596, 0.940750978, -1.989870433, -0.149306425, -0.584273721, -2.1892308590000003, 0.35870375600000004, 1.177972616, -0.680406408, -3.204948742, -2.467111578, -0.247205703, -2.115730196, -0.6239427329999999, 0.7944078590000001, 0.259716548, -2.358667038, 0.16848627300000002, -0.63975029, -0.6552987029999999, 0.9360828309999999, -0.6034420770000001, -3.1016425460000003, -3.5439874060000003, 1.052183905, 0.183285383, -0.533508899, -2.836400575, -1.561415394, -2.913001967, -2.31050877, -2.41721102, -3.53942996, -1.455174094, -2.291102447, -2.158912225, 0.393651401, -1.7808379330000002, 0.247436299, -1.902984077, -1.374108359, -0.601601499, -2.403804934, -2.846766899, -3.596750775, -2.978524086, -2.6915303839999996, -2.493544356, -1.78905053, -2.07868661, -2.785488375, -1.883648915, -1.5035054719999998, -1.732828438, -2.793147802, -3.088371668, -2.476984216, -1.2616519959999999, -2.194383485, -0.0800949, 0.024668264, -1.697271948, -1.495246562, -2.247699737, -0.483464856, 0.8239632029999999, 0.853612643, -1.4127050719999998, -1.686487447, 0.398470929, -0.959596062, -0.238184595, -2.538234476, -1.8965780159999999, -2.496833038, -1.863075566, -1.895443508, -2.348893092, 0.831305373, 0.514309064, -1.2918937640000001, -2.193262606, -0.42912359899999997, -1.530380628, 0.06665353, -0.784494976, -0.529575682, -1.643398074, -1.0005281959999999, -0.95282901, -1.2834048740000001, -0.412664873, -2.355404131, 1.078380806, 0.473172404, -1.052631917, -0.685224828, 0.60625712, 0.552231143, -1.507738799, 0.8872512859999999, 0.356843257, -0.715306862, -2.2739497319999997, -0.583532619, -0.270183309, -0.20107465, -0.408106535, 0.339971588, -0.41973150299999995, -0.056406551, -0.081595481, -0.519230627, -0.8032629729999999, -0.7552867740000001, -3.431114154, -1.572730112, -0.144546229, 1.103341259, 0.13819871, -1.002324736, 1.0881570729999999, -0.19506093, 0.716756594, -0.774668028, 0.089047105, -0.018214118, -0.292949238, 0.56670268, 0.288768108, 0.588440804, -1.253895746, -0.539312321, 0.251353117, -0.30538342, -0.43138856600000003, -0.9239256640000001, -0.042496962, -0.14977384900000001, -0.31767018399999997, -0.092406451, 0.909419695, 0.5920796620000001, 1.316493176, -0.340544236, -0.177925262, 0.605469731, 0.493708415, -0.799487257, -1.11705484, -1.097408615, 0.971212194, 0.11461555, 0.079699363, 0.48227639299999997, 0.236548777, -1.3824556669999999, -0.5161723229999999, -0.12110512699999999, -0.769838472, 0.137951681, -0.465871169, -0.28055423, -0.262502177, -0.362712542, -0.093418296, 0.44053301799999994, -0.41597369, 0.164178505, 0.223282208, -0.249112213, -0.138491057, 0.816261254, -0.12234291900000001, -1.037523038, 0.020153195, 0.065674223, -0.22743055899999998, 0.983627013, -0.189495706, 0.006880764, -0.44793970200000005, 0.661885697, 0.00493344, -0.334656174, 0.522033521, 0.381140286, -0.349618621, -0.35889912700000004, -0.816671838, 0.029162242999999997, -0.0032605240000000003, -0.726209978, 1.008282891, -0.096164721, -1.435921134, 0.143048465, 0.33918707299999995, 0.7373834979999999, -0.130639229, 0.048332444, -0.8257968640000001, 0.507236967, -1.3125722640000002, 0.902661245, 0.369249027, -0.23912037100000003, 0.711158299, -0.253503254, 1.12429464, -0.940741963, -0.881503978, 0.21707516, 0.847926538, -0.777331928, -1.257712963, -0.237038257, -0.78202723, -0.6121580529999999, 0.126890027, 0.065357628, 0.139892877, 0.492744179, -1.097004912, 0.493526931, -0.800782387, 0.073434314, 0.323143442, 0.523273059, 0.987861812, 0.304712221, 0.14441463400000001, -0.448596035, 0.221019708, 0.847763908, 0.898551622, -0.116008005, 0.294811559, 0.307226901, 1.178357171, 0.233823812, 0.555416606, 0.573393122, -0.315092518, 0.198952396, -0.274810389, 0.551066288, -0.776042454, 0.9550472609999999, -0.055765398, -0.03843088, 1.065174212, 0.292194255, 0.767159433, 0.11899517400000001, -0.296560369, 0.977323053, 0.34502973, 0.40527521200000005, 0.25506381, 0.594855871, 0.6661157679999999, 0.36104051, 0.107541264, 0.144573631, -1.865126616, -3.008131033, -0.45504457200000004, -2.101678771, -0.755870093, -1.9176847209999999, -1.710588021, -2.084662291, -1.2746464309999999, -1.198710222, -0.743778024, -0.92631875, -0.659302511, -1.220682609, 0.24416459899999998, -0.434453496, -0.39146418899999996, -1.585192655, -1.893036688, -3.0421357810000003, -1.3315417, -1.38298969, -1.230297184, -0.417731288, 0.277173161, -2.041095297, -1.006358141, 0.278696382, -0.274541107, -0.432677528, -0.060860764000000005, -0.674418726, -1.503307098, -1.9011605930000002, -3.1820929889999996, -1.396125621, -1.985606983, -1.829778572, 0.041329904, -2.57511146, -2.437427843, -2.008490859, -0.829202648, -0.9878633729999999, -1.063612593, -1.680554848, -0.7692072529999999, -2.2734692819999998, -1.768707595, -2.6169351130000003, -3.041761967, -3.477841745, -1.45565771, -2.708607461, -2.047853485, -2.512059914, -2.180453384, -2.129102586, -1.9307749369999998, -0.655743139, -3.164808116, -1.9659852290000002, -1.6707284430000002, -2.0151774469999997, -1.301586446, -0.7644659420000001, -1.7276296340000001, -1.753390777, -2.616035353, -0.75993091, -2.8853845160000002, -1.842191006, -2.0127335669999997, -2.012211289, -3.343134014, -1.274794998, -0.533714791, -2.039424097, -1.782425874, -2.030086654, -0.8889691690000001, -1.319049924, -2.016611105, -1.485908196, -2.711545035, -0.739871464, -2.485969587, -2.675252681, -2.901986777, -2.601069636, -0.37562874700000004, -2.77416827, -1.506059228, -1.1141250790000001, -0.398538899, -1.5214628559999999, -2.457391864, -2.822005817, -1.2643223940000001, -2.1094126159999997, -1.798356059, -2.051922169, -2.155723039, -0.384954233, -3.223443968, -1.057806599, -3.191054044, -2.68623973, -3.473291694, -0.780457475, -1.619339458, -1.199124971, -0.82739846, -2.949987825, -1.638285475, -1.661991499, -0.96924999, -1.68271827, -1.029886829, 0.035545146, 0.410207317, -1.38178624, -2.590842009, -1.691501234, -1.029448678, 0.8409999359999999, -1.4729828090000001, -3.1433874019999997, -3.1206427089999997, -0.072256895, 0.224556859, -1.202415911, -0.757147963, -1.199019979, -0.78404479, -0.28101074600000003, 0.21845871, 0.589001578, 0.437436996, -0.580630824, -0.70142277, -0.379864669, -1.033798688, -1.440498588, -1.325550349, -0.610296731, -0.500558945, -1.4243681819999998, 0.497026829, -1.075147178, -0.39465262799999995, -0.7494882390000001, 0.698203708, -0.452680032, -0.621558611, -0.69788138, 1.00540027, -0.57848221, -0.492697273, -1.345053241, -0.41617360200000003, -0.12103065199999999, -1.451268384, -0.571787383, -0.296045795, -1.324563641, -1.819263041, -1.010812418, -0.944329891, 0.370307626, -0.230734605, -0.722555848, -1.97585251, -1.392464649, -1.916807411, -3.355931015, -1.3093218290000002, -0.638945148, -1.7957734330000001, -2.5161788130000002, -0.026754507, -1.066312659, -0.52620371, -0.332729519, -0.203188101, -0.7070891109999999, -0.671214268, -0.069266933, 0.314463848, -0.36197749799999995, -1.087621777, -0.669352415, -1.40300932, -0.529921906, -2.2565056130000003, -1.19295363, -1.738855026, -1.07681492, 0.171158967, -2.362704181, -1.8675749330000002, -1.360540347, -1.487493776, -0.90345299, -0.703416213, 0.823503573, 0.32007246, -0.5767517010000001, -0.231138452, -0.124091083, -0.673725777, -1.646924298, -1.2699998890000002, -0.578084929, -0.769484375, -1.768397921, -1.6522364630000002, -2.186441667, -1.43205884, -0.35932853299999995, -1.2036360179999999, -0.448541391, -0.776034476, -0.7695529529999999, -1.602807265, -1.4118837030000002, -1.234426504, -2.556269816, -0.775744242, -1.53032668, -1.524661276, -1.192042786, -2.169250566, -1.377255484, -1.461907733, -2.086623467, -0.64619549, -0.636687494, -0.663721971, -0.22357072100000003, -0.871826488, 0.38760704799999995, -0.41969098200000005, -0.28903163, -1.8371651569999998, -1.767730154, 0.276671488, -1.580279588, -0.288221027, -1.397628284, -0.8173931440000001, -1.763012421, -0.253213709, -0.636261431, -1.36136559, -0.40006892299999997, 0.173562301, -0.116506835, -0.768736225, -1.480295605, -1.131979892, -1.672774582, -0.833513087, -1.205215997, -1.03174025, -0.46342753799999997, -0.559436168, -0.565150113, -1.1875823540000001, -1.68110811, -0.296345608, -0.105222174, 0.5935598320000001, 0.12982992, -0.654343204, -0.176114981, -0.02829402, -0.62782632, -0.527737284, -0.389981467, -1.349666915, -1.28772254, -0.5806449539999999, -1.7681307819999998, -0.7869341540000001, -1.008496236, -1.1723039579999999, -0.548806589, -0.159325458, -0.12409293199999999, -0.258175247, 0.289033196, -0.12918164199999999, -0.436762279, -0.521839701, 0.454251381, -0.351625969, -0.36873046, -0.9741506759999999, -0.133873217, -0.7667638840000001, 0.561113556, 0.027568232999999998, -1.5872154330000001, -1.1999571820000001, -0.556143721, -1.173475813, -1.695788714, -2.163125398, -2.306659296, -2.4214142880000002, 0.48415377600000004, -0.5637588570000001, -0.629101667, -0.599905635, -0.624756286, -1.402129583, -0.9748904340000001, -0.71340362, -0.9815239640000001, -1.059070623, -0.788881163, -0.8206998940000001, -0.159054045, -0.49523321600000003, 0.548825845, -0.780167849, -0.193262027, -1.647891253, -0.9305113420000001, -0.96427267, -1.079335149, -0.763638068, 0.501851747, -0.015542567, -0.140159605, -1.6393535830000001, -0.021926319, -0.9654690309999999, -1.1888805820000001, -0.26715871199999996, -2.363743905, -1.5423145269999998, -0.4144323, -0.9595909, -1.650243264, -0.983660168, -0.511124158, -1.733871706, 0.164394991, -0.654382262, 0.342018224, 0.09999663800000001, -0.109608482, -0.36029382600000004, -1.7171802440000001, -0.647403626, -0.286247192, -0.21279072100000002, 0.33573749, 0.434447474, -0.9215528690000001, -1.2931679, 0.28646735100000004, -1.00850791, -0.435472611, -0.620368143, -0.44878083399999996, -0.479415332, -2.076771965, -1.303200077, -0.5070222870000001, -0.824196587, -0.5162316889999999, -1.734927169, -1.679017079, -0.969682171, -0.51751712, 0.29324228399999996, -0.509803903, 0.558974921, -1.134066623, -1.501889929, -1.012393435, -0.049400525, -0.32165293, -0.739089228, 0.145040213, -0.848789922, -0.6978402220000001, 0.125885031, -0.012844178999999999, -1.1700536670000001, 0.050397486, -1.41812905, -1.7006187640000001, -0.938620675, -1.105646701, -1.646760068, -0.5894011339999999, 0.079328186, -0.416301583, -0.61894531, -0.610173609, -0.698774597, -0.600053432, -0.605236051, -0.279422042, -0.9561182029999999, -0.442098974, -0.827770126, -0.250211342, -1.02023057, -1.979186805, -1.383705397, 1.029429538, -0.219401793, -1.154026871, -1.3763221980000002, -1.955010427, -0.5694035239999999, -0.613595584, -1.2699270059999999, -0.72505481, -0.925382055, -1.224631689, -0.409268285, -1.494802524, -0.8184038920000001, -2.253427614, -1.340656035, -1.628925901, -1.220072399, -1.615115569, -1.171994378, -2.8852806, -0.7601448909999999, -1.074493888, -0.702634106, -0.025405297, -1.317047987, -0.332445996, -1.839646897, -0.345776961, -1.796458718, -1.5335201059999999, -1.398764415, -0.649769815, -1.244948811, -0.870159846, -0.213932294, 0.04682205, -0.00392285, -0.10073523699999999, -0.38631382200000003, -0.9778154170000001, -1.159264533, -1.154604142, -1.960115381, -1.417609212, -2.5898319340000002, -0.635887771, 0.123510589, -0.282837043, 0.5305142820000001, -1.285439638, 0.430458655, -0.461795522, -1.040140364, -1.028244259, -0.320310459, -0.7428356540000001, -1.786959444, -1.161769606, -1.4883725819999998, -1.543063106, -2.500101134, -0.9197327240000001, -1.4766612140000002, 0.380898468, -1.8978654469999998, -2.802927561, -1.3623320380000001, 0.377163132, -0.620987367, 0.54748652, -0.135174835, -0.662825727, 0.383169435, -0.66377888, -0.869539752, -0.158521513, -0.7809983620000001, 0.40730717, 0.652234999, -0.11879421400000001, -0.427376752, -0.985785397, 0.22503686399999998, -0.44632581, -0.595841399, -0.206749288, 0.6309227789999999, -0.973742407, -1.7686076569999998, -1.180387718, -1.2495314990000002, -1.21117325, 0.600508917, 0.051885920999999995, 0.700634685, 0.500174428, 1.27984618, -0.962189373, -1.083530426, -3.2232020980000002, 0.123882554, -0.19759880300000002, -1.342369273, 0.16641750800000002, -0.067349413, -0.405085984, -0.572767569, -0.339629515, -0.188191513, 0.478576257, 0.21385432699999998, -0.879892862, -0.170251333, 1.281422354, -0.44546144, 0.664597941, 0.766971435, 1.4443849519999998, -0.6726982659999999, -0.67345523, -0.66139437, 0.639664825, 0.73361431, 0.19899776800000002, 0.331813697, -0.231295405, 1.465054812, 0.598522751, -1.019399237, -0.183862181, 0.304491108, -0.186014791, -0.281015345, -1.122988261, -0.26701251, 0.247029737, 0.46726408399999997, -0.354378564, -0.377535433, 0.40437854, -3.218972393, -3.078083218, 0.943020903, -0.788321808, -0.813542601, -1.82115147, -1.8377609259999999, -0.858525293, -2.249781502, -3.2860646289999997, -0.604038414, -0.033046431, -0.48559610700000005, -2.053791606, -0.732739145, -0.7662270240000001, -1.291052921, -0.42760112899999997, -2.440718232, -1.360107173, -0.030670606, 0.307291723, -2.255142197, -0.801093115, -1.581037089, -1.7957833090000002, -2.4462289740000003, -1.4383621480000002, -0.925525145, -2.131611375, -0.7064312709999999, -1.2815534020000001, -1.540992613, -2.133114882, -1.766723874, -0.9710273359999999, -0.556713185, -1.2002060270000001, -3.31528229, -1.471859295, -2.2061304330000002, -2.5426323980000003, -1.706167744, -1.059062701, 0.031372778, 0.136377219, -0.581430381, -1.598382296, -0.960042463, -0.889507777, 0.20893682800000002, -1.835393935, 0.005043864, -0.010102659, -1.234616781, -0.45305162299999996, 0.090334665, -0.522768858, 0.150524028, 0.53558468, -0.661596356, -0.033403452, 0.008935664, -1.216708721, -0.258269554, -1.415011332, -1.177886917, -1.243383855, -1.507300932, 0.035570382000000005, -0.656458538, -0.125892568, -0.810443543, 0.183676938, -0.8281238540000001, -1.208209756, -2.045048792, -0.400910655, 0.088763638, -0.003054017, 0.596820123, 0.142539774, 0.627643273, -1.291127806, -1.190053049, -2.68107788, -2.321549629, -2.99484817, -2.578989066, -2.0374664730000003, -2.142987561, -2.790745419, -2.371111888, -2.330077146, -1.949838508, -2.670899861, 0.47845220899999996, 0.069619504, -1.312904807, 0.021935307999999997, -1.8138509040000002, -1.4436670180000002, -1.9999222669999999, -1.221229701, -1.007687996, -1.333100456, -1.564267941, -2.44570688, -1.3053055470000001, -1.9818705159999999, -3.263930896, -0.9883045490000001, -1.6326342530000002, -2.49253904, -0.212349302, 0.646549436, -1.9333583019999998, -2.4985013769999997, -1.729508565, -3.11097387, -2.415178226, -1.6977920519999998, -2.028694853, -2.830075383, -1.198192324, -1.050635191, -2.099604652, -1.51834981, -2.302414545, -1.991155658, -0.26127875, -2.857489634, -0.940478103, -2.487055521, -2.758743415, -0.86241702, -1.506474394, -1.891061968, -0.8820081679999999, 0.42625568799999997, -1.156798852, -1.7859843640000002, 0.309697434, -1.188593065, -1.523820601, -1.014886441, -2.071271224, -0.61404138, -1.71147614, -0.19464915300000002, -1.502453987, -1.394596543, 0.176243348, -0.284613235, -3.527563909, -1.865442606, -2.158626155, -1.871531787, -0.5319518520000001, -0.967701693, -1.0023406940000001, -2.251709791, 0.09574508400000001, -2.441540897, -1.822256378, -2.430305441, -1.5729815759999999, -1.208734075, -0.9804527140000001, 0.373124454, -2.459245642, -2.169683991, -1.6719304469999998, -1.411310796, -2.362779263, -1.681544004, -1.9617343180000002, -2.189229756, -1.055061636, -0.250208993, -1.3667052430000002, -1.7539961480000001, -0.9492298220000001, 0.223365705, -1.5649862630000002, -2.128637056, -1.9290766719999999, -0.949682356, -1.7524997, -2.434505315, -1.1617458809999999, -1.67345497, -2.128850065, -2.033737526, -0.894009394, -2.000163711, -0.123139093, -0.6753361109999999, -2.251382021, -1.3753448380000002, -1.680656465, 0.026327432, 0.8511712240000001, 0.490577969, 0.584865593, 0.566717326, 0.123378824, 1.029667868, 0.12045764099999999, 0.747774563, 1.196247777, 0.546674687, 0.608107952, 1.7113898269999999, 0.18947566899999999, 0.255209381, -0.21527918100000001, 0.300778753], \"xaxis\": \"x\", \"yaxis\": \"y\"}],\n",
              "                        {\"barmode\": \"relative\", \"legend\": {\"tracegroupgap\": 0}, \"margin\": {\"t\": 60}, \"template\": {\"data\": {\"bar\": [{\"error_x\": {\"color\": \"#2a3f5f\"}, \"error_y\": {\"color\": \"#2a3f5f\"}, \"marker\": {\"line\": {\"color\": \"#E5ECF6\", \"width\": 0.5}}, \"type\": \"bar\"}], \"barpolar\": [{\"marker\": {\"line\": {\"color\": \"#E5ECF6\", \"width\": 0.5}}, \"type\": \"barpolar\"}], \"carpet\": [{\"aaxis\": {\"endlinecolor\": \"#2a3f5f\", \"gridcolor\": \"white\", \"linecolor\": \"white\", \"minorgridcolor\": \"white\", \"startlinecolor\": \"#2a3f5f\"}, \"baxis\": {\"endlinecolor\": \"#2a3f5f\", \"gridcolor\": \"white\", \"linecolor\": \"white\", \"minorgridcolor\": \"white\", \"startlinecolor\": \"#2a3f5f\"}, \"type\": \"carpet\"}], \"choropleth\": [{\"colorbar\": {\"outlinewidth\": 0, \"ticks\": \"\"}, \"type\": \"choropleth\"}], \"contour\": [{\"colorbar\": {\"outlinewidth\": 0, \"ticks\": \"\"}, \"colorscale\": [[0.0, \"#0d0887\"], [0.1111111111111111, \"#46039f\"], [0.2222222222222222, \"#7201a8\"], [0.3333333333333333, \"#9c179e\"], [0.4444444444444444, \"#bd3786\"], [0.5555555555555556, \"#d8576b\"], [0.6666666666666666, \"#ed7953\"], [0.7777777777777778, \"#fb9f3a\"], [0.8888888888888888, \"#fdca26\"], [1.0, \"#f0f921\"]], \"type\": \"contour\"}], \"contourcarpet\": [{\"colorbar\": {\"outlinewidth\": 0, \"ticks\": \"\"}, \"type\": \"contourcarpet\"}], \"heatmap\": [{\"colorbar\": {\"outlinewidth\": 0, \"ticks\": \"\"}, \"colorscale\": [[0.0, \"#0d0887\"], [0.1111111111111111, \"#46039f\"], [0.2222222222222222, \"#7201a8\"], [0.3333333333333333, \"#9c179e\"], [0.4444444444444444, \"#bd3786\"], [0.5555555555555556, \"#d8576b\"], [0.6666666666666666, \"#ed7953\"], [0.7777777777777778, \"#fb9f3a\"], [0.8888888888888888, \"#fdca26\"], [1.0, \"#f0f921\"]], \"type\": \"heatmap\"}], \"heatmapgl\": [{\"colorbar\": {\"outlinewidth\": 0, \"ticks\": \"\"}, \"colorscale\": [[0.0, \"#0d0887\"], [0.1111111111111111, \"#46039f\"], [0.2222222222222222, \"#7201a8\"], [0.3333333333333333, \"#9c179e\"], [0.4444444444444444, \"#bd3786\"], [0.5555555555555556, \"#d8576b\"], [0.6666666666666666, \"#ed7953\"], [0.7777777777777778, \"#fb9f3a\"], [0.8888888888888888, \"#fdca26\"], [1.0, \"#f0f921\"]], \"type\": \"heatmapgl\"}], \"histogram\": [{\"marker\": {\"colorbar\": {\"outlinewidth\": 0, \"ticks\": \"\"}}, \"type\": \"histogram\"}], \"histogram2d\": [{\"colorbar\": {\"outlinewidth\": 0, \"ticks\": \"\"}, \"colorscale\": [[0.0, \"#0d0887\"], [0.1111111111111111, \"#46039f\"], [0.2222222222222222, \"#7201a8\"], [0.3333333333333333, \"#9c179e\"], [0.4444444444444444, \"#bd3786\"], [0.5555555555555556, \"#d8576b\"], [0.6666666666666666, \"#ed7953\"], [0.7777777777777778, \"#fb9f3a\"], [0.8888888888888888, \"#fdca26\"], [1.0, \"#f0f921\"]], \"type\": \"histogram2d\"}], \"histogram2dcontour\": [{\"colorbar\": {\"outlinewidth\": 0, \"ticks\": \"\"}, \"colorscale\": [[0.0, \"#0d0887\"], [0.1111111111111111, \"#46039f\"], [0.2222222222222222, \"#7201a8\"], [0.3333333333333333, \"#9c179e\"], [0.4444444444444444, \"#bd3786\"], [0.5555555555555556, \"#d8576b\"], [0.6666666666666666, \"#ed7953\"], [0.7777777777777778, \"#fb9f3a\"], [0.8888888888888888, \"#fdca26\"], [1.0, \"#f0f921\"]], \"type\": \"histogram2dcontour\"}], \"mesh3d\": [{\"colorbar\": {\"outlinewidth\": 0, \"ticks\": \"\"}, \"type\": \"mesh3d\"}], \"parcoords\": [{\"line\": {\"colorbar\": {\"outlinewidth\": 0, \"ticks\": \"\"}}, \"type\": \"parcoords\"}], \"pie\": [{\"automargin\": true, \"type\": \"pie\"}], \"scatter\": [{\"marker\": {\"colorbar\": {\"outlinewidth\": 0, \"ticks\": \"\"}}, \"type\": \"scatter\"}], \"scatter3d\": [{\"line\": {\"colorbar\": {\"outlinewidth\": 0, \"ticks\": \"\"}}, \"marker\": {\"colorbar\": {\"outlinewidth\": 0, \"ticks\": \"\"}}, \"type\": \"scatter3d\"}], \"scattercarpet\": [{\"marker\": {\"colorbar\": {\"outlinewidth\": 0, \"ticks\": \"\"}}, \"type\": \"scattercarpet\"}], \"scattergeo\": [{\"marker\": {\"colorbar\": {\"outlinewidth\": 0, \"ticks\": \"\"}}, \"type\": \"scattergeo\"}], \"scattergl\": [{\"marker\": {\"colorbar\": {\"outlinewidth\": 0, \"ticks\": \"\"}}, \"type\": \"scattergl\"}], \"scattermapbox\": [{\"marker\": {\"colorbar\": {\"outlinewidth\": 0, \"ticks\": \"\"}}, \"type\": \"scattermapbox\"}], \"scatterpolar\": [{\"marker\": {\"colorbar\": {\"outlinewidth\": 0, \"ticks\": \"\"}}, \"type\": \"scatterpolar\"}], \"scatterpolargl\": [{\"marker\": {\"colorbar\": {\"outlinewidth\": 0, \"ticks\": \"\"}}, \"type\": \"scatterpolargl\"}], \"scatterternary\": [{\"marker\": {\"colorbar\": {\"outlinewidth\": 0, \"ticks\": \"\"}}, \"type\": \"scatterternary\"}], \"surface\": [{\"colorbar\": {\"outlinewidth\": 0, \"ticks\": \"\"}, \"colorscale\": [[0.0, \"#0d0887\"], [0.1111111111111111, \"#46039f\"], [0.2222222222222222, \"#7201a8\"], [0.3333333333333333, \"#9c179e\"], [0.4444444444444444, \"#bd3786\"], [0.5555555555555556, \"#d8576b\"], [0.6666666666666666, \"#ed7953\"], [0.7777777777777778, \"#fb9f3a\"], [0.8888888888888888, \"#fdca26\"], [1.0, \"#f0f921\"]], \"type\": \"surface\"}], \"table\": [{\"cells\": {\"fill\": {\"color\": \"#EBF0F8\"}, \"line\": {\"color\": \"white\"}}, \"header\": {\"fill\": {\"color\": \"#C8D4E3\"}, \"line\": {\"color\": \"white\"}}, \"type\": \"table\"}]}, \"layout\": {\"annotationdefaults\": {\"arrowcolor\": \"#2a3f5f\", \"arrowhead\": 0, \"arrowwidth\": 1}, \"coloraxis\": {\"colorbar\": {\"outlinewidth\": 0, \"ticks\": \"\"}}, \"colorscale\": {\"diverging\": [[0, \"#8e0152\"], [0.1, \"#c51b7d\"], [0.2, \"#de77ae\"], [0.3, \"#f1b6da\"], [0.4, \"#fde0ef\"], [0.5, \"#f7f7f7\"], [0.6, \"#e6f5d0\"], [0.7, \"#b8e186\"], [0.8, \"#7fbc41\"], [0.9, \"#4d9221\"], [1, \"#276419\"]], \"sequential\": [[0.0, \"#0d0887\"], [0.1111111111111111, \"#46039f\"], [0.2222222222222222, \"#7201a8\"], [0.3333333333333333, \"#9c179e\"], [0.4444444444444444, \"#bd3786\"], [0.5555555555555556, \"#d8576b\"], [0.6666666666666666, \"#ed7953\"], [0.7777777777777778, \"#fb9f3a\"], [0.8888888888888888, \"#fdca26\"], [1.0, \"#f0f921\"]], \"sequentialminus\": [[0.0, \"#0d0887\"], [0.1111111111111111, \"#46039f\"], [0.2222222222222222, \"#7201a8\"], [0.3333333333333333, \"#9c179e\"], [0.4444444444444444, \"#bd3786\"], [0.5555555555555556, \"#d8576b\"], [0.6666666666666666, \"#ed7953\"], [0.7777777777777778, \"#fb9f3a\"], [0.8888888888888888, \"#fdca26\"], [1.0, \"#f0f921\"]]}, \"colorway\": [\"#636efa\", \"#EF553B\", \"#00cc96\", \"#ab63fa\", \"#FFA15A\", \"#19d3f3\", \"#FF6692\", \"#B6E880\", \"#FF97FF\", \"#FECB52\"], \"font\": {\"color\": \"#2a3f5f\"}, \"geo\": {\"bgcolor\": \"white\", \"lakecolor\": \"white\", \"landcolor\": \"#E5ECF6\", \"showlakes\": true, \"showland\": true, \"subunitcolor\": \"white\"}, \"hoverlabel\": {\"align\": \"left\"}, \"hovermode\": \"closest\", \"mapbox\": {\"style\": \"light\"}, \"paper_bgcolor\": \"white\", \"plot_bgcolor\": \"#E5ECF6\", \"polar\": {\"angularaxis\": {\"gridcolor\": \"white\", \"linecolor\": \"white\", \"ticks\": \"\"}, \"bgcolor\": \"#E5ECF6\", \"radialaxis\": {\"gridcolor\": \"white\", \"linecolor\": \"white\", \"ticks\": \"\"}}, \"scene\": {\"xaxis\": {\"backgroundcolor\": \"#E5ECF6\", \"gridcolor\": \"white\", \"gridwidth\": 2, \"linecolor\": \"white\", \"showbackground\": true, \"ticks\": \"\", \"zerolinecolor\": \"white\"}, \"yaxis\": {\"backgroundcolor\": \"#E5ECF6\", \"gridcolor\": \"white\", \"gridwidth\": 2, \"linecolor\": \"white\", \"showbackground\": true, \"ticks\": \"\", \"zerolinecolor\": \"white\"}, \"zaxis\": {\"backgroundcolor\": \"#E5ECF6\", \"gridcolor\": \"white\", \"gridwidth\": 2, \"linecolor\": \"white\", \"showbackground\": true, \"ticks\": \"\", \"zerolinecolor\": \"white\"}}, \"shapedefaults\": {\"line\": {\"color\": \"#2a3f5f\"}}, \"ternary\": {\"aaxis\": {\"gridcolor\": \"white\", \"linecolor\": \"white\", \"ticks\": \"\"}, \"baxis\": {\"gridcolor\": \"white\", \"linecolor\": \"white\", \"ticks\": \"\"}, \"bgcolor\": \"#E5ECF6\", \"caxis\": {\"gridcolor\": \"white\", \"linecolor\": \"white\", \"ticks\": \"\"}}, \"title\": {\"x\": 0.05}, \"xaxis\": {\"automargin\": true, \"gridcolor\": \"white\", \"linecolor\": \"white\", \"ticks\": \"\", \"title\": {\"standoff\": 15}, \"zerolinecolor\": \"white\", \"zerolinewidth\": 2}, \"yaxis\": {\"automargin\": true, \"gridcolor\": \"white\", \"linecolor\": \"white\", \"ticks\": \"\", \"title\": {\"standoff\": 15}, \"zerolinecolor\": \"white\", \"zerolinewidth\": 2}}}, \"xaxis\": {\"anchor\": \"y\", \"domain\": [0.0, 1.0], \"title\": {\"text\": \"target\"}}, \"yaxis\": {\"anchor\": \"x\", \"domain\": [0.0, 1.0], \"title\": {\"text\": \"count\"}}},\n",
              "                        {\"responsive\": true}\n",
              "                    ).then(function(){\n",
              "                            \n",
              "var gd = document.getElementById('f4cb7073-ed56-444f-a819-ad76b069e945');\n",
              "var x = new MutationObserver(function (mutations, observer) {{\n",
              "        var display = window.getComputedStyle(gd).display;\n",
              "        if (!display || display === 'none') {{\n",
              "            console.log([gd, 'removed!']);\n",
              "            Plotly.purge(gd);\n",
              "            observer.disconnect();\n",
              "        }}\n",
              "}});\n",
              "\n",
              "// Listen for the removal of the full notebook cells\n",
              "var notebookContainer = gd.closest('#notebook-container');\n",
              "if (notebookContainer) {{\n",
              "    x.observe(notebookContainer, {childList: true});\n",
              "}}\n",
              "\n",
              "// Listen for the clearing of the current output cell\n",
              "var outputEl = gd.closest('.output');\n",
              "if (outputEl) {{\n",
              "    x.observe(outputEl, {childList: true});\n",
              "}}\n",
              "\n",
              "                        })\n",
              "                };\n",
              "                });\n",
              "            </script>\n",
              "        </div>"
            ],
            "application/vnd.plotly.v1+json": {
              "data": [
                {
                  "hovertemplate": "target=%{x}<br>count=%{y}",
                  "showlegend": false,
                  "legendgroup": "",
                  "name": "",
                  "yaxis": "y",
                  "marker": {
                    "color": "#636efa"
                  },
                  "hoverlabel": {
                    "namelength": 0
                  },
                  "offsetgroup": "",
                  "xaxis": "x",
                  "bingroup": "x",
                  "x": [
                    -0.340259125,
                    -0.31537234199999997,
                    -0.580117966,
                    -1.05401339,
                    0.24719744600000002,
                    -0.861808583,
                    -1.759061403,
                    -0.95232462,
                    -0.371640688,
                    -1.238432225,
                    -3.081337118,
                    -2.145248365,
                    -1.400318025,
                    -0.495298635,
                    0.24580570899999998,
                    -0.18818586399999998,
                    -1.28603909,
                    -0.617733261,
                    -1.126247781,
                    -1.009999064,
                    0.281178362,
                    0.27820314100000004,
                    -1.566220068,
                    -2.3864848359999997,
                    -1.483887001,
                    0.633138503,
                    -1.394485086,
                    -0.146083426,
                    -1.314628766,
                    -1.4137438830000002,
                    -0.479830828,
                    0.404633391,
                    -0.952123031,
                    -1.053897658,
                    0.022597727,
                    -0.47370199399999996,
                    0.610318885,
                    -0.041920097999999996,
                    0.8579268320000001,
                    -1.292569679,
                    -0.13489299400000002,
                    -0.13037452900000002,
                    0.394615951,
                    -1.059970759,
                    -0.58635946,
                    -1.9264220490000001,
                    0.277144328,
                    -0.998571415,
                    -1.014199763,
                    -0.7466154209999999,
                    -0.462051139,
                    -0.503614479,
                    -0.371471833,
                    -1.621394692,
                    0.08814816,
                    -0.017160917,
                    -1.170766776,
                    -0.209570237,
                    -1.857994444,
                    -0.715517237,
                    -1.156364261,
                    -0.542735004,
                    -0.013470524,
                    -0.7321486229999999,
                    -0.609884124,
                    1.039927275,
                    -1.742983825,
                    -0.377746885,
                    -0.286843482,
                    -0.8839095920000001,
                    -1.570217995,
                    -1.9681000780000002,
                    -1.333456479,
                    0.009684340999999999,
                    -0.506932291,
                    -0.605646629,
                    -0.849038856,
                    0.288984342,
                    -1.1020824759999999,
                    -0.7628050670000001,
                    -0.416734159,
                    -1.515342423,
                    -1.378839273,
                    -0.684945065,
                    -0.477948265,
                    -0.508062794,
                    -0.525784067,
                    -1.221284385,
                    -1.2400808779999999,
                    -0.098809527,
                    -0.8676088359999999,
                    -0.703780283,
                    -1.56314024,
                    -1.696766222,
                    -1.6221317690000001,
                    -0.607166564,
                    -1.137032552,
                    0.061007467999999995,
                    0.18208168800000002,
                    -0.811519925,
                    -1.972670519,
                    -1.8206428140000002,
                    -0.760367894,
                    -1.00707269,
                    -1.289408299,
                    -1.236415384,
                    0,
                    -0.708095165,
                    -0.25410312399999996,
                    0.270832416,
                    -0.282044397,
                    -1.642969499,
                    -1.937949286,
                    -0.216514978,
                    -1.4926489090000001,
                    -1.18578775,
                    -1.1012952120000001,
                    -1.9681844730000002,
                    -0.206408222,
                    -1.702971145,
                    -2.315611548,
                    -0.235148658,
                    -1.679509559,
                    -0.451994374,
                    -0.093604041,
                    -0.365378816,
                    -0.6903078840000001,
                    -2.461999582,
                    -1.186614667,
                    -0.007393824,
                    -2.01911713,
                    -0.41655201799999997,
                    -2.62550662,
                    -2.457151723,
                    -0.951697208,
                    -0.6467511020000001,
                    -0.057672423,
                    -0.36066138,
                    -0.8766493870000001,
                    -0.8394347240000001,
                    -0.634326216,
                    -1.035478244,
                    -0.44031321100000004,
                    -1.461300604,
                    -1.2466535090000002,
                    -2.1585144990000003,
                    -0.151042306,
                    -0.887361895,
                    -1.061181523,
                    -0.722882817,
                    -0.662764496,
                    -1.008790802,
                    -2.1889146580000003,
                    -1.758594754,
                    -1.095873973,
                    -1.713306482,
                    -0.85532196,
                    -1.556397958,
                    -1.034282779,
                    -0.374275101,
                    -0.37796017299999995,
                    -1.143987806,
                    -1.5365386909999998,
                    -0.455012507,
                    -0.8558477640000001,
                    -0.610791351,
                    -1.4784161930000002,
                    -0.129115374,
                    -1.033506428,
                    0.877184835,
                    -0.714561333,
                    -0.714391937,
                    -1.572265988,
                    -1.333634907,
                    -1.860140006,
                    -0.548446675,
                    -1.083722413,
                    -1.215512674,
                    -0.802785602,
                    -1.964773354,
                    -1.237728792,
                    0.384222695,
                    -1.16337267,
                    0.572044972,
                    -0.492691685,
                    -0.290306006,
                    0.604258906,
                    -1.73683059,
                    0.17861529199999998,
                    -1.5578101640000002,
                    -1.160410121,
                    -0.14670831,
                    -0.889420014,
                    -0.003118553,
                    -2.056437688,
                    -0.28099387800000003,
                    -0.74845172,
                    -1.740491482,
                    0.938783027,
                    0.27773732100000004,
                    -0.8950071159999999,
                    -2.063722887,
                    -0.282288378,
                    -1.7346178069999998,
                    -0.037241954,
                    -0.960598135,
                    -0.517560783,
                    -1.4636078680000002,
                    -1.465672751,
                    -1.038890428,
                    -0.727449806,
                    0.06258012,
                    -1.880072943,
                    -0.795230717,
                    -1.617710055,
                    -1.681722432,
                    -1.07873501,
                    -2.934846302,
                    -2.415774514,
                    -1.1152114709999998,
                    -1.2584976620000001,
                    -2.048224387,
                    -1.3026876059999999,
                    -0.7140087559999999,
                    -1.541347178,
                    -2.054283749,
                    -0.852108946,
                    -0.39054204600000003,
                    -0.68799695,
                    -0.9630758009999999,
                    -0.114236961,
                    -0.9781166570000001,
                    -1.258051132,
                    -0.994652967,
                    -1.0766235240000002,
                    -2.058022647,
                    -2.641977952,
                    -0.888960128,
                    -0.56108449,
                    -0.426813005,
                    1.465592368,
                    -0.06499875,
                    -1.1018626759999999,
                    -0.095749985,
                    -0.374500006,
                    0.624751002,
                    0.6879052929999999,
                    -0.406253077,
                    -1.669863846,
                    -0.156618699,
                    -0.814380276,
                    -0.338547583,
                    -0.820523406,
                    -1.634185368,
                    -2.492674043,
                    -1.719895591,
                    -2.11226356,
                    -0.38658731,
                    -1.5618005609999999,
                    -0.7518473640000001,
                    -0.863299895,
                    -0.576698794,
                    -1.157269036,
                    -1.589571686,
                    -0.6524211120000001,
                    -1.370115991,
                    -2.1926883530000003,
                    -0.841114385,
                    -0.87494669,
                    -0.541982061,
                    -1.238431716,
                    1.023516839,
                    -1.154753922,
                    -1.672911306,
                    -1.330950329,
                    -1.213193054,
                    -1.3141400090000002,
                    -1.959472481,
                    -1.058465094,
                    -1.782989643,
                    -0.273238231,
                    -1.248513154,
                    -1.277544064,
                    -0.7550335509999999,
                    -1.1090531890000002,
                    -0.9883855290000001,
                    -0.11369393400000001,
                    -2.331189821,
                    -1.280788834,
                    0.411471026,
                    -1.4313810219999998,
                    -1.653130604,
                    -1.8099571280000002,
                    -2.085060117,
                    0.838793563,
                    -0.007644294,
                    -0.19903241300000002,
                    0.025170897999999997,
                    -0.807687264,
                    -1.4136988380000002,
                    -0.8563815359999999,
                    -2.536904911,
                    -0.580746823,
                    -0.585142293,
                    -2.027056522,
                    -0.515282095,
                    -2.176054735,
                    0.9065262340000001,
                    -1.4036322280000002,
                    -0.240680292,
                    0.40728624,
                    -0.8017068759999999,
                    -1.493984206,
                    -0.9660476570000001,
                    -0.516593446,
                    -2.1404502819999998,
                    -1.549272194,
                    -0.004268138,
                    -1.8394746180000001,
                    -0.937832595,
                    -2.296675509,
                    -0.622842684,
                    -2.5247904180000003,
                    -0.822943305,
                    -1.488918252,
                    -1.150423852,
                    -1.1626638809999998,
                    -1.5403972030000002,
                    -1.8355893630000002,
                    -0.10236821,
                    0.075708395,
                    -2.241482979,
                    -2.19510939,
                    -1.7184457519999998,
                    0.3281442,
                    -1.641886235,
                    -2.3760213169999997,
                    -1.5339709259999998,
                    -0.451211686,
                    -0.403295095,
                    -1.652186861,
                    -2.989178994,
                    0.726097322,
                    -1.8202969340000001,
                    -3.4135158530000003,
                    -0.36109813,
                    -2.1604606669999997,
                    -2.378185941,
                    -1.361228127,
                    0.14655572,
                    -0.35118288,
                    -0.200118712,
                    -1.411302185,
                    -0.539375362,
                    -3.1371432610000003,
                    -0.849320333,
                    -1.684291865,
                    -1.197114606,
                    -0.829604039,
                    -1.410773436,
                    -1.6660494909999999,
                    -0.515114516,
                    0.8038752809999999,
                    -2.085486472,
                    -0.014712066000000001,
                    -1.380826715,
                    -0.748301687,
                    -0.518625175,
                    -1.841355836,
                    -2.486377231,
                    -0.545255292,
                    -1.397337222,
                    -1.5015533509999999,
                    -1.0749877209999998,
                    -0.644070676,
                    -3.123761608,
                    -2.046467916,
                    -0.8739068109999999,
                    -0.06501728,
                    -0.625072461,
                    -1.15589416,
                    -1.929461427,
                    -1.981132405,
                    -1.342195073,
                    -1.493906454,
                    -1.5037883509999999,
                    -2.1133107819999997,
                    0.766250821,
                    -1.134245897,
                    0.325987982,
                    -0.429918342,
                    -0.938450639,
                    0.10488508099999999,
                    -0.732070942,
                    -0.8013619890000001,
                    -0.741878369,
                    -1.008548435,
                    0.131890683,
                    -0.281876326,
                    -0.616799879,
                    -0.237531023,
                    -1.874572871,
                    -1.57315016,
                    -0.7058255170000001,
                    -1.270939427,
                    0.154878577,
                    -0.605162264,
                    -0.555356062,
                    0.121154248,
                    -1.795182698,
                    0.7848375240000001,
                    -2.1197301790000003,
                    -1.012693356,
                    -0.7427136240000001,
                    -0.6544389829999999,
                    -0.034310631,
                    -1.266894527,
                    0.185004067,
                    -2.109452869,
                    -0.630143391,
                    -0.262953834,
                    -0.286442912,
                    -1.11505142,
                    -1.4260123580000001,
                    -0.074333762,
                    -1.164143627,
                    -2.273766532,
                    -2.7936841689999996,
                    -0.483763357,
                    -1.414318496,
                    -1.913303692,
                    -0.550844284,
                    -1.176277587,
                    0.043057874,
                    -0.090667761,
                    -1.073497469,
                    -1.732891849,
                    -0.183396499,
                    -1.9393652780000001,
                    -0.279002052,
                    -0.10665716800000001,
                    -0.5675447060000001,
                    -1.0524533790000001,
                    -0.870117303,
                    0.00942841,
                    -1.314832607,
                    -1.3693117330000002,
                    -0.670190986,
                    0.15532111,
                    0.238440727,
                    -0.133798219,
                    -1.0465277309999999,
                    -0.42617643200000005,
                    0.348012868,
                    0.516561198,
                    -0.376403238,
                    -1.201607893,
                    -3.25631229,
                    -0.53217563,
                    -1.639359581,
                    -2.049657104,
                    -2.366802097,
                    0.526813057,
                    0.347466115,
                    -0.40013408200000006,
                    -0.621404507,
                    -3.2955761010000004,
                    -0.73102331,
                    -2.451063403,
                    0.44973589799999997,
                    -0.014684677,
                    -0.531309028,
                    -0.9772618890000001,
                    0.543572822,
                    -0.398495737,
                    -0.686426975,
                    0.44310066299999995,
                    -1.255921325,
                    -1.162651542,
                    -1.681361062,
                    0.472264158,
                    0.254812169,
                    -2.425235133,
                    -0.455608931,
                    -1.981244288,
                    -0.929454538,
                    -3.031543857,
                    -0.34324576100000004,
                    -1.804048773,
                    -0.376544514,
                    -2.11469151,
                    -1.56499948,
                    -1.814723766,
                    -3.549190203,
                    -1.7198424769999998,
                    -0.5586168460000001,
                    -0.518584635,
                    -1.4530479930000002,
                    -0.6555520979999999,
                    -1.6251413,
                    -2.098193776,
                    -0.68030937,
                    0.533262425,
                    -0.049815443,
                    -2.119294409,
                    -0.086804588,
                    -0.559842818,
                    -0.171100842,
                    1.062151104,
                    -0.735349427,
                    -1.456422672,
                    0.17980864,
                    0.3513912,
                    -1.725807334,
                    -0.574590947,
                    -2.209590083,
                    -1.433352744,
                    -2.550370827,
                    -0.49434772,
                    0.049662064000000006,
                    -2.272952473,
                    -1.060679063,
                    -1.516844735,
                    -1.869676686,
                    -2.670400661,
                    -0.236141283,
                    0.586342197,
                    -0.641551836,
                    0.057474515999999996,
                    -0.250598231,
                    -1.204063046,
                    0.8663298009999999,
                    -0.049885402,
                    -2.176638474,
                    -0.7084837270000001,
                    -1.480922784,
                    -1.348816209,
                    -2.276119978,
                    -0.918446463,
                    -0.537256206,
                    -2.516032203,
                    0.02739912,
                    -1.218451365,
                    -2.3370277980000003,
                    -0.384449836,
                    -0.163070217,
                    -1.4100707469999998,
                    -0.432077259,
                    -0.6413322029999999,
                    -1.961218774,
                    0.036622032,
                    -0.152209653,
                    -1.478113115,
                    0.844974076,
                    -0.173404195,
                    -1.4749373559999999,
                    0.33789777200000004,
                    -2.312680565,
                    -0.668905761,
                    0.5825860660000001,
                    -0.142303129,
                    -0.39411603100000003,
                    -2.241481592,
                    0.992717695,
                    1.432603719,
                    0.650396086,
                    0.922598578,
                    -2.098625275,
                    -0.424981939,
                    -0.344269809,
                    -0.878020998,
                    -1.2779499570000001,
                    -1.457473562,
                    0.20725867,
                    -1.441185956,
                    -0.698003989,
                    -2.215148883,
                    -0.297259587,
                    -3.263499847,
                    -1.479471819,
                    -1.8842976219999998,
                    0.488056427,
                    -1.683761536,
                    -0.7576071529999999,
                    1.268987149,
                    -0.09500426599999999,
                    -1.540198331,
                    0.08280077799999999,
                    -0.10984593599999999,
                    -0.19536495899999998,
                    0.011813763,
                    -0.32779613399999996,
                    -0.432472085,
                    -1.417432918,
                    0.323425373,
                    -2.7682479460000002,
                    -0.701958848,
                    -0.827983792,
                    -1.067677743,
                    -2.601398503,
                    -1.979797604,
                    -1.7215822330000001,
                    -1.136051502,
                    -1.776309711,
                    -0.913326537,
                    -0.12465925300000001,
                    -2.1230866980000003,
                    0.49842990200000004,
                    0.259730278,
                    -3.0515245280000003,
                    -2.652384117,
                    -2.864956753,
                    -0.909141193,
                    -1.3570383780000002,
                    -1.451768512,
                    -1.134821962,
                    -1.612461057,
                    -0.302916244,
                    -1.7173297840000001,
                    -2.088891083,
                    -0.202360343,
                    -1.533553613,
                    -2.082496583,
                    -0.8006733559999999,
                    -0.933473096,
                    -0.366843066,
                    -0.838837134,
                    0.09869320699999999,
                    -1.893606415,
                    0.053523571,
                    -1.7772443230000001,
                    -1.2847128490000002,
                    -0.45173624799999995,
                    -0.204233477,
                    0.843423217,
                    -0.6546333520000001,
                    0.39033367399999996,
                    1.410419892,
                    0.619312344,
                    0.40496417,
                    -1.0409923429999999,
                    -2.232322583,
                    -1.016749845,
                    -0.790763483,
                    -0.547254201,
                    -1.758081302,
                    -0.26086794399999996,
                    -0.14072341800000002,
                    -1.8480636959999999,
                    -0.681241428,
                    0.23491040800000001,
                    -1.02345278,
                    -1.097923263,
                    1.079362146,
                    -0.26854275899999996,
                    0.614928616,
                    -0.067277264,
                    -1.009732977,
                    -1.0782375929999999,
                    0.16935606600000003,
                    0.228542017,
                    1.367284376,
                    -0.30570297399999996,
                    -2.64763109,
                    -1.833088289,
                    -0.6521941960000001,
                    -0.569842532,
                    -0.120578597,
                    -0.7920716440000001,
                    0.555299059,
                    -0.650477293,
                    0.900302169,
                    -0.699882514,
                    0.624396241,
                    -1.161062744,
                    -0.5962579370000001,
                    1.0709875359999999,
                    -2.261028038,
                    -0.352036526,
                    -0.169105333,
                    -0.075289783,
                    -0.31706137300000004,
                    -0.4603042,
                    -0.7434351359999999,
                    -1.140224065,
                    -0.569249053,
                    0.083994205,
                    -2.530227686,
                    0.389075757,
                    -0.802163794,
                    -1.134926912,
                    -0.41667149700000006,
                    1.024258258,
                    -0.024195137999999998,
                    -0.514429592,
                    -1.342652384,
                    -0.64364403,
                    -0.887465518,
                    1.263126798,
                    -1.10578373,
                    -1.063582485,
                    -0.309605294,
                    0.716514663,
                    0.192178063,
                    -1.586580457,
                    -1.291231784,
                    1.020308011,
                    -0.594404653,
                    -1.179180106,
                    -0.9041285379999999,
                    -2.030345161,
                    -0.257776264,
                    -0.371879498,
                    0.850392143,
                    0.357384606,
                    -2.1991863030000003,
                    -1.427664021,
                    -0.38655225299999996,
                    0.7245535790000001,
                    0.487495265,
                    0.005085636,
                    0.991114026,
                    -0.984640437,
                    -1.644198296,
                    -1.326654811,
                    -0.14668009199999998,
                    -0.556069951,
                    -0.637014302,
                    -0.124636626,
                    0.700117443,
                    -0.43635162899999996,
                    -1.5728982919999999,
                    -0.8482350329999999,
                    -0.976150327,
                    -0.06282267400000001,
                    -0.6325619,
                    -0.0885427,
                    -1.67757638,
                    0.34459256200000005,
                    -1.9053861319999998,
                    -1.520401466,
                    -1.154857171,
                    0.861479827,
                    -0.20307852899999998,
                    -0.881081255,
                    0.28180950899999996,
                    0.105748891,
                    0.071003186,
                    0.294498053,
                    -1.4223531669999998,
                    -1.139722226,
                    -0.7770896829999999,
                    -2.599810686,
                    -1.374425975,
                    -0.346156966,
                    -0.283326643,
                    1.088497136,
                    -2.451886841,
                    0.0214596,
                    -1.090008478,
                    0.129346895,
                    -0.465615248,
                    -1.527416846,
                    -0.610551119,
                    0.5232301570000001,
                    -0.9286604509999999,
                    0.17155279399999998,
                    -0.902859765,
                    -0.528970635,
                    -2.1342979509999997,
                    -0.597031199,
                    0.23168906399999997,
                    0.779653259,
                    -0.544475948,
                    -0.552166718,
                    -0.589643764,
                    -0.650322956,
                    -0.291865363,
                    -2.0238889159999998,
                    -1.2391337070000001,
                    -0.8572515470000001,
                    0.810874254,
                    -0.563904647,
                    0.946567567,
                    0.627618676,
                    -0.699299571,
                    -1.725606079,
                    0.034710132000000005,
                    0.642449351,
                    -0.6189873020000001,
                    1.040517007,
                    -0.06284545799999999,
                    0.86413932,
                    0.918885563,
                    -1.112676572,
                    -1.395231365,
                    -1.802185475,
                    -0.567156181,
                    -0.647143875,
                    -0.101779002,
                    0.348589053,
                    -0.041010564,
                    0.108476405,
                    -1.056268572,
                    -0.7597673840000001,
                    -0.150425549,
                    0.422776366,
                    -1.5691260230000001,
                    1.583846826,
                    0.330810305,
                    -0.157654161,
                    -1.363978683,
                    0.070826688,
                    0.684207676,
                    1.174546793,
                    -0.879313861,
                    -0.5103273229999999,
                    0.35680087299999996,
                    -0.786118758,
                    -2.457555647,
                    -1.077825512,
                    -0.687688231,
                    -0.40786566799999996,
                    -0.651453846,
                    -0.631701701,
                    -0.388758647,
                    -1.061225412,
                    -0.968179945,
                    -0.11988797300000001,
                    0.025798866,
                    -0.122770289,
                    -0.634706485,
                    -0.7432738329999999,
                    0.253266589,
                    0.220640262,
                    0.254373308,
                    0.653170795,
                    1.2229014740000002,
                    0.408821311,
                    1.0190091890000001,
                    -2.116397617,
                    -0.256244635,
                    -0.606895841,
                    -1.214881253,
                    0.46904376799999997,
                    -0.40654094700000004,
                    0.556225571,
                    -0.581659268,
                    -0.639122344,
                    -1.120507299,
                    -1.509700571,
                    0.14587873699999998,
                    -2.629611905,
                    -0.7229620790000001,
                    -0.48972296299999996,
                    0.031524593999999996,
                    -0.954180142,
                    -1.011278343,
                    0.230335717,
                    0.220971467,
                    -0.6052157020000001,
                    -1.340719333,
                    0.43742285200000003,
                    0.6246790879999999,
                    1.026815279,
                    -0.136519785,
                    -0.26013064,
                    -0.315739242,
                    -0.129758457,
                    -0.769008705,
                    0.111872653,
                    -0.883537828,
                    0.925734335,
                    0.564178555,
                    1.01346899,
                    0.019739515,
                    0.6722925959999999,
                    -0.101555009,
                    -0.9347324340000001,
                    -2.307657979,
                    0.16998814899999998,
                    -0.228202855,
                    -0.078677586,
                    -0.897239358,
                    -1.385954048,
                    -2.307499375,
                    -1.12417843,
                    -0.87656742,
                    -1.300679398,
                    -0.592005772,
                    -1.0453398740000002,
                    -2.319747409,
                    -0.453465075,
                    0.435490337,
                    -0.898352605,
                    -0.091202393,
                    0.324048269,
                    -0.6559581329999999,
                    0.790704112,
                    -0.986988435,
                    -0.45677196299999995,
                    -0.8528521720000001,
                    -1.178376039,
                    -0.674413444,
                    -0.041250227,
                    -0.699823548,
                    -0.78354654,
                    0.274767866,
                    -0.7037289409999999,
                    0.227246688,
                    0.7489554890000001,
                    -0.100796346,
                    -0.716442767,
                    -0.9285424520000001,
                    0.096782583,
                    0.19811675899999998,
                    0.575136517,
                    0.081029242,
                    -1.741490658,
                    -0.046594079000000004,
                    0.160049511,
                    -1.0733541,
                    0.46388071799999997,
                    0.030959163999999997,
                    0.059704683,
                    -0.46681954700000006,
                    -1.503172935,
                    0.593029307,
                    -0.272154008,
                    0.008822918,
                    -1.120484394,
                    -2.074318007,
                    0.659357489,
                    -0.7021856040000001,
                    0.607157733,
                    -0.8667942270000001,
                    -1.054659865,
                    -0.573610547,
                    0.8027627829999999,
                    -1.063358784,
                    -1.259489664,
                    -0.9285107290000001,
                    -0.9011179859999999,
                    0.861779838,
                    0.170972345,
                    0.446698097,
                    -0.9293803340000001,
                    0.393562039,
                    -1.624428478,
                    -2.9307666460000004,
                    -0.426009233,
                    -0.056144522999999995,
                    -1.560700658,
                    -0.287080965,
                    -0.5503987370000001,
                    -1.5649713969999999,
                    -0.5901817629999999,
                    0.699182731,
                    -1.040647035,
                    -1.861507512,
                    0.41702917,
                    -2.3111475180000003,
                    -0.313049974,
                    0.22612537300000002,
                    -0.531587618,
                    -1.301436029,
                    -1.196385858,
                    -0.7982918459999999,
                    -0.244359685,
                    0.76450389,
                    -0.672687728,
                    0.199687267,
                    -0.279951755,
                    -2.05197829,
                    -0.5754147,
                    -0.8382237640000001,
                    -0.9393747579999999,
                    0.62587834,
                    -1.6860577419999998,
                    1.332118919,
                    0.052490472999999996,
                    1.5978698409999998,
                    0.568791653,
                    -0.8131937490000001,
                    0.12453659800000001,
                    0.128857544,
                    -0.511391002,
                    -2.7785150869999997,
                    0.010803516,
                    1.104488747,
                    -0.536890434,
                    -0.154503372,
                    -1.588661778,
                    0.729105439,
                    0.4694777,
                    -0.702123724,
                    -0.6108308729999999,
                    -0.728360793,
                    0.19003669199999998,
                    -0.6916473470000001,
                    -0.651409644,
                    0.512359829,
                    -0.707411103,
                    -0.033961057999999995,
                    0.682031464,
                    0.49588364,
                    1.378184677,
                    0.46462578299999996,
                    -2.2179391809999998,
                    0.297964401,
                    0.273022642,
                    0.459932235,
                    0.739487555,
                    1.294290964,
                    1.5416718790000001,
                    -0.34398012,
                    0.55619397,
                    -0.805155232,
                    0.979971046,
                    -0.74705416,
                    -2.034098092,
                    -0.9327388040000001,
                    -0.391498678,
                    -0.296450678,
                    -0.050461806,
                    1.242843482,
                    0.10280278,
                    0.048205653,
                    0.975200134,
                    0.227889548,
                    -0.68131055,
                    0.041924427,
                    0.202274188,
                    0.9135258509999999,
                    -0.569187796,
                    1.190328647,
                    0.568668511,
                    -0.81034806,
                    0.35629858700000006,
                    0.741025678,
                    -0.995472072,
                    -0.12353115699999999,
                    0.807642987,
                    0.10625615199999999,
                    -1.9890343190000002,
                    0.332933047,
                    0.192928409,
                    0.927169042,
                    -0.6715144359999999,
                    0.660067967,
                    -0.175849361,
                    -1.7578748969999998,
                    0.115457832,
                    -0.313013937,
                    0.56484945,
                    -0.33497658199999997,
                    0.8115163259999999,
                    0.639649888,
                    1.120176184,
                    1.290848776,
                    0.307041243,
                    0.162554017,
                    -0.315435136,
                    -0.301448697,
                    0.37850142200000003,
                    -0.222946427,
                    1.467665465,
                    0.192212964,
                    -0.346383854,
                    0.267636798,
                    -0.107896459,
                    0.19555564399999997,
                    -0.274797382,
                    -0.032950289,
                    0.17873449100000002,
                    0.988936316,
                    -2.301071222,
                    -2.808524781,
                    -2.0727038159999998,
                    -3.352438391,
                    0.574606638,
                    -0.842188983,
                    -0.100216569,
                    0.375498596,
                    -0.816137934,
                    -0.634987162,
                    0.312500441,
                    -2.106774417,
                    0.846838357,
                    -0.23476626899999997,
                    -0.41736942299999996,
                    -1.6921334419999998,
                    0.176314672,
                    -0.306367214,
                    -1.2858940140000001,
                    -0.21673827899999998,
                    1.090944394,
                    -0.66514694,
                    -1.6253273830000001,
                    -0.047198885999999995,
                    -1.535457991,
                    -0.806679665,
                    -1.736050455,
                    -1.578212728,
                    0.7760117540000001,
                    -1.7087660130000002,
                    -0.930922754,
                    -1.686775305,
                    -1.296292486,
                    -0.8222037329999999,
                    -0.8425960220000001,
                    -1.141634645,
                    -1.100204889,
                    -2.025856164,
                    -1.428491792,
                    -1.319758406,
                    -1.209490537,
                    -1.971193545,
                    -1.568775143,
                    -0.669447346,
                    -1.320507075,
                    -1.6346976309999999,
                    -1.480371295,
                    -0.522382942,
                    -1.1718920290000001,
                    -1.1911743,
                    -3.203574994,
                    1.436503439,
                    -3.66836041,
                    -1.297943747,
                    -1.58438395,
                    -1.762893539,
                    -2.528077874,
                    0.383873629,
                    -1.678689313,
                    -2.096309799,
                    -1.471790116,
                    -0.8072927679999999,
                    -1.685742685,
                    -1.8226589069999999,
                    -1.8512366869999999,
                    -0.927039954,
                    -0.784178437,
                    -1.942803646,
                    0.062270013,
                    -2.31601951,
                    -2.367913579,
                    -1.1969034,
                    -1.13804086,
                    0.39116838200000004,
                    -1.1604991040000001,
                    -0.626854713,
                    0.20094261100000002,
                    -0.8685443429999999,
                    -1.255286383,
                    -0.307056769,
                    -0.986645931,
                    -0.642891812,
                    -1.4647917959999999,
                    -0.268395178,
                    -2.315213321,
                    -0.76765557,
                    -1.54428469,
                    -1.31374463,
                    -0.024836284,
                    -1.715521981,
                    -2.150387868,
                    -2.563457657,
                    -1.645286253,
                    -1.506979633,
                    -2.081851819,
                    -0.989921915,
                    -1.4535803369999998,
                    -1.594174966,
                    -2.414430879,
                    -0.036227181000000004,
                    -1.085751491,
                    -0.733407447,
                    -2.238164382,
                    -1.3846467409999998,
                    -0.528146781,
                    -2.4310459509999998,
                    -3.229761439,
                    -0.857871736,
                    -2.057801801,
                    -1.3506292930000001,
                    -1.0856204390000002,
                    -1.5519407509999998,
                    -1.239472659,
                    -0.726834636,
                    -2.022772326,
                    -1.1172507729999999,
                    -1.217509269,
                    -3.2139094260000003,
                    -2.071544877,
                    -1.6838233759999999,
                    -3.3382906539999997,
                    -2.217146149,
                    -2.7073776489999997,
                    -2.279783534,
                    -3.070718237,
                    -1.809774192,
                    -1.577429866,
                    -1.5546151080000001,
                    -2.159716076,
                    -1.659576072,
                    -1.61389372,
                    -2.853298148,
                    -1.364178596,
                    -2.2185845630000003,
                    -1.130131848,
                    -0.8699986820000001,
                    -0.243290418,
                    -1.109881758,
                    -2.5999072130000003,
                    -0.95866767,
                    -0.883503775,
                    -2.127381462,
                    -1.877337905,
                    -2.368856329,
                    0.332036628,
                    -1.012834903,
                    -1.436555618,
                    -1.789432346,
                    -1.603581736,
                    -0.161361391,
                    -0.76989626,
                    -0.14745839300000002,
                    -1.077611573,
                    -0.8393844009999999,
                    0.055211105,
                    0.485115124,
                    -0.900441127,
                    -0.975162943,
                    -0.074393372,
                    -0.379957131,
                    0.278434963,
                    -1.773906294,
                    -1.251990702,
                    -0.46928937200000004,
                    0.29292368,
                    -0.315866135,
                    -1.3825360580000001,
                    -1.320423367,
                    0.70560033,
                    -1.141776425,
                    -0.992186958,
                    -1.2708606390000001,
                    -0.819014554,
                    -0.9339567390000001,
                    -1.9779203140000001,
                    -2.158359899,
                    -1.561510027,
                    -0.41363741299999995,
                    -1.2658349,
                    -2.2610806390000002,
                    -2.152497167,
                    -0.6925367840000001,
                    -0.15003615,
                    0.975370996,
                    -1.27451227,
                    -0.050774560999999996,
                    -2.471668157,
                    -0.9059800259999999,
                    -0.660358016,
                    -0.14555091,
                    -0.522167305,
                    -1.4273915130000001,
                    -1.8170040180000002,
                    -1.4294872859999999,
                    -1.753041534,
                    -1.171332861,
                    -1.194476673,
                    -1.045067123,
                    -1.940968083,
                    -2.01721308,
                    -2.524451353,
                    -2.7236590769999998,
                    -2.362822909,
                    -2.002054981,
                    -2.500835952,
                    -2.654973598,
                    -2.149327999,
                    -1.964240942,
                    -0.739408733,
                    -0.588322995,
                    -2.25590829,
                    -0.9855505090000001,
                    -0.7978849379999999,
                    -1.6426108430000002,
                    -3.3519559830000003,
                    -2.7834392219999997,
                    -2.273443711,
                    -2.062823949,
                    -2.0346880780000003,
                    -1.436563785,
                    -1.31066947,
                    -0.921112782,
                    -0.947514257,
                    -1.5327021969999999,
                    -2.268261039,
                    -2.423958975,
                    -1.7992803780000002,
                    -1.220816365,
                    -1.545941286,
                    -3.252689925,
                    -2.175943391,
                    -2.0967041269999998,
                    -2.301775706,
                    -1.260459089,
                    -2.224202112,
                    -1.188691585,
                    -1.74357223,
                    -1.316680123,
                    -2.398856992,
                    -1.883011322,
                    -1.976942795,
                    -1.540664434,
                    -1.021877213,
                    -0.925302513,
                    -3.2651574639999996,
                    -1.973181441,
                    -2.0385911119999998,
                    -2.20915345,
                    -1.538150661,
                    -1.8340873619999998,
                    -2.140026004,
                    -0.632470619,
                    -0.9294518209999999,
                    -0.554195149,
                    -2.342190435,
                    0.21183849800000001,
                    -1.4688354469999998,
                    -1.308811409,
                    -2.195230618,
                    -0.74619518,
                    -0.832042878,
                    -2.4660195209999998,
                    -1.6458634490000001,
                    -1.4338142230000002,
                    -2.081898765,
                    -1.845326239,
                    -2.546849825,
                    -1.989715956,
                    -2.538206658,
                    -2.5159622059999998,
                    -2.387704029,
                    -2.6793157290000003,
                    -1.465205893,
                    -1.885562692,
                    -2.6292398269999997,
                    -2.87336216,
                    -1.8777979759999999,
                    -2.249575147,
                    -2.56608741,
                    -2.282976621,
                    -2.754823687,
                    -2.712360513,
                    -1.746873455,
                    -2.76705717,
                    -0.135336551,
                    -0.63025114,
                    -2.624734335,
                    -1.76263297,
                    -2.290895211,
                    -1.642834699,
                    -1.61345839,
                    -2.63413666,
                    -1.545126414,
                    -1.554428476,
                    -1.56567436,
                    -2.467363877,
                    -2.292128032,
                    -0.528836259,
                    -2.239869305,
                    -0.565012179,
                    -1.638582206,
                    -1.852132264,
                    -2.404343223,
                    -2.18070991,
                    -0.9616645429999999,
                    0.573210593,
                    -1.391437764,
                    -1.9428479440000002,
                    -0.91332221,
                    -2.4006248219999997,
                    -1.376693965,
                    -1.842262569,
                    -1.39689237,
                    -0.554561822,
                    -2.578698123,
                    0.004845971,
                    -2.1018642069999998,
                    -2.060765765,
                    -2.948082775,
                    -1.3658252690000001,
                    -1.93576523,
                    -1.407267637,
                    -1.38205048,
                    -0.841382898,
                    -2.9118219119999997,
                    -0.8023847270000001,
                    -2.483672957,
                    -1.560953864,
                    -0.952408653,
                    -0.115975286,
                    -0.396491431,
                    0.145801428,
                    -1.849974037,
                    -0.754267857,
                    -0.092494139,
                    -3.52967539,
                    -0.9870458440000001,
                    -0.938611338,
                    0.260860865,
                    0.340046313,
                    -0.712406469,
                    -0.621882387,
                    -1.319814571,
                    -1.215729655,
                    -2.665929152,
                    -1.6380609959999999,
                    -1.8880944730000002,
                    -1.415263484,
                    -2.955537104,
                    -2.042323075,
                    -1.243428618,
                    -0.102268805,
                    -0.739039881,
                    -1.494777161,
                    -2.097133615,
                    -1.413449161,
                    -1.671130915,
                    -1.265389818,
                    -1.093147648,
                    -0.526481968,
                    -2.224234664,
                    -0.12470612199999999,
                    -2.270804192,
                    -1.7872453469999998,
                    -1.036649589,
                    0.966852238,
                    -0.0056605940000000006,
                    0.944228368,
                    -0.206824252,
                    -2.3111672619999997,
                    -0.36245689600000003,
                    -0.932491813,
                    -2.008061222,
                    -2.612573884,
                    -0.699655758,
                    -1.866238347,
                    -1.934350681,
                    -0.260550387,
                    -0.699703008,
                    0.47479175799999995,
                    -0.1977973,
                    -1.3113461309999999,
                    0.120219521,
                    -3.403929754,
                    -0.422689384,
                    -1.7656220630000001,
                    -0.8395493490000001,
                    -0.908395465,
                    -1.1121191,
                    -0.7700243720000001,
                    -2.077954975,
                    -0.129388122,
                    -0.43628481700000005,
                    -2.7936988030000003,
                    -0.861131622,
                    -1.532197091,
                    -0.474787405,
                    -1.583809005,
                    -1.1559763779999999,
                    -0.118755341,
                    -3.16421232,
                    -1.6092045169999998,
                    -0.817092833,
                    -1.499107861,
                    -1.16090423,
                    -2.337213633,
                    -2.577482006,
                    -2.743860438,
                    -0.728201731,
                    -0.860671205,
                    -1.9089882919999999,
                    -3.320428525,
                    -1.5597784940000001,
                    -0.275191768,
                    -1.286254435,
                    -0.641284526,
                    -1.127962135,
                    0.281559715,
                    -1.655468725,
                    -1.039734313,
                    -1.320275767,
                    -1.212478027,
                    -2.641667307,
                    -1.826667527,
                    -0.799008211,
                    -1.4872966,
                    -1.25140093,
                    0.079093893,
                    -1.304138548,
                    0.024740431,
                    -0.502556048,
                    -1.519120403,
                    -1.101336442,
                    -0.295551613,
                    -3.075393325,
                    -0.006220476999999999,
                    -1.369069343,
                    -1.052443255,
                    -0.67755485,
                    -1.384305523,
                    0.06914782,
                    -0.73580158,
                    -2.18172358,
                    -0.615923701,
                    -1.0129139,
                    -0.48646382299999996,
                    -0.9090471640000001,
                    -0.8999508079999999,
                    -0.835897448,
                    -0.522537934,
                    -0.313097629,
                    -1.009308845,
                    -0.555041377,
                    -1.8725131119999998,
                    -0.8574027540000001,
                    0.071064667,
                    0.5664804929999999,
                    -2.950134962,
                    -1.737087807,
                    -0.353889334,
                    -0.8403729129999999,
                    -0.245285845,
                    -1.0603871390000001,
                    -1.040422903,
                    -2.165763445,
                    -1.007234375,
                    -1.789305774,
                    -1.8258206019999998,
                    -1.2546485809999999,
                    -1.14153601,
                    -2.375846218,
                    -0.45676182,
                    -0.510812498,
                    -0.104264817,
                    -1.074707578,
                    -0.200083077,
                    -2.744457798,
                    -1.8843523119999999,
                    -1.231130424,
                    0.544241454,
                    -0.40549790399999996,
                    -1.7118124730000002,
                    -0.987073566,
                    -1.052467727,
                    -1.594132675,
                    -2.536215683,
                    -1.203183046,
                    -2.2690671630000003,
                    -1.742900661,
                    -2.8628606480000003,
                    -1.9631360469999999,
                    -0.785718989,
                    -1.8213971930000001,
                    -2.601497993,
                    -1.133677933,
                    -1.858831637,
                    -1.392789957,
                    -1.5020675369999998,
                    -1.7976813440000001,
                    0.500062235,
                    -0.537186659,
                    -2.709285623,
                    -2.788857384,
                    0.049295932,
                    -2.314187741,
                    -2.64902363,
                    -1.7803047969999999,
                    -0.10793966599999999,
                    -0.35986687700000003,
                    -0.460316546,
                    -1.871824065,
                    -0.057944357,
                    -0.536029213,
                    -1.3245513279999999,
                    -0.136892383,
                    0.25546054100000004,
                    -1.1989280709999999,
                    1.289275816,
                    -0.621972263,
                    -0.911057055,
                    -1.580970414,
                    -2.360009235,
                    0.37558740399999996,
                    -0.698302533,
                    -1.6071607,
                    -1.55135919,
                    -1.9233651930000002,
                    -2.427809564,
                    -1.522596145,
                    -0.7278850570000001,
                    -1.5515263940000001,
                    -1.298340818,
                    -0.365093118,
                    -2.416530915,
                    -1.9019194369999999,
                    -3.101971906,
                    -2.5859083590000003,
                    -2.246007796,
                    -2.608282048,
                    -2.187431065,
                    -2.882630345,
                    -2.54349878,
                    -1.9447046730000002,
                    -2.3482311719999998,
                    -2.311410774,
                    -2.760374038,
                    -3.53168686,
                    -3.415781255,
                    -1.832601247,
                    -2.33969165,
                    -1.121301841,
                    -1.1150693790000001,
                    -3.3461919389999997,
                    -1.942116474,
                    -2.068389326,
                    -3.0520812569999998,
                    -2.816911847,
                    -2.7424654889999998,
                    -2.017839895,
                    -1.84306115,
                    -2.321029886,
                    -3.236543305,
                    -3.309177688,
                    -2.422319978,
                    -3.25298965,
                    -2.095160981,
                    -3.5853693030000002,
                    -2.341073206,
                    -1.6386440930000001,
                    -2.327443133,
                    -2.518638411,
                    -2.129030307,
                    -1.41070113,
                    -1.054182004,
                    -2.373624272,
                    0.401052549,
                    -1.676793243,
                    -2.1137726619999997,
                    -1.876345467,
                    -2.198923199,
                    -2.80187364,
                    -2.5151439140000003,
                    -1.776978164,
                    -2.014503916,
                    -2.383689042,
                    -1.480732779,
                    -1.666457149,
                    -1.076314585,
                    -3.4638807689999997,
                    -2.3085463969999998,
                    -1.6604787730000001,
                    -1.19023444,
                    -1.461231114,
                    -1.168033005,
                    -2.217568481,
                    -1.215503634,
                    -2.510224011,
                    -2.706857232,
                    -2.183355813,
                    -2.618078358,
                    -1.0819110159999998,
                    -2.500023894,
                    -1.370184186,
                    -2.4332769919999997,
                    -1.666339889,
                    -2.8576729889999997,
                    -1.625672262,
                    -2.5263536280000003,
                    -2.7644404369999998,
                    -0.054006612999999995,
                    -2.116463269,
                    -1.998301479,
                    -2.254569968,
                    -3.000127312,
                    -2.7360072989999997,
                    -2.7577377469999997,
                    -1.713551786,
                    -1.755899818,
                    -2.556878206,
                    -2.5411241209999997,
                    -1.936371534,
                    -3.394874047,
                    -1.429361395,
                    -2.162795917,
                    -1.716466096,
                    -1.5803638569999998,
                    -1.6178738469999998,
                    -2.925890992,
                    -2.45685538,
                    -3.676267773,
                    -2.944232724,
                    -2.8149618810000003,
                    -0.611789473,
                    -3.335810315,
                    -1.769661427,
                    -2.2116362290000002,
                    -2.9375194639999997,
                    -3.2762380110000002,
                    -2.518195158,
                    -2.194476549,
                    -2.385984476,
                    -1.172236203,
                    -2.953939103,
                    -2.407964427,
                    -3.636833783,
                    -1.16733657,
                    -2.2811960019999997,
                    -1.119710491,
                    -2.463242714,
                    -2.201092557,
                    -2.6658853959999997,
                    -2.0501231730000002,
                    -2.321692814,
                    -1.2667610459999998,
                    -1.759131575,
                    -2.862763453,
                    0.004187281,
                    -1.4724422590000001,
                    -1.770700571,
                    -1.147913854,
                    -2.2233635080000003,
                    -2.39059848,
                    -2.66580066,
                    -2.552533902,
                    -2.497270881,
                    -2.7193959039999998,
                    -2.519764895,
                    -1.8149174380000002,
                    -1.9886157830000002,
                    -1.683489623,
                    -1.76392627,
                    -1.179981502,
                    -2.7932133919999997,
                    -1.696484052,
                    -2.8461608089999997,
                    -2.559770934,
                    -3.6399355539999996,
                    -1.041656664,
                    -3.64289216,
                    -2.278462418,
                    -1.81048116,
                    -2.815430619,
                    -2.319227544,
                    -1.803128658,
                    -1.82895049,
                    -1.852586129,
                    -1.178851866,
                    -1.604197427,
                    -2.1254284009999997,
                    -2.32817047,
                    -2.348879783,
                    -3.195814315,
                    -3.037707345,
                    -2.37252525,
                    -3.3736000510000004,
                    -2.755436885,
                    -2.58066491,
                    -2.036273591,
                    -2.908671185,
                    -2.177340304,
                    -2.771850362,
                    -0.675484106,
                    0.603083106,
                    -0.511090666,
                    0.557032679,
                    0.213840367,
                    0.226051243,
                    0.845298282,
                    -0.9732645679999999,
                    0.21322572399999998,
                    1.2562954,
                    -0.567859467,
                    -1.7673377680000002,
                    -1.657961295,
                    -3.038175323,
                    -0.20350797899999998,
                    1.275683999,
                    -1.4843560359999999,
                    -0.583696639,
                    0.800924596,
                    0.940750978,
                    -1.989870433,
                    -0.149306425,
                    -0.584273721,
                    -2.1892308590000003,
                    0.35870375600000004,
                    1.177972616,
                    -0.680406408,
                    -3.204948742,
                    -2.467111578,
                    -0.247205703,
                    -2.115730196,
                    -0.6239427329999999,
                    0.7944078590000001,
                    0.259716548,
                    -2.358667038,
                    0.16848627300000002,
                    -0.63975029,
                    -0.6552987029999999,
                    0.9360828309999999,
                    -0.6034420770000001,
                    -3.1016425460000003,
                    -3.5439874060000003,
                    1.052183905,
                    0.183285383,
                    -0.533508899,
                    -2.836400575,
                    -1.561415394,
                    -2.913001967,
                    -2.31050877,
                    -2.41721102,
                    -3.53942996,
                    -1.455174094,
                    -2.291102447,
                    -2.158912225,
                    0.393651401,
                    -1.7808379330000002,
                    0.247436299,
                    -1.902984077,
                    -1.374108359,
                    -0.601601499,
                    -2.403804934,
                    -2.846766899,
                    -3.596750775,
                    -2.978524086,
                    -2.6915303839999996,
                    -2.493544356,
                    -1.78905053,
                    -2.07868661,
                    -2.785488375,
                    -1.883648915,
                    -1.5035054719999998,
                    -1.732828438,
                    -2.793147802,
                    -3.088371668,
                    -2.476984216,
                    -1.2616519959999999,
                    -2.194383485,
                    -0.0800949,
                    0.024668264,
                    -1.697271948,
                    -1.495246562,
                    -2.247699737,
                    -0.483464856,
                    0.8239632029999999,
                    0.853612643,
                    -1.4127050719999998,
                    -1.686487447,
                    0.398470929,
                    -0.959596062,
                    -0.238184595,
                    -2.538234476,
                    -1.8965780159999999,
                    -2.496833038,
                    -1.863075566,
                    -1.895443508,
                    -2.348893092,
                    0.831305373,
                    0.514309064,
                    -1.2918937640000001,
                    -2.193262606,
                    -0.42912359899999997,
                    -1.530380628,
                    0.06665353,
                    -0.784494976,
                    -0.529575682,
                    -1.643398074,
                    -1.0005281959999999,
                    -0.95282901,
                    -1.2834048740000001,
                    -0.412664873,
                    -2.355404131,
                    1.078380806,
                    0.473172404,
                    -1.052631917,
                    -0.685224828,
                    0.60625712,
                    0.552231143,
                    -1.507738799,
                    0.8872512859999999,
                    0.356843257,
                    -0.715306862,
                    -2.2739497319999997,
                    -0.583532619,
                    -0.270183309,
                    -0.20107465,
                    -0.408106535,
                    0.339971588,
                    -0.41973150299999995,
                    -0.056406551,
                    -0.081595481,
                    -0.519230627,
                    -0.8032629729999999,
                    -0.7552867740000001,
                    -3.431114154,
                    -1.572730112,
                    -0.144546229,
                    1.103341259,
                    0.13819871,
                    -1.002324736,
                    1.0881570729999999,
                    -0.19506093,
                    0.716756594,
                    -0.774668028,
                    0.089047105,
                    -0.018214118,
                    -0.292949238,
                    0.56670268,
                    0.288768108,
                    0.588440804,
                    -1.253895746,
                    -0.539312321,
                    0.251353117,
                    -0.30538342,
                    -0.43138856600000003,
                    -0.9239256640000001,
                    -0.042496962,
                    -0.14977384900000001,
                    -0.31767018399999997,
                    -0.092406451,
                    0.909419695,
                    0.5920796620000001,
                    1.316493176,
                    -0.340544236,
                    -0.177925262,
                    0.605469731,
                    0.493708415,
                    -0.799487257,
                    -1.11705484,
                    -1.097408615,
                    0.971212194,
                    0.11461555,
                    0.079699363,
                    0.48227639299999997,
                    0.236548777,
                    -1.3824556669999999,
                    -0.5161723229999999,
                    -0.12110512699999999,
                    -0.769838472,
                    0.137951681,
                    -0.465871169,
                    -0.28055423,
                    -0.262502177,
                    -0.362712542,
                    -0.093418296,
                    0.44053301799999994,
                    -0.41597369,
                    0.164178505,
                    0.223282208,
                    -0.249112213,
                    -0.138491057,
                    0.816261254,
                    -0.12234291900000001,
                    -1.037523038,
                    0.020153195,
                    0.065674223,
                    -0.22743055899999998,
                    0.983627013,
                    -0.189495706,
                    0.006880764,
                    -0.44793970200000005,
                    0.661885697,
                    0.00493344,
                    -0.334656174,
                    0.522033521,
                    0.381140286,
                    -0.349618621,
                    -0.35889912700000004,
                    -0.816671838,
                    0.029162242999999997,
                    -0.0032605240000000003,
                    -0.726209978,
                    1.008282891,
                    -0.096164721,
                    -1.435921134,
                    0.143048465,
                    0.33918707299999995,
                    0.7373834979999999,
                    -0.130639229,
                    0.048332444,
                    -0.8257968640000001,
                    0.507236967,
                    -1.3125722640000002,
                    0.902661245,
                    0.369249027,
                    -0.23912037100000003,
                    0.711158299,
                    -0.253503254,
                    1.12429464,
                    -0.940741963,
                    -0.881503978,
                    0.21707516,
                    0.847926538,
                    -0.777331928,
                    -1.257712963,
                    -0.237038257,
                    -0.78202723,
                    -0.6121580529999999,
                    0.126890027,
                    0.065357628,
                    0.139892877,
                    0.492744179,
                    -1.097004912,
                    0.493526931,
                    -0.800782387,
                    0.073434314,
                    0.323143442,
                    0.523273059,
                    0.987861812,
                    0.304712221,
                    0.14441463400000001,
                    -0.448596035,
                    0.221019708,
                    0.847763908,
                    0.898551622,
                    -0.116008005,
                    0.294811559,
                    0.307226901,
                    1.178357171,
                    0.233823812,
                    0.555416606,
                    0.573393122,
                    -0.315092518,
                    0.198952396,
                    -0.274810389,
                    0.551066288,
                    -0.776042454,
                    0.9550472609999999,
                    -0.055765398,
                    -0.03843088,
                    1.065174212,
                    0.292194255,
                    0.767159433,
                    0.11899517400000001,
                    -0.296560369,
                    0.977323053,
                    0.34502973,
                    0.40527521200000005,
                    0.25506381,
                    0.594855871,
                    0.6661157679999999,
                    0.36104051,
                    0.107541264,
                    0.144573631,
                    -1.865126616,
                    -3.008131033,
                    -0.45504457200000004,
                    -2.101678771,
                    -0.755870093,
                    -1.9176847209999999,
                    -1.710588021,
                    -2.084662291,
                    -1.2746464309999999,
                    -1.198710222,
                    -0.743778024,
                    -0.92631875,
                    -0.659302511,
                    -1.220682609,
                    0.24416459899999998,
                    -0.434453496,
                    -0.39146418899999996,
                    -1.585192655,
                    -1.893036688,
                    -3.0421357810000003,
                    -1.3315417,
                    -1.38298969,
                    -1.230297184,
                    -0.417731288,
                    0.277173161,
                    -2.041095297,
                    -1.006358141,
                    0.278696382,
                    -0.274541107,
                    -0.432677528,
                    -0.060860764000000005,
                    -0.674418726,
                    -1.503307098,
                    -1.9011605930000002,
                    -3.1820929889999996,
                    -1.396125621,
                    -1.985606983,
                    -1.829778572,
                    0.041329904,
                    -2.57511146,
                    -2.437427843,
                    -2.008490859,
                    -0.829202648,
                    -0.9878633729999999,
                    -1.063612593,
                    -1.680554848,
                    -0.7692072529999999,
                    -2.2734692819999998,
                    -1.768707595,
                    -2.6169351130000003,
                    -3.041761967,
                    -3.477841745,
                    -1.45565771,
                    -2.708607461,
                    -2.047853485,
                    -2.512059914,
                    -2.180453384,
                    -2.129102586,
                    -1.9307749369999998,
                    -0.655743139,
                    -3.164808116,
                    -1.9659852290000002,
                    -1.6707284430000002,
                    -2.0151774469999997,
                    -1.301586446,
                    -0.7644659420000001,
                    -1.7276296340000001,
                    -1.753390777,
                    -2.616035353,
                    -0.75993091,
                    -2.8853845160000002,
                    -1.842191006,
                    -2.0127335669999997,
                    -2.012211289,
                    -3.343134014,
                    -1.274794998,
                    -0.533714791,
                    -2.039424097,
                    -1.782425874,
                    -2.030086654,
                    -0.8889691690000001,
                    -1.319049924,
                    -2.016611105,
                    -1.485908196,
                    -2.711545035,
                    -0.739871464,
                    -2.485969587,
                    -2.675252681,
                    -2.901986777,
                    -2.601069636,
                    -0.37562874700000004,
                    -2.77416827,
                    -1.506059228,
                    -1.1141250790000001,
                    -0.398538899,
                    -1.5214628559999999,
                    -2.457391864,
                    -2.822005817,
                    -1.2643223940000001,
                    -2.1094126159999997,
                    -1.798356059,
                    -2.051922169,
                    -2.155723039,
                    -0.384954233,
                    -3.223443968,
                    -1.057806599,
                    -3.191054044,
                    -2.68623973,
                    -3.473291694,
                    -0.780457475,
                    -1.619339458,
                    -1.199124971,
                    -0.82739846,
                    -2.949987825,
                    -1.638285475,
                    -1.661991499,
                    -0.96924999,
                    -1.68271827,
                    -1.029886829,
                    0.035545146,
                    0.410207317,
                    -1.38178624,
                    -2.590842009,
                    -1.691501234,
                    -1.029448678,
                    0.8409999359999999,
                    -1.4729828090000001,
                    -3.1433874019999997,
                    -3.1206427089999997,
                    -0.072256895,
                    0.224556859,
                    -1.202415911,
                    -0.757147963,
                    -1.199019979,
                    -0.78404479,
                    -0.28101074600000003,
                    0.21845871,
                    0.589001578,
                    0.437436996,
                    -0.580630824,
                    -0.70142277,
                    -0.379864669,
                    -1.033798688,
                    -1.440498588,
                    -1.325550349,
                    -0.610296731,
                    -0.500558945,
                    -1.4243681819999998,
                    0.497026829,
                    -1.075147178,
                    -0.39465262799999995,
                    -0.7494882390000001,
                    0.698203708,
                    -0.452680032,
                    -0.621558611,
                    -0.69788138,
                    1.00540027,
                    -0.57848221,
                    -0.492697273,
                    -1.345053241,
                    -0.41617360200000003,
                    -0.12103065199999999,
                    -1.451268384,
                    -0.571787383,
                    -0.296045795,
                    -1.324563641,
                    -1.819263041,
                    -1.010812418,
                    -0.944329891,
                    0.370307626,
                    -0.230734605,
                    -0.722555848,
                    -1.97585251,
                    -1.392464649,
                    -1.916807411,
                    -3.355931015,
                    -1.3093218290000002,
                    -0.638945148,
                    -1.7957734330000001,
                    -2.5161788130000002,
                    -0.026754507,
                    -1.066312659,
                    -0.52620371,
                    -0.332729519,
                    -0.203188101,
                    -0.7070891109999999,
                    -0.671214268,
                    -0.069266933,
                    0.314463848,
                    -0.36197749799999995,
                    -1.087621777,
                    -0.669352415,
                    -1.40300932,
                    -0.529921906,
                    -2.2565056130000003,
                    -1.19295363,
                    -1.738855026,
                    -1.07681492,
                    0.171158967,
                    -2.362704181,
                    -1.8675749330000002,
                    -1.360540347,
                    -1.487493776,
                    -0.90345299,
                    -0.703416213,
                    0.823503573,
                    0.32007246,
                    -0.5767517010000001,
                    -0.231138452,
                    -0.124091083,
                    -0.673725777,
                    -1.646924298,
                    -1.2699998890000002,
                    -0.578084929,
                    -0.769484375,
                    -1.768397921,
                    -1.6522364630000002,
                    -2.186441667,
                    -1.43205884,
                    -0.35932853299999995,
                    -1.2036360179999999,
                    -0.448541391,
                    -0.776034476,
                    -0.7695529529999999,
                    -1.602807265,
                    -1.4118837030000002,
                    -1.234426504,
                    -2.556269816,
                    -0.775744242,
                    -1.53032668,
                    -1.524661276,
                    -1.192042786,
                    -2.169250566,
                    -1.377255484,
                    -1.461907733,
                    -2.086623467,
                    -0.64619549,
                    -0.636687494,
                    -0.663721971,
                    -0.22357072100000003,
                    -0.871826488,
                    0.38760704799999995,
                    -0.41969098200000005,
                    -0.28903163,
                    -1.8371651569999998,
                    -1.767730154,
                    0.276671488,
                    -1.580279588,
                    -0.288221027,
                    -1.397628284,
                    -0.8173931440000001,
                    -1.763012421,
                    -0.253213709,
                    -0.636261431,
                    -1.36136559,
                    -0.40006892299999997,
                    0.173562301,
                    -0.116506835,
                    -0.768736225,
                    -1.480295605,
                    -1.131979892,
                    -1.672774582,
                    -0.833513087,
                    -1.205215997,
                    -1.03174025,
                    -0.46342753799999997,
                    -0.559436168,
                    -0.565150113,
                    -1.1875823540000001,
                    -1.68110811,
                    -0.296345608,
                    -0.105222174,
                    0.5935598320000001,
                    0.12982992,
                    -0.654343204,
                    -0.176114981,
                    -0.02829402,
                    -0.62782632,
                    -0.527737284,
                    -0.389981467,
                    -1.349666915,
                    -1.28772254,
                    -0.5806449539999999,
                    -1.7681307819999998,
                    -0.7869341540000001,
                    -1.008496236,
                    -1.1723039579999999,
                    -0.548806589,
                    -0.159325458,
                    -0.12409293199999999,
                    -0.258175247,
                    0.289033196,
                    -0.12918164199999999,
                    -0.436762279,
                    -0.521839701,
                    0.454251381,
                    -0.351625969,
                    -0.36873046,
                    -0.9741506759999999,
                    -0.133873217,
                    -0.7667638840000001,
                    0.561113556,
                    0.027568232999999998,
                    -1.5872154330000001,
                    -1.1999571820000001,
                    -0.556143721,
                    -1.173475813,
                    -1.695788714,
                    -2.163125398,
                    -2.306659296,
                    -2.4214142880000002,
                    0.48415377600000004,
                    -0.5637588570000001,
                    -0.629101667,
                    -0.599905635,
                    -0.624756286,
                    -1.402129583,
                    -0.9748904340000001,
                    -0.71340362,
                    -0.9815239640000001,
                    -1.059070623,
                    -0.788881163,
                    -0.8206998940000001,
                    -0.159054045,
                    -0.49523321600000003,
                    0.548825845,
                    -0.780167849,
                    -0.193262027,
                    -1.647891253,
                    -0.9305113420000001,
                    -0.96427267,
                    -1.079335149,
                    -0.763638068,
                    0.501851747,
                    -0.015542567,
                    -0.140159605,
                    -1.6393535830000001,
                    -0.021926319,
                    -0.9654690309999999,
                    -1.1888805820000001,
                    -0.26715871199999996,
                    -2.363743905,
                    -1.5423145269999998,
                    -0.4144323,
                    -0.9595909,
                    -1.650243264,
                    -0.983660168,
                    -0.511124158,
                    -1.733871706,
                    0.164394991,
                    -0.654382262,
                    0.342018224,
                    0.09999663800000001,
                    -0.109608482,
                    -0.36029382600000004,
                    -1.7171802440000001,
                    -0.647403626,
                    -0.286247192,
                    -0.21279072100000002,
                    0.33573749,
                    0.434447474,
                    -0.9215528690000001,
                    -1.2931679,
                    0.28646735100000004,
                    -1.00850791,
                    -0.435472611,
                    -0.620368143,
                    -0.44878083399999996,
                    -0.479415332,
                    -2.076771965,
                    -1.303200077,
                    -0.5070222870000001,
                    -0.824196587,
                    -0.5162316889999999,
                    -1.734927169,
                    -1.679017079,
                    -0.969682171,
                    -0.51751712,
                    0.29324228399999996,
                    -0.509803903,
                    0.558974921,
                    -1.134066623,
                    -1.501889929,
                    -1.012393435,
                    -0.049400525,
                    -0.32165293,
                    -0.739089228,
                    0.145040213,
                    -0.848789922,
                    -0.6978402220000001,
                    0.125885031,
                    -0.012844178999999999,
                    -1.1700536670000001,
                    0.050397486,
                    -1.41812905,
                    -1.7006187640000001,
                    -0.938620675,
                    -1.105646701,
                    -1.646760068,
                    -0.5894011339999999,
                    0.079328186,
                    -0.416301583,
                    -0.61894531,
                    -0.610173609,
                    -0.698774597,
                    -0.600053432,
                    -0.605236051,
                    -0.279422042,
                    -0.9561182029999999,
                    -0.442098974,
                    -0.827770126,
                    -0.250211342,
                    -1.02023057,
                    -1.979186805,
                    -1.383705397,
                    1.029429538,
                    -0.219401793,
                    -1.154026871,
                    -1.3763221980000002,
                    -1.955010427,
                    -0.5694035239999999,
                    -0.613595584,
                    -1.2699270059999999,
                    -0.72505481,
                    -0.925382055,
                    -1.224631689,
                    -0.409268285,
                    -1.494802524,
                    -0.8184038920000001,
                    -2.253427614,
                    -1.340656035,
                    -1.628925901,
                    -1.220072399,
                    -1.615115569,
                    -1.171994378,
                    -2.8852806,
                    -0.7601448909999999,
                    -1.074493888,
                    -0.702634106,
                    -0.025405297,
                    -1.317047987,
                    -0.332445996,
                    -1.839646897,
                    -0.345776961,
                    -1.796458718,
                    -1.5335201059999999,
                    -1.398764415,
                    -0.649769815,
                    -1.244948811,
                    -0.870159846,
                    -0.213932294,
                    0.04682205,
                    -0.00392285,
                    -0.10073523699999999,
                    -0.38631382200000003,
                    -0.9778154170000001,
                    -1.159264533,
                    -1.154604142,
                    -1.960115381,
                    -1.417609212,
                    -2.5898319340000002,
                    -0.635887771,
                    0.123510589,
                    -0.282837043,
                    0.5305142820000001,
                    -1.285439638,
                    0.430458655,
                    -0.461795522,
                    -1.040140364,
                    -1.028244259,
                    -0.320310459,
                    -0.7428356540000001,
                    -1.786959444,
                    -1.161769606,
                    -1.4883725819999998,
                    -1.543063106,
                    -2.500101134,
                    -0.9197327240000001,
                    -1.4766612140000002,
                    0.380898468,
                    -1.8978654469999998,
                    -2.802927561,
                    -1.3623320380000001,
                    0.377163132,
                    -0.620987367,
                    0.54748652,
                    -0.135174835,
                    -0.662825727,
                    0.383169435,
                    -0.66377888,
                    -0.869539752,
                    -0.158521513,
                    -0.7809983620000001,
                    0.40730717,
                    0.652234999,
                    -0.11879421400000001,
                    -0.427376752,
                    -0.985785397,
                    0.22503686399999998,
                    -0.44632581,
                    -0.595841399,
                    -0.206749288,
                    0.6309227789999999,
                    -0.973742407,
                    -1.7686076569999998,
                    -1.180387718,
                    -1.2495314990000002,
                    -1.21117325,
                    0.600508917,
                    0.051885920999999995,
                    0.700634685,
                    0.500174428,
                    1.27984618,
                    -0.962189373,
                    -1.083530426,
                    -3.2232020980000002,
                    0.123882554,
                    -0.19759880300000002,
                    -1.342369273,
                    0.16641750800000002,
                    -0.067349413,
                    -0.405085984,
                    -0.572767569,
                    -0.339629515,
                    -0.188191513,
                    0.478576257,
                    0.21385432699999998,
                    -0.879892862,
                    -0.170251333,
                    1.281422354,
                    -0.44546144,
                    0.664597941,
                    0.766971435,
                    1.4443849519999998,
                    -0.6726982659999999,
                    -0.67345523,
                    -0.66139437,
                    0.639664825,
                    0.73361431,
                    0.19899776800000002,
                    0.331813697,
                    -0.231295405,
                    1.465054812,
                    0.598522751,
                    -1.019399237,
                    -0.183862181,
                    0.304491108,
                    -0.186014791,
                    -0.281015345,
                    -1.122988261,
                    -0.26701251,
                    0.247029737,
                    0.46726408399999997,
                    -0.354378564,
                    -0.377535433,
                    0.40437854,
                    -3.218972393,
                    -3.078083218,
                    0.943020903,
                    -0.788321808,
                    -0.813542601,
                    -1.82115147,
                    -1.8377609259999999,
                    -0.858525293,
                    -2.249781502,
                    -3.2860646289999997,
                    -0.604038414,
                    -0.033046431,
                    -0.48559610700000005,
                    -2.053791606,
                    -0.732739145,
                    -0.7662270240000001,
                    -1.291052921,
                    -0.42760112899999997,
                    -2.440718232,
                    -1.360107173,
                    -0.030670606,
                    0.307291723,
                    -2.255142197,
                    -0.801093115,
                    -1.581037089,
                    -1.7957833090000002,
                    -2.4462289740000003,
                    -1.4383621480000002,
                    -0.925525145,
                    -2.131611375,
                    -0.7064312709999999,
                    -1.2815534020000001,
                    -1.540992613,
                    -2.133114882,
                    -1.766723874,
                    -0.9710273359999999,
                    -0.556713185,
                    -1.2002060270000001,
                    -3.31528229,
                    -1.471859295,
                    -2.2061304330000002,
                    -2.5426323980000003,
                    -1.706167744,
                    -1.059062701,
                    0.031372778,
                    0.136377219,
                    -0.581430381,
                    -1.598382296,
                    -0.960042463,
                    -0.889507777,
                    0.20893682800000002,
                    -1.835393935,
                    0.005043864,
                    -0.010102659,
                    -1.234616781,
                    -0.45305162299999996,
                    0.090334665,
                    -0.522768858,
                    0.150524028,
                    0.53558468,
                    -0.661596356,
                    -0.033403452,
                    0.008935664,
                    -1.216708721,
                    -0.258269554,
                    -1.415011332,
                    -1.177886917,
                    -1.243383855,
                    -1.507300932,
                    0.035570382000000005,
                    -0.656458538,
                    -0.125892568,
                    -0.810443543,
                    0.183676938,
                    -0.8281238540000001,
                    -1.208209756,
                    -2.045048792,
                    -0.400910655,
                    0.088763638,
                    -0.003054017,
                    0.596820123,
                    0.142539774,
                    0.627643273,
                    -1.291127806,
                    -1.190053049,
                    -2.68107788,
                    -2.321549629,
                    -2.99484817,
                    -2.578989066,
                    -2.0374664730000003,
                    -2.142987561,
                    -2.790745419,
                    -2.371111888,
                    -2.330077146,
                    -1.949838508,
                    -2.670899861,
                    0.47845220899999996,
                    0.069619504,
                    -1.312904807,
                    0.021935307999999997,
                    -1.8138509040000002,
                    -1.4436670180000002,
                    -1.9999222669999999,
                    -1.221229701,
                    -1.007687996,
                    -1.333100456,
                    -1.564267941,
                    -2.44570688,
                    -1.3053055470000001,
                    -1.9818705159999999,
                    -3.263930896,
                    -0.9883045490000001,
                    -1.6326342530000002,
                    -2.49253904,
                    -0.212349302,
                    0.646549436,
                    -1.9333583019999998,
                    -2.4985013769999997,
                    -1.729508565,
                    -3.11097387,
                    -2.415178226,
                    -1.6977920519999998,
                    -2.028694853,
                    -2.830075383,
                    -1.198192324,
                    -1.050635191,
                    -2.099604652,
                    -1.51834981,
                    -2.302414545,
                    -1.991155658,
                    -0.26127875,
                    -2.857489634,
                    -0.940478103,
                    -2.487055521,
                    -2.758743415,
                    -0.86241702,
                    -1.506474394,
                    -1.891061968,
                    -0.8820081679999999,
                    0.42625568799999997,
                    -1.156798852,
                    -1.7859843640000002,
                    0.309697434,
                    -1.188593065,
                    -1.523820601,
                    -1.014886441,
                    -2.071271224,
                    -0.61404138,
                    -1.71147614,
                    -0.19464915300000002,
                    -1.502453987,
                    -1.394596543,
                    0.176243348,
                    -0.284613235,
                    -3.527563909,
                    -1.865442606,
                    -2.158626155,
                    -1.871531787,
                    -0.5319518520000001,
                    -0.967701693,
                    -1.0023406940000001,
                    -2.251709791,
                    0.09574508400000001,
                    -2.441540897,
                    -1.822256378,
                    -2.430305441,
                    -1.5729815759999999,
                    -1.208734075,
                    -0.9804527140000001,
                    0.373124454,
                    -2.459245642,
                    -2.169683991,
                    -1.6719304469999998,
                    -1.411310796,
                    -2.362779263,
                    -1.681544004,
                    -1.9617343180000002,
                    -2.189229756,
                    -1.055061636,
                    -0.250208993,
                    -1.3667052430000002,
                    -1.7539961480000001,
                    -0.9492298220000001,
                    0.223365705,
                    -1.5649862630000002,
                    -2.128637056,
                    -1.9290766719999999,
                    -0.949682356,
                    -1.7524997,
                    -2.434505315,
                    -1.1617458809999999,
                    -1.67345497,
                    -2.128850065,
                    -2.033737526,
                    -0.894009394,
                    -2.000163711,
                    -0.123139093,
                    -0.6753361109999999,
                    -2.251382021,
                    -1.3753448380000002,
                    -1.680656465,
                    0.026327432,
                    0.8511712240000001,
                    0.490577969,
                    0.584865593,
                    0.566717326,
                    0.123378824,
                    1.029667868,
                    0.12045764099999999,
                    0.747774563,
                    1.196247777,
                    0.546674687,
                    0.608107952,
                    1.7113898269999999,
                    0.18947566899999999,
                    0.255209381,
                    -0.21527918100000001,
                    0.300778753
                  ],
                  "alignmentgroup": "True",
                  "type": "histogram",
                  "orientation": "v"
                }
              ],
              "config": {
                "plotlyServerURL": "https://plot.ly"
              },
              "layout": {
                "xaxis": {
                  "domain": [
                    0,
                    1
                  ],
                  "anchor": "y",
                  "title": {
                    "text": "target"
                  }
                },
                "yaxis": {
                  "domain": [
                    0,
                    1
                  ],
                  "anchor": "x",
                  "title": {
                    "text": "count"
                  }
                },
                "barmode": "relative",
                "template": {
                  "layout": {
                    "shapedefaults": {
                      "line": {
                        "color": "#2a3f5f"
                      }
                    },
                    "polar": {
                      "radialaxis": {
                        "ticks": "",
                        "gridcolor": "white",
                        "linecolor": "white"
                      },
                      "bgcolor": "#E5ECF6",
                      "angularaxis": {
                        "ticks": "",
                        "gridcolor": "white",
                        "linecolor": "white"
                      }
                    },
                    "colorway": [
                      "#636efa",
                      "#EF553B",
                      "#00cc96",
                      "#ab63fa",
                      "#FFA15A",
                      "#19d3f3",
                      "#FF6692",
                      "#B6E880",
                      "#FF97FF",
                      "#FECB52"
                    ],
                    "xaxis": {
                      "automargin": true,
                      "title": {
                        "standoff": 15
                      },
                      "zerolinewidth": 2,
                      "ticks": "",
                      "zerolinecolor": "white",
                      "gridcolor": "white",
                      "linecolor": "white"
                    },
                    "colorscale": {
                      "diverging": [
                        [
                          0,
                          "#8e0152"
                        ],
                        [
                          0.1,
                          "#c51b7d"
                        ],
                        [
                          0.2,
                          "#de77ae"
                        ],
                        [
                          0.3,
                          "#f1b6da"
                        ],
                        [
                          0.4,
                          "#fde0ef"
                        ],
                        [
                          0.5,
                          "#f7f7f7"
                        ],
                        [
                          0.6,
                          "#e6f5d0"
                        ],
                        [
                          0.7,
                          "#b8e186"
                        ],
                        [
                          0.8,
                          "#7fbc41"
                        ],
                        [
                          0.9,
                          "#4d9221"
                        ],
                        [
                          1,
                          "#276419"
                        ]
                      ],
                      "sequential": [
                        [
                          0,
                          "#0d0887"
                        ],
                        [
                          0.1111111111111111,
                          "#46039f"
                        ],
                        [
                          0.2222222222222222,
                          "#7201a8"
                        ],
                        [
                          0.3333333333333333,
                          "#9c179e"
                        ],
                        [
                          0.4444444444444444,
                          "#bd3786"
                        ],
                        [
                          0.5555555555555556,
                          "#d8576b"
                        ],
                        [
                          0.6666666666666666,
                          "#ed7953"
                        ],
                        [
                          0.7777777777777778,
                          "#fb9f3a"
                        ],
                        [
                          0.8888888888888888,
                          "#fdca26"
                        ],
                        [
                          1,
                          "#f0f921"
                        ]
                      ],
                      "sequentialminus": [
                        [
                          0,
                          "#0d0887"
                        ],
                        [
                          0.1111111111111111,
                          "#46039f"
                        ],
                        [
                          0.2222222222222222,
                          "#7201a8"
                        ],
                        [
                          0.3333333333333333,
                          "#9c179e"
                        ],
                        [
                          0.4444444444444444,
                          "#bd3786"
                        ],
                        [
                          0.5555555555555556,
                          "#d8576b"
                        ],
                        [
                          0.6666666666666666,
                          "#ed7953"
                        ],
                        [
                          0.7777777777777778,
                          "#fb9f3a"
                        ],
                        [
                          0.8888888888888888,
                          "#fdca26"
                        ],
                        [
                          1,
                          "#f0f921"
                        ]
                      ]
                    },
                    "paper_bgcolor": "white",
                    "plot_bgcolor": "#E5ECF6",
                    "title": {
                      "x": 0.05
                    },
                    "scene": {
                      "zaxis": {
                        "backgroundcolor": "#E5ECF6",
                        "ticks": "",
                        "gridwidth": 2,
                        "showbackground": true,
                        "zerolinecolor": "white",
                        "gridcolor": "white",
                        "linecolor": "white"
                      },
                      "xaxis": {
                        "backgroundcolor": "#E5ECF6",
                        "ticks": "",
                        "gridwidth": 2,
                        "showbackground": true,
                        "zerolinecolor": "white",
                        "gridcolor": "white",
                        "linecolor": "white"
                      },
                      "yaxis": {
                        "backgroundcolor": "#E5ECF6",
                        "ticks": "",
                        "gridwidth": 2,
                        "showbackground": true,
                        "zerolinecolor": "white",
                        "gridcolor": "white",
                        "linecolor": "white"
                      }
                    },
                    "yaxis": {
                      "automargin": true,
                      "title": {
                        "standoff": 15
                      },
                      "zerolinewidth": 2,
                      "ticks": "",
                      "zerolinecolor": "white",
                      "gridcolor": "white",
                      "linecolor": "white"
                    },
                    "annotationdefaults": {
                      "arrowwidth": 1,
                      "arrowhead": 0,
                      "arrowcolor": "#2a3f5f"
                    },
                    "hoverlabel": {
                      "align": "left"
                    },
                    "ternary": {
                      "bgcolor": "#E5ECF6",
                      "baxis": {
                        "ticks": "",
                        "gridcolor": "white",
                        "linecolor": "white"
                      },
                      "caxis": {
                        "ticks": "",
                        "gridcolor": "white",
                        "linecolor": "white"
                      },
                      "aaxis": {
                        "ticks": "",
                        "gridcolor": "white",
                        "linecolor": "white"
                      }
                    },
                    "mapbox": {
                      "style": "light"
                    },
                    "hovermode": "closest",
                    "font": {
                      "color": "#2a3f5f"
                    },
                    "geo": {
                      "showland": true,
                      "landcolor": "#E5ECF6",
                      "showlakes": true,
                      "bgcolor": "white",
                      "subunitcolor": "white",
                      "lakecolor": "white"
                    },
                    "coloraxis": {
                      "colorbar": {
                        "outlinewidth": 0,
                        "ticks": ""
                      }
                    }
                  },
                  "data": {
                    "mesh3d": [
                      {
                        "colorbar": {
                          "outlinewidth": 0,
                          "ticks": ""
                        },
                        "type": "mesh3d"
                      }
                    ],
                    "scattercarpet": [
                      {
                        "marker": {
                          "colorbar": {
                            "outlinewidth": 0,
                            "ticks": ""
                          }
                        },
                        "type": "scattercarpet"
                      }
                    ],
                    "pie": [
                      {
                        "automargin": true,
                        "type": "pie"
                      }
                    ],
                    "surface": [
                      {
                        "colorbar": {
                          "outlinewidth": 0,
                          "ticks": ""
                        },
                        "type": "surface",
                        "colorscale": [
                          [
                            0,
                            "#0d0887"
                          ],
                          [
                            0.1111111111111111,
                            "#46039f"
                          ],
                          [
                            0.2222222222222222,
                            "#7201a8"
                          ],
                          [
                            0.3333333333333333,
                            "#9c179e"
                          ],
                          [
                            0.4444444444444444,
                            "#bd3786"
                          ],
                          [
                            0.5555555555555556,
                            "#d8576b"
                          ],
                          [
                            0.6666666666666666,
                            "#ed7953"
                          ],
                          [
                            0.7777777777777778,
                            "#fb9f3a"
                          ],
                          [
                            0.8888888888888888,
                            "#fdca26"
                          ],
                          [
                            1,
                            "#f0f921"
                          ]
                        ]
                      }
                    ],
                    "table": [
                      {
                        "header": {
                          "line": {
                            "color": "white"
                          },
                          "fill": {
                            "color": "#C8D4E3"
                          }
                        },
                        "cells": {
                          "line": {
                            "color": "white"
                          },
                          "fill": {
                            "color": "#EBF0F8"
                          }
                        },
                        "type": "table"
                      }
                    ],
                    "scatterpolargl": [
                      {
                        "marker": {
                          "colorbar": {
                            "outlinewidth": 0,
                            "ticks": ""
                          }
                        },
                        "type": "scatterpolargl"
                      }
                    ],
                    "contour": [
                      {
                        "colorbar": {
                          "outlinewidth": 0,
                          "ticks": ""
                        },
                        "type": "contour",
                        "colorscale": [
                          [
                            0,
                            "#0d0887"
                          ],
                          [
                            0.1111111111111111,
                            "#46039f"
                          ],
                          [
                            0.2222222222222222,
                            "#7201a8"
                          ],
                          [
                            0.3333333333333333,
                            "#9c179e"
                          ],
                          [
                            0.4444444444444444,
                            "#bd3786"
                          ],
                          [
                            0.5555555555555556,
                            "#d8576b"
                          ],
                          [
                            0.6666666666666666,
                            "#ed7953"
                          ],
                          [
                            0.7777777777777778,
                            "#fb9f3a"
                          ],
                          [
                            0.8888888888888888,
                            "#fdca26"
                          ],
                          [
                            1,
                            "#f0f921"
                          ]
                        ]
                      }
                    ],
                    "carpet": [
                      {
                        "type": "carpet",
                        "baxis": {
                          "minorgridcolor": "white",
                          "gridcolor": "white",
                          "linecolor": "white",
                          "endlinecolor": "#2a3f5f",
                          "startlinecolor": "#2a3f5f"
                        },
                        "aaxis": {
                          "minorgridcolor": "white",
                          "gridcolor": "white",
                          "linecolor": "white",
                          "endlinecolor": "#2a3f5f",
                          "startlinecolor": "#2a3f5f"
                        }
                      }
                    ],
                    "contourcarpet": [
                      {
                        "colorbar": {
                          "outlinewidth": 0,
                          "ticks": ""
                        },
                        "type": "contourcarpet"
                      }
                    ],
                    "heatmap": [
                      {
                        "colorbar": {
                          "outlinewidth": 0,
                          "ticks": ""
                        },
                        "type": "heatmap",
                        "colorscale": [
                          [
                            0,
                            "#0d0887"
                          ],
                          [
                            0.1111111111111111,
                            "#46039f"
                          ],
                          [
                            0.2222222222222222,
                            "#7201a8"
                          ],
                          [
                            0.3333333333333333,
                            "#9c179e"
                          ],
                          [
                            0.4444444444444444,
                            "#bd3786"
                          ],
                          [
                            0.5555555555555556,
                            "#d8576b"
                          ],
                          [
                            0.6666666666666666,
                            "#ed7953"
                          ],
                          [
                            0.7777777777777778,
                            "#fb9f3a"
                          ],
                          [
                            0.8888888888888888,
                            "#fdca26"
                          ],
                          [
                            1,
                            "#f0f921"
                          ]
                        ]
                      }
                    ],
                    "scattermapbox": [
                      {
                        "marker": {
                          "colorbar": {
                            "outlinewidth": 0,
                            "ticks": ""
                          }
                        },
                        "type": "scattermapbox"
                      }
                    ],
                    "scatter3d": [
                      {
                        "marker": {
                          "colorbar": {
                            "outlinewidth": 0,
                            "ticks": ""
                          }
                        },
                        "line": {
                          "colorbar": {
                            "outlinewidth": 0,
                            "ticks": ""
                          }
                        },
                        "type": "scatter3d"
                      }
                    ],
                    "scattergl": [
                      {
                        "marker": {
                          "colorbar": {
                            "outlinewidth": 0,
                            "ticks": ""
                          }
                        },
                        "type": "scattergl"
                      }
                    ],
                    "scatterternary": [
                      {
                        "marker": {
                          "colorbar": {
                            "outlinewidth": 0,
                            "ticks": ""
                          }
                        },
                        "type": "scatterternary"
                      }
                    ],
                    "histogram": [
                      {
                        "marker": {
                          "colorbar": {
                            "outlinewidth": 0,
                            "ticks": ""
                          }
                        },
                        "type": "histogram"
                      }
                    ],
                    "heatmapgl": [
                      {
                        "colorbar": {
                          "outlinewidth": 0,
                          "ticks": ""
                        },
                        "type": "heatmapgl",
                        "colorscale": [
                          [
                            0,
                            "#0d0887"
                          ],
                          [
                            0.1111111111111111,
                            "#46039f"
                          ],
                          [
                            0.2222222222222222,
                            "#7201a8"
                          ],
                          [
                            0.3333333333333333,
                            "#9c179e"
                          ],
                          [
                            0.4444444444444444,
                            "#bd3786"
                          ],
                          [
                            0.5555555555555556,
                            "#d8576b"
                          ],
                          [
                            0.6666666666666666,
                            "#ed7953"
                          ],
                          [
                            0.7777777777777778,
                            "#fb9f3a"
                          ],
                          [
                            0.8888888888888888,
                            "#fdca26"
                          ],
                          [
                            1,
                            "#f0f921"
                          ]
                        ]
                      }
                    ],
                    "scatterpolar": [
                      {
                        "marker": {
                          "colorbar": {
                            "outlinewidth": 0,
                            "ticks": ""
                          }
                        },
                        "type": "scatterpolar"
                      }
                    ],
                    "histogram2d": [
                      {
                        "colorbar": {
                          "outlinewidth": 0,
                          "ticks": ""
                        },
                        "type": "histogram2d",
                        "colorscale": [
                          [
                            0,
                            "#0d0887"
                          ],
                          [
                            0.1111111111111111,
                            "#46039f"
                          ],
                          [
                            0.2222222222222222,
                            "#7201a8"
                          ],
                          [
                            0.3333333333333333,
                            "#9c179e"
                          ],
                          [
                            0.4444444444444444,
                            "#bd3786"
                          ],
                          [
                            0.5555555555555556,
                            "#d8576b"
                          ],
                          [
                            0.6666666666666666,
                            "#ed7953"
                          ],
                          [
                            0.7777777777777778,
                            "#fb9f3a"
                          ],
                          [
                            0.8888888888888888,
                            "#fdca26"
                          ],
                          [
                            1,
                            "#f0f921"
                          ]
                        ]
                      }
                    ],
                    "scattergeo": [
                      {
                        "marker": {
                          "colorbar": {
                            "outlinewidth": 0,
                            "ticks": ""
                          }
                        },
                        "type": "scattergeo"
                      }
                    ],
                    "bar": [
                      {
                        "marker": {
                          "line": {
                            "color": "#E5ECF6",
                            "width": 0.5
                          }
                        },
                        "type": "bar",
                        "error_x": {
                          "color": "#2a3f5f"
                        },
                        "error_y": {
                          "color": "#2a3f5f"
                        }
                      }
                    ],
                    "choropleth": [
                      {
                        "colorbar": {
                          "outlinewidth": 0,
                          "ticks": ""
                        },
                        "type": "choropleth"
                      }
                    ],
                    "parcoords": [
                      {
                        "line": {
                          "colorbar": {
                            "outlinewidth": 0,
                            "ticks": ""
                          }
                        },
                        "type": "parcoords"
                      }
                    ],
                    "barpolar": [
                      {
                        "marker": {
                          "line": {
                            "color": "#E5ECF6",
                            "width": 0.5
                          }
                        },
                        "type": "barpolar"
                      }
                    ],
                    "histogram2dcontour": [
                      {
                        "colorbar": {
                          "outlinewidth": 0,
                          "ticks": ""
                        },
                        "type": "histogram2dcontour",
                        "colorscale": [
                          [
                            0,
                            "#0d0887"
                          ],
                          [
                            0.1111111111111111,
                            "#46039f"
                          ],
                          [
                            0.2222222222222222,
                            "#7201a8"
                          ],
                          [
                            0.3333333333333333,
                            "#9c179e"
                          ],
                          [
                            0.4444444444444444,
                            "#bd3786"
                          ],
                          [
                            0.5555555555555556,
                            "#d8576b"
                          ],
                          [
                            0.6666666666666666,
                            "#ed7953"
                          ],
                          [
                            0.7777777777777778,
                            "#fb9f3a"
                          ],
                          [
                            0.8888888888888888,
                            "#fdca26"
                          ],
                          [
                            1,
                            "#f0f921"
                          ]
                        ]
                      }
                    ],
                    "scatter": [
                      {
                        "marker": {
                          "colorbar": {
                            "outlinewidth": 0,
                            "ticks": ""
                          }
                        },
                        "type": "scatter"
                      }
                    ]
                  }
                },
                "margin": {
                  "t": 60
                },
                "legend": {
                  "tracegroupgap": 0
                }
              }
            }
          },
          "metadata": {}
        }
      ]
    },
    {
      "cell_type": "markdown",
      "metadata": {
        "id": "ZaZV_tm4sIL5"
      },
      "source": [
        "Check length of passage with level of ease of reading passages\n"
      ]
    },
    {
      "cell_type": "code",
      "metadata": {
        "id": "mP_gQuiDsbyF"
      },
      "source": [
        "df['excerpt_length']=df['excerpt'].apply(len)"
      ],
      "execution_count": 9,
      "outputs": []
    },
    {
      "cell_type": "code",
      "metadata": {
        "colab": {
          "base_uri": "https://localhost:8080/",
          "height": 382
        },
        "id": "02PoHjpglSP0",
        "outputId": "40fce3d1-36d7-4a38-d7f3-364209db00b9"
      },
      "source": [
        "# create easy readability flag; 0 (difficult) - when target <= 0, 1 (easy) - when target > 0\n",
        "df['is_easy_excerpt'] = np.where(df['target'] <= 0, 0, 1)\n",
        "\n",
        "sns.set(font_scale=1.0)\n",
        "\n",
        "g = sns.FacetGrid(df,col='is_easy_excerpt',size=5)\n",
        "g.map(plt.hist,'excerpt_length')"
      ],
      "execution_count": 10,
      "outputs": [
        {
          "output_type": "execute_result",
          "data": {
            "text/plain": [
              "<seaborn.axisgrid.FacetGrid at 0x7fde2b3b2790>"
            ]
          },
          "metadata": {},
          "execution_count": 10
        },
        {
          "output_type": "display_data",
          "data": {
            "image/png": "[encoded data removed]",
            "text/plain": [
              "<Figure size 720x360 with 2 Axes>"
            ]
          },
          "metadata": {}
        }
      ]
    },
    {
      "cell_type": "markdown",
      "metadata": {
        "id": "c0tLpP6hzFnJ"
      },
      "source": [
        "# Feature Extraction\n"
      ]
    },
    {
      "cell_type": "code",
      "metadata": {
        "id": "bdDXaoMXsKbj"
      },
      "source": [
        "df[\"num_words\"] = df[\"excerpt\"].apply(lambda x: len(str(x).split()))\n",
        "\n",
        "## Number of unique words in the text ##\n",
        "df[\"num_unique_words\"] = df[\"excerpt\"].apply(lambda x: len(set(str(x).split())))\n",
        "\n",
        "## Number of characters in the text ##\n",
        "df[\"num_chars\"] = df[\"excerpt\"].apply(lambda x: len(str(x)))\n",
        "\n",
        "## Number of stopwords in the text ##\n",
        "df[\"num_stopwords\"] = df[\"excerpt\"].apply(lambda x: len([w for w in str(x).lower().split() if w in eng_stopwords]))\n",
        "\n",
        "## Number of punctuations in the text ##\n",
        "df[\"num_punctuations\"] =df['excerpt'].apply(lambda x: len([c for c in str(x) if c in string.punctuation]) )\n",
        "\n",
        "## Number of title case words in the text ##\n",
        "df[\"num_words_upper\"] = df[\"excerpt\"].apply(lambda x: len([w for w in str(x).split() if w.isupper()]))\n",
        "\n",
        "## Number of title case words in the text ##\n",
        "df[\"num_words_title\"] = df[\"excerpt\"].apply(lambda x: len([w for w in str(x).split() if w.istitle()]))\n",
        "\n",
        "## Average length of the words in the text ##\n",
        "df[\"mean_word_len\"] = df[\"excerpt\"].apply(lambda x: np.mean([len(w) for w in str(x).split()]))"
      ],
      "execution_count": 11,
      "outputs": []
    },
    {
      "cell_type": "code",
      "metadata": {
        "id": "pqRkmUZ5szA3",
        "colab": {
          "base_uri": "https://localhost:8080/",
          "height": 695
        },
        "outputId": "ee855d72-ea6a-4377-9448-1bc5838bb489"
      },
      "source": [
        "df.head()"
      ],
      "execution_count": 12,
      "outputs": [
        {
          "output_type": "execute_result",
          "data": {
            "text/html": [
              "<div>\n",
              "<style scoped>\n",
              "    .dataframe tbody tr th:only-of-type {\n",
              "        vertical-align: middle;\n",
              "    }\n",
              "\n",
              "    .dataframe tbody tr th {\n",
              "        vertical-align: top;\n",
              "    }\n",
              "\n",
              "    .dataframe thead th {\n",
              "        text-align: right;\n",
              "    }\n",
              "</style>\n",
              "<table border=\"1\" class=\"dataframe\">\n",
              "  <thead>\n",
              "    <tr style=\"text-align: right;\">\n",
              "      <th></th>\n",
              "      <th>id</th>\n",
              "      <th>excerpt</th>\n",
              "      <th>target</th>\n",
              "      <th>standard_error</th>\n",
              "      <th>excerpt_length</th>\n",
              "      <th>is_easy_excerpt</th>\n",
              "      <th>num_words</th>\n",
              "      <th>num_unique_words</th>\n",
              "      <th>num_chars</th>\n",
              "      <th>num_stopwords</th>\n",
              "      <th>num_punctuations</th>\n",
              "      <th>num_words_upper</th>\n",
              "      <th>num_words_title</th>\n",
              "      <th>mean_word_len</th>\n",
              "    </tr>\n",
              "  </thead>\n",
              "  <tbody>\n",
              "    <tr>\n",
              "      <th>0</th>\n",
              "      <td>c12129c31</td>\n",
              "      <td>When the young people returned to the ballroom...</td>\n",
              "      <td>-0.340259</td>\n",
              "      <td>0.464009</td>\n",
              "      <td>992</td>\n",
              "      <td>0</td>\n",
              "      <td>179</td>\n",
              "      <td>114</td>\n",
              "      <td>992</td>\n",
              "      <td>88</td>\n",
              "      <td>27</td>\n",
              "      <td>0</td>\n",
              "      <td>16</td>\n",
              "      <td>4.547486</td>\n",
              "    </tr>\n",
              "    <tr>\n",
              "      <th>1</th>\n",
              "      <td>85aa80a4c</td>\n",
              "      <td>All through dinner time, Mrs. Fayre was somewh...</td>\n",
              "      <td>-0.315372</td>\n",
              "      <td>0.480805</td>\n",
              "      <td>937</td>\n",
              "      <td>0</td>\n",
              "      <td>169</td>\n",
              "      <td>127</td>\n",
              "      <td>937</td>\n",
              "      <td>73</td>\n",
              "      <td>56</td>\n",
              "      <td>6</td>\n",
              "      <td>28</td>\n",
              "      <td>4.550296</td>\n",
              "    </tr>\n",
              "    <tr>\n",
              "      <th>2</th>\n",
              "      <td>b69ac6792</td>\n",
              "      <td>As Roger had predicted, the snow departed as q...</td>\n",
              "      <td>-0.580118</td>\n",
              "      <td>0.476676</td>\n",
              "      <td>908</td>\n",
              "      <td>0</td>\n",
              "      <td>166</td>\n",
              "      <td>128</td>\n",
              "      <td>908</td>\n",
              "      <td>75</td>\n",
              "      <td>47</td>\n",
              "      <td>2</td>\n",
              "      <td>29</td>\n",
              "      <td>4.475904</td>\n",
              "    </tr>\n",
              "    <tr>\n",
              "      <th>3</th>\n",
              "      <td>dd1000b26</td>\n",
              "      <td>And outside before the palace a great garden w...</td>\n",
              "      <td>-1.054013</td>\n",
              "      <td>0.450007</td>\n",
              "      <td>909</td>\n",
              "      <td>0</td>\n",
              "      <td>164</td>\n",
              "      <td>118</td>\n",
              "      <td>909</td>\n",
              "      <td>70</td>\n",
              "      <td>33</td>\n",
              "      <td>0</td>\n",
              "      <td>8</td>\n",
              "      <td>4.548780</td>\n",
              "    </tr>\n",
              "    <tr>\n",
              "      <th>4</th>\n",
              "      <td>37c1b32fb</td>\n",
              "      <td>Once upon a time there were Three Bears who li...</td>\n",
              "      <td>0.247197</td>\n",
              "      <td>0.510845</td>\n",
              "      <td>723</td>\n",
              "      <td>1</td>\n",
              "      <td>147</td>\n",
              "      <td>51</td>\n",
              "      <td>723</td>\n",
              "      <td>75</td>\n",
              "      <td>32</td>\n",
              "      <td>0</td>\n",
              "      <td>42</td>\n",
              "      <td>3.925170</td>\n",
              "    </tr>\n",
              "  </tbody>\n",
              "</table>\n",
              "</div>"
            ],
            "text/plain": [
              "          id  ... mean_word_len\n",
              "0  c12129c31  ...      4.547486\n",
              "1  85aa80a4c  ...      4.550296\n",
              "2  b69ac6792  ...      4.475904\n",
              "3  dd1000b26  ...      4.548780\n",
              "4  37c1b32fb  ...      3.925170\n",
              "\n",
              "[5 rows x 14 columns]"
            ]
          },
          "metadata": {},
          "execution_count": 12
        }
      ]
    },
    {
      "cell_type": "code",
      "metadata": {
        "colab": {
          "base_uri": "https://localhost:8080/",
          "height": 520
        },
        "id": "LGutfOZAzMeN",
        "outputId": "cd29b089-c69c-4de8-9794-5de696cff8f5"
      },
      "source": [
        "plt.figure(figsize=(12,8))\n",
        "sns.violinplot(x='is_easy_excerpt', y='num_words', data=df)\n",
        "plt.xlabel('Passage Easy to Read', fontsize=12)\n",
        "plt.ylabel('Number of words in text', fontsize=12)\n",
        "plt.title(\"Number of words by ease in reading\", fontsize=15)\n",
        "plt.show()"
      ],
      "execution_count": 13,
      "outputs": [
        {
          "output_type": "display_data",
          "data": {
            "image/png": "[encoded data removed]",
            "text/plain": [
              "<Figure size 864x576 with 1 Axes>"
            ]
          },
          "metadata": {}
        }
      ]
    },
    {
      "cell_type": "code",
      "metadata": {
        "colab": {
          "base_uri": "https://localhost:8080/"
        },
        "id": "iIMgkzb-zcd7",
        "outputId": "806a948b-e3b6-45b8-966b-baceefc37b3c"
      },
      "source": [
        "from sklearn.feature_extraction.text import TfidfVectorizer\n",
        "\n",
        "df['excerpt_id'] = df['is_easy_excerpt'].factorize()[0]\n",
        "category_id_df = df[['is_easy_excerpt', 'excerpt_id']].drop_duplicates().sort_values('excerpt_id')\n",
        "category_to_id = dict(category_id_df.values)\n",
        "id_to_category = dict(category_id_df[['excerpt_id', 'is_easy_excerpt']].values)\n",
        "\n",
        "tfidf = TfidfVectorizer(sublinear_tf=True, \n",
        "                        norm='l2', \n",
        "                        encoding='latin-1', \n",
        "                        ngram_range=(1, 2), \n",
        "                        stop_words='english')\n",
        "\n",
        "features = tfidf.fit_transform(df.excerpt)\n",
        "labels = df.is_easy_excerpt\n",
        "features.shape\n",
        "\n",
        "from sklearn.feature_selection import chi2\n",
        "import numpy as np\n",
        "\n",
        "N = 2\n",
        "for Product, category_id in sorted(category_to_id.items()):\n",
        "  features_chi2 = chi2(features, labels == category_id)\n",
        "  indices = np.argsort(features_chi2[0])\n",
        "  feature_names = np.array(tfidf.get_feature_names())[indices]\n",
        "  unigrams = [v for v in feature_names if len(v.split(' ')) == 1]\n",
        "  bigrams = [v for v in feature_names if len(v.split(' ')) == 2]\n",
        "  print(\"# '{}':\".format(Product))\n",
        "  print(\"  . Most correlated unigrams:\\n       . {}\".format('\\n       . '.join(unigrams[-N:])))\n",
        "  print(\"  . Most correlated bigrams:\\n       . {}\".format('\\n       . '.join(bigrams[-N:])))"
      ],
      "execution_count": 14,
      "outputs": [
        {
          "output_type": "stream",
          "name": "stdout",
          "text": [
            "# '0':\n",
            "  . Most correlated unigrams:\n",
            "       . said\n",
            "       . mother\n",
            "  . Most correlated bigrams:\n",
            "       . little boy\n",
            "       . little girl\n",
            "# '1':\n",
            "  . Most correlated unigrams:\n",
            "       . said\n",
            "       . mother\n",
            "  . Most correlated bigrams:\n",
            "       . little boy\n",
            "       . little girl\n"
          ]
        }
      ]
    },
    {
      "cell_type": "code",
      "metadata": {
        "colab": {
          "base_uri": "https://localhost:8080/",
          "height": 285
        },
        "id": "YbOMaLgN1kJH",
        "outputId": "f8d9a6e5-0980-4871-8ebc-5025731b6cdb"
      },
      "source": [
        "from sklearn.model_selection import train_test_split\n",
        "from sklearn.feature_extraction.text import TfidfTransformer\n",
        "from sklearn.linear_model import LogisticRegression\n",
        "from sklearn.ensemble import RandomForestClassifier\n",
        "from sklearn.naive_bayes import MultinomialNB\n",
        "from sklearn.svm import LinearSVC\n",
        "from sklearn.model_selection import GridSearchCV\n",
        "\n",
        "from sklearn.model_selection import cross_val_score\n",
        "\n",
        "\n",
        "models = [\n",
        "    RandomForestClassifier(n_estimators=200, max_depth=3, random_state=0),\n",
        "    LinearSVC(),\n",
        "    MultinomialNB(),\n",
        "    LogisticRegression(random_state=0),\n",
        "]\n",
        "CV = 5\n",
        "cv_df = pd.DataFrame(index=range(CV * len(models)))\n",
        "entries = []\n",
        "for model in models:\n",
        "  model_name = model.__class__.__name__\n",
        "  accuracies = cross_val_score(model, features, labels, scoring='accuracy', cv=CV)\n",
        "  for fold_idx, accuracy in enumerate(accuracies):\n",
        "    entries.append((model_name, fold_idx, accuracy))\n",
        "cv_df = pd.DataFrame(entries, columns=['model_name', 'fold_idx', 'accuracy'])\n",
        "\n",
        "import seaborn as sns\n",
        "import matplotlib.pyplot as plt\n",
        "%matplotlib inline\n",
        "\n",
        "sns.boxplot(x='model_name', y='accuracy', data=cv_df)\n",
        "sns.stripplot(x='model_name', y='accuracy', data=cv_df, \n",
        "              size=8, jitter=True, edgecolor=\"gray\", linewidth=2)\n",
        "plt.show()"
      ],
      "execution_count": 15,
      "outputs": [
        {
          "output_type": "display_data",
          "data": {
            "image/png": "[encoded data removed]",
            "text/plain": [
              "<Figure size 432x288 with 1 Axes>"
            ]
          },
          "metadata": {
            "needs_background": "light"
          }
        }
      ]
    },
    {
      "cell_type": "markdown",
      "metadata": {
        "id": "2gpqijQ99Y4f"
      },
      "source": [
        "svm"
      ]
    },
    {
      "cell_type": "code",
      "metadata": {
        "colab": {
          "base_uri": "https://localhost:8080/",
          "height": 206
        },
        "id": "bdXzQ-F09ks9",
        "outputId": "b1b68022-fca5-4cb0-afc0-43bd803d691d"
      },
      "source": [
        "test = pd.read_csv('test.csv')\n",
        "test.head()"
      ],
      "execution_count": 16,
      "outputs": [
        {
          "output_type": "execute_result",
          "data": {
            "text/html": [
              "<div>\n",
              "<style scoped>\n",
              "    .dataframe tbody tr th:only-of-type {\n",
              "        vertical-align: middle;\n",
              "    }\n",
              "\n",
              "    .dataframe tbody tr th {\n",
              "        vertical-align: top;\n",
              "    }\n",
              "\n",
              "    .dataframe thead th {\n",
              "        text-align: right;\n",
              "    }\n",
              "</style>\n",
              "<table border=\"1\" class=\"dataframe\">\n",
              "  <thead>\n",
              "    <tr style=\"text-align: right;\">\n",
              "      <th></th>\n",
              "      <th>id</th>\n",
              "      <th>url_legal</th>\n",
              "      <th>license</th>\n",
              "      <th>excerpt</th>\n",
              "    </tr>\n",
              "  </thead>\n",
              "  <tbody>\n",
              "    <tr>\n",
              "      <th>0</th>\n",
              "      <td>c0f722661</td>\n",
              "      <td>NaN</td>\n",
              "      <td>NaN</td>\n",
              "      <td>My hope lay in Jack's promise that he would ke...</td>\n",
              "    </tr>\n",
              "    <tr>\n",
              "      <th>1</th>\n",
              "      <td>f0953f0a5</td>\n",
              "      <td>NaN</td>\n",
              "      <td>NaN</td>\n",
              "      <td>Dotty continued to go to Mrs. Gray's every nig...</td>\n",
              "    </tr>\n",
              "    <tr>\n",
              "      <th>2</th>\n",
              "      <td>0df072751</td>\n",
              "      <td>NaN</td>\n",
              "      <td>NaN</td>\n",
              "      <td>It was a bright and cheerful scene that greete...</td>\n",
              "    </tr>\n",
              "    <tr>\n",
              "      <th>3</th>\n",
              "      <td>04caf4e0c</td>\n",
              "      <td>https://en.wikipedia.org/wiki/Cell_division</td>\n",
              "      <td>CC BY-SA 3.0</td>\n",
              "      <td>Cell division is the process by which a parent...</td>\n",
              "    </tr>\n",
              "    <tr>\n",
              "      <th>4</th>\n",
              "      <td>0e63f8bea</td>\n",
              "      <td>https://en.wikipedia.org/wiki/Debugging</td>\n",
              "      <td>CC BY-SA 3.0</td>\n",
              "      <td>Debugging is the process of finding and resolv...</td>\n",
              "    </tr>\n",
              "  </tbody>\n",
              "</table>\n",
              "</div>"
            ],
            "text/plain": [
              "          id  ...                                            excerpt\n",
              "0  c0f722661  ...  My hope lay in Jack's promise that he would ke...\n",
              "1  f0953f0a5  ...  Dotty continued to go to Mrs. Gray's every nig...\n",
              "2  0df072751  ...  It was a bright and cheerful scene that greete...\n",
              "3  04caf4e0c  ...  Cell division is the process by which a parent...\n",
              "4  0e63f8bea  ...  Debugging is the process of finding and resolv...\n",
              "\n",
              "[5 rows x 4 columns]"
            ]
          },
          "metadata": {},
          "execution_count": 16
        }
      ]
    },
    {
      "cell_type": "code",
      "metadata": {
        "colab": {
          "base_uri": "https://localhost:8080/"
        },
        "id": "AMUtWiIb9AH4",
        "outputId": "20171126-6cb8-424e-a5f0-823f84b9ae1d"
      },
      "source": [
        "features_train = tfidf.fit_transform(df.excerpt)\n",
        "features_test = tfidf.transform(test.excerpt)\n",
        "\n",
        "labels = df['target']\n",
        "\n",
        "from sklearn.model_selection import train_test_split\n",
        "from sklearn.svm import SVR\n",
        "\n",
        "model = SVR(C=10, kernel='rbf', gamma='auto')\n",
        "\n",
        "X_train, X_test, y_train, y_test = train_test_split(features_train, labels, test_size=0.25, random_state=0)\n",
        "model.fit(X_train, y_train)\n",
        "y_repeat = model.predict(X_train)\n",
        "y_val = model.predict(X_test)\n",
        "y_preds = model.predict(features_test)\n",
        "\n",
        "from sklearn.metrics import mean_squared_error\n",
        "\n",
        "print('The RMSE for validation data is:', np.sqrt(mean_squared_error(y_repeat, y_train)))\n",
        "print('The RMSE for validation data is:', np.sqrt(mean_squared_error(y_val, y_test)))\n",
        "\n",
        "# The RMSE values prove that the model is not overfitting, however it needs a lot of improvement\n",
        "\n",
        "test['target'] = y_preds\n",
        "test[['id', 'target']].to_csv('submission.csv', index=False)"
      ],
      "execution_count": 17,
      "outputs": [
        {
          "output_type": "stream",
          "name": "stdout",
          "text": [
            "The RMSE for validation data is: 1.0327320933695314\n",
            "The RMSE for validation data is: 1.0396984153178515\n"
          ]
        }
      ]
    },
    {
      "cell_type": "markdown",
      "metadata": {
        "id": "H03UBxotHzax"
      },
      "source": [
        "our score at Kaggle = 1.02 with SVM"
      ]
    },
    {
      "cell_type": "markdown",
      "metadata": {
        "id": "8Ih6-kUf90Ru"
      },
      "source": [
        "The RMSE values prove that the model is not overfitting, however it needs a lot of improvement\n"
      ]
    },
    {
      "cell_type": "markdown",
      "metadata": {
        "id": "sRhshQbgy6Q7"
      },
      "source": [
        "#More EDA"
      ]
    },
    {
      "cell_type": "markdown",
      "metadata": {
        "id": "0RWaiRdBzZol"
      },
      "source": [
        "## Searching and Finding in the min target value"
      ]
    },
    {
      "cell_type": "code",
      "metadata": {
        "colab": {
          "base_uri": "https://localhost:8080/"
        },
        "id": "ZWfdsvJVy8h2",
        "outputId": "e0bb2a6a-9fba-43a1-862b-f1236829a980"
      },
      "source": [
        "df['target'].min()"
      ],
      "execution_count": 18,
      "outputs": [
        {
          "output_type": "execute_result",
          "data": {
            "text/plain": [
              "-3.676267773"
            ]
          },
          "metadata": {},
          "execution_count": 18
        }
      ]
    },
    {
      "cell_type": "code",
      "metadata": {
        "colab": {
          "base_uri": "https://localhost:8080/"
        },
        "id": "JKJffNGGz-i_",
        "outputId": "2d37e8cb-3af7-4d62-a5a9-8848221ed179"
      },
      "source": [
        "for word in df.loc[df['target'] == df['target'].min()].excerpt:\n",
        "    print(word)"
      ],
      "execution_count": 19,
      "outputs": [
        {
          "output_type": "stream",
          "name": "stdout",
          "text": [
            "The commutator is peculiar, consisting of only three segments of a copper ring, while in the simplest of other continuous current generators several times that number exist, and frequently 120! segments are to be found. These three segments are made so as to be removable in a moment for cleaning or replacement. They are mounted upon a metal support, and are surrounded on all sides by a free air space, and cannot, therefore, lose their insulated condition. This feature of air insulation is peculiar to this system, and is very important as a factor in the durability of the commutator. Besides this, the commutator is sustained by supports carried in flanges upon the shaft, which flanges, as an additional safeguard, are coated all over with hard rubber, one of the finest known insulators. It may be stated, without fear of contradiction, that no other commutator made is so thoroughly insulated and protected. The three commutator segments virtually constitute a single copper ring, mounted in free air, and cut into three equal pieces by slots across its face.\n"
          ]
        }
      ]
    },
    {
      "cell_type": "code",
      "metadata": {
        "colab": {
          "base_uri": "https://localhost:8080/"
        },
        "id": "8TPJ6MFs0FjE",
        "outputId": "15083327-107c-4ac6-ccf6-69f86ca14026"
      },
      "source": [
        "df['target'].max()"
      ],
      "execution_count": 20,
      "outputs": [
        {
          "output_type": "execute_result",
          "data": {
            "text/plain": [
              "1.7113898269999999"
            ]
          },
          "metadata": {},
          "execution_count": 20
        }
      ]
    },
    {
      "cell_type": "code",
      "metadata": {
        "colab": {
          "base_uri": "https://localhost:8080/"
        },
        "id": "8gsx87X00Lhs",
        "outputId": "9ff0dbe3-616f-41d3-e2e8-5650f751ce44"
      },
      "source": [
        "for word in df.loc[df['target'] == df['target'].max()].excerpt:\n",
        "    print(word)"
      ],
      "execution_count": 21,
      "outputs": [
        {
          "output_type": "stream",
          "name": "stdout",
          "text": [
            "When you think of dinosaurs and where they lived, what do you picture? Do you see hot, steamy swamps, thick jungles, or sunny plains? Dinosaurs lived in those places, yes. But did you know that some dinosaurs lived in the cold and the darkness near the North and South Poles?\n",
            "This surprised scientists, too. Paleontologists used to believe that dinosaurs lived only in the warmest parts of the world. They thought that dinosaurs could only have lived in places where turtles, crocodiles, and snakes live today. Later, these dinosaur scientists began finding bones in surprising places.\n",
            "One of those surprising fossil beds is a place called Dinosaur Cove, Australia. One hundred million years ago, Australia was connected to Antarctica. Both continents were located near the South Pole. Today, paleontologists dig dinosaur fossils out of the ground. They think about what those ancient bones must mean.\n"
          ]
        }
      ]
    },
    {
      "cell_type": "markdown",
      "metadata": {
        "id": "dDQ-2y5m1TJd"
      },
      "source": [
        "# Data Preprocessing and Data clearning"
      ]
    },
    {
      "cell_type": "code",
      "metadata": {
        "colab": {
          "base_uri": "https://localhost:8080/"
        },
        "id": "11hoRIfE2Z2J",
        "outputId": "a3ec262a-7132-446a-8c33-88f9521aa502"
      },
      "source": [
        "!python -m spacy download en_core_web_lg"
      ],
      "execution_count": 3,
      "outputs": [
        {
          "output_type": "stream",
          "name": "stdout",
          "text": [
            "Collecting en_core_web_lg==2.2.5\n",
            "  Downloading https://github.com/explosion/spacy-models/releases/download/en_core_web_lg-2.2.5/en_core_web_lg-2.2.5.tar.gz (827.9 MB)\n",
            "\u001b[K     |████████████████████████████████| 827.9 MB 1.5 MB/s \n",
            "\u001b[?25hRequirement already satisfied: spacy>=2.2.2 in /usr/local/lib/python3.7/dist-packages (from en_core_web_lg==2.2.5) (2.2.4)\n",
            "Requirement already satisfied: wasabi<1.1.0,>=0.4.0 in /usr/local/lib/python3.7/dist-packages (from spacy>=2.2.2->en_core_web_lg==2.2.5) (0.8.2)\n",
            "Requirement already satisfied: requests<3.0.0,>=2.13.0 in /usr/local/lib/python3.7/dist-packages (from spacy>=2.2.2->en_core_web_lg==2.2.5) (2.23.0)\n",
            "Requirement already satisfied: tqdm<5.0.0,>=4.38.0 in /usr/local/lib/python3.7/dist-packages (from spacy>=2.2.2->en_core_web_lg==2.2.5) (4.62.3)\n",
            "Requirement already satisfied: setuptools in /usr/local/lib/python3.7/dist-packages (from spacy>=2.2.2->en_core_web_lg==2.2.5) (57.4.0)\n",
            "Requirement already satisfied: numpy>=1.15.0 in /usr/local/lib/python3.7/dist-packages (from spacy>=2.2.2->en_core_web_lg==2.2.5) (1.19.5)\n",
            "Requirement already satisfied: catalogue<1.1.0,>=0.0.7 in /usr/local/lib/python3.7/dist-packages (from spacy>=2.2.2->en_core_web_lg==2.2.5) (1.0.0)\n",
            "Requirement already satisfied: blis<0.5.0,>=0.4.0 in /usr/local/lib/python3.7/dist-packages (from spacy>=2.2.2->en_core_web_lg==2.2.5) (0.4.1)\n",
            "Requirement already satisfied: cymem<2.1.0,>=2.0.2 in /usr/local/lib/python3.7/dist-packages (from spacy>=2.2.2->en_core_web_lg==2.2.5) (2.0.6)\n",
            "Requirement already satisfied: srsly<1.1.0,>=1.0.2 in /usr/local/lib/python3.7/dist-packages (from spacy>=2.2.2->en_core_web_lg==2.2.5) (1.0.5)\n",
            "Requirement already satisfied: preshed<3.1.0,>=3.0.2 in /usr/local/lib/python3.7/dist-packages (from spacy>=2.2.2->en_core_web_lg==2.2.5) (3.0.6)\n",
            "Requirement already satisfied: thinc==7.4.0 in /usr/local/lib/python3.7/dist-packages (from spacy>=2.2.2->en_core_web_lg==2.2.5) (7.4.0)\n",
            "Requirement already satisfied: murmurhash<1.1.0,>=0.28.0 in /usr/local/lib/python3.7/dist-packages (from spacy>=2.2.2->en_core_web_lg==2.2.5) (1.0.6)\n",
            "Requirement already satisfied: plac<1.2.0,>=0.9.6 in /usr/local/lib/python3.7/dist-packages (from spacy>=2.2.2->en_core_web_lg==2.2.5) (1.1.3)\n",
            "Requirement already satisfied: importlib-metadata>=0.20 in /usr/local/lib/python3.7/dist-packages (from catalogue<1.1.0,>=0.0.7->spacy>=2.2.2->en_core_web_lg==2.2.5) (4.8.2)\n",
            "Requirement already satisfied: zipp>=0.5 in /usr/local/lib/python3.7/dist-packages (from importlib-metadata>=0.20->catalogue<1.1.0,>=0.0.7->spacy>=2.2.2->en_core_web_lg==2.2.5) (3.6.0)\n",
            "Requirement already satisfied: typing-extensions>=3.6.4 in /usr/local/lib/python3.7/dist-packages (from importlib-metadata>=0.20->catalogue<1.1.0,>=0.0.7->spacy>=2.2.2->en_core_web_lg==2.2.5) (4.0.1)\n",
            "Requirement already satisfied: certifi>=2017.4.17 in /usr/local/lib/python3.7/dist-packages (from requests<3.0.0,>=2.13.0->spacy>=2.2.2->en_core_web_lg==2.2.5) (2021.10.8)\n",
            "Requirement already satisfied: urllib3!=1.25.0,!=1.25.1,<1.26,>=1.21.1 in /usr/local/lib/python3.7/dist-packages (from requests<3.0.0,>=2.13.0->spacy>=2.2.2->en_core_web_lg==2.2.5) (1.24.3)\n",
            "Requirement already satisfied: chardet<4,>=3.0.2 in /usr/local/lib/python3.7/dist-packages (from requests<3.0.0,>=2.13.0->spacy>=2.2.2->en_core_web_lg==2.2.5) (3.0.4)\n",
            "Requirement already satisfied: idna<3,>=2.5 in /usr/local/lib/python3.7/dist-packages (from requests<3.0.0,>=2.13.0->spacy>=2.2.2->en_core_web_lg==2.2.5) (2.10)\n",
            "\u001b[38;5;2m✔ Download and installation successful\u001b[0m\n",
            "You can now load the model via spacy.load('en_core_web_lg')\n"
          ]
        }
      ]
    },
    {
      "cell_type": "markdown",
      "metadata": {
        "id": "PtDVIFvr4jaE"
      },
      "source": [
        "## Generating a new column clean excerpt, remove all punctuations, removing any links, numbers and stopwords"
      ]
    },
    {
      "cell_type": "code",
      "metadata": {
        "id": "v2A5hC_61S7q"
      },
      "source": [
        "import spacy\n",
        "import string\n",
        "import re\n",
        "import math\n",
        "\n",
        "nlp = spacy.load('en_core_web_lg')\n",
        "from spacy import displacy\n",
        "\n",
        "# Function to up url_legal category\n",
        "def clean_url(data):\n",
        "    if type(data) == float:\n",
        "        return \"None\"\n",
        "    else:\n",
        "        data = re.sub(r\"https://|/wiki/|/|.org|pdf|wp-cont|-|%20|%|www.|frym.\", \" \", data)\n",
        "        data = re.sub(\"[^a-zA-Z -]\", \" \", data.lower())\n",
        "        data = re.sub(\"\\s+\", \" \", data)\n",
        "    return data\n",
        "\n",
        "# Function to clean up text category\n",
        "def clean_text(data):\n",
        "    if type(data) == float:\n",
        "        pass\n",
        "    else:\n",
        "        data = re.sub(r'\\n|\\\\', \" \", data.lower())\n",
        "        data = re.sub(\"[^a-zA-Z]\", \" \", data.lower())\n",
        "        data = re.sub(\"\\s+\", \" \", data)\n",
        "    return data\n",
        "\n",
        "# Function to get sentences from input text\n",
        "def get_sentences(data):\n",
        "    row_doc = nlp(data)\n",
        "    sents = list(row_doc.sents)\n",
        "    return sents\n",
        "# This will probably nor be helpful in this case, more useful for sentiment than complexity\n",
        "\n",
        "# Function to generate tokens from input text\n",
        "def gen_tokens(data):\n",
        "    row_doc = nlp(data)\n",
        "    return row_doc\n",
        "\n",
        "# Removes stop words from tokenized text\n",
        "def remove_stopwords(data):\n",
        "    n_list = []\n",
        "    for i in data:\n",
        "        n_list.append([j.vector for j in i if not j.is_stop])\n",
        "    return n_list\n",
        "\n",
        "def remove_stopwords_url(data):\n",
        "    n_list = []\n",
        "    for i in data:\n",
        "        n_list.append([j.text for j in i if not j.is_stop])\n",
        "    return n_list"
      ],
      "execution_count": 22,
      "outputs": []
    },
    {
      "cell_type": "markdown",
      "metadata": {
        "id": "Zf58ZSk25HhN"
      },
      "source": [
        "## Size of vocabulary"
      ]
    },
    {
      "cell_type": "code",
      "metadata": {
        "colab": {
          "base_uri": "https://localhost:8080/"
        },
        "id": "GGrITQeh4gPK",
        "outputId": "8087a065-ba7f-4404-8106-7bc46ec705ef"
      },
      "source": [
        "from collections import Counter\n",
        "results = Counter()\n",
        "df['excerpt_clean'].str.lower().str.split().apply(results.update)\n",
        "print(len(results.keys()))"
      ],
      "execution_count": 24,
      "outputs": [
        {
          "output_type": "stream",
          "name": "stdout",
          "text": [
            "26154\n"
          ]
        }
      ]
    },
    {
      "cell_type": "markdown",
      "metadata": {
        "id": "WDHmePTt5qup"
      },
      "source": [
        "## Plotting Top bigram and ngram"
      ]
    },
    {
      "cell_type": "code",
      "metadata": {
        "id": "ljtF3Jg75Xdb"
      },
      "source": [
        "from sklearn.feature_extraction.text import CountVectorizer, TfidfVectorizer\n",
        "def get_top_n_words(corpus, n = None):\n",
        "    \"\"\"\n",
        "    A function that returns the top 'n' unigrams used in the corpus\n",
        "    \"\"\"\n",
        "    vec = CountVectorizer().fit(corpus)\n",
        "    bag_of_words = vec.transform(corpus) \n",
        "    sum_words = bag_of_words.sum(axis=0) \n",
        "    words_freq = [(word, sum_words[0, idx]) for word, idx in vec.vocabulary_.items()] \n",
        "    freq_sorted = sorted(words_freq, key = lambda x: x[1], reverse = True)\n",
        "    return freq_sorted[:n]\n",
        "\n",
        "def get_top_n_bigram(corpus, n = None):\n",
        "    \"\"\"\n",
        "    A function that returns the top 'n' bigrams used in the corpus\n",
        "    \"\"\"\n",
        "    vec = CountVectorizer(ngram_range = (2, 2)).fit(corpus)\n",
        "    bag_of_words = vec.transform(corpus)\n",
        "    sum_words = bag_of_words.sum(axis = 0) \n",
        "    words_freq = [(word, sum_words[0, idx]) for word, idx in vec.vocabulary_.items()]\n",
        "    freq_sorted = sorted(words_freq, key = lambda x: x[1], reverse=True)\n",
        "    return freq_sorted[:n]"
      ],
      "execution_count": 25,
      "outputs": []
    },
    {
      "cell_type": "code",
      "metadata": {
        "colab": {
          "base_uri": "https://localhost:8080/",
          "height": 417
        },
        "id": "fgze8PlN561T",
        "outputId": "020932d4-10c5-4cee-80e0-44ead94b32e2"
      },
      "source": [
        "from bokeh.plotting import figure\n",
        "from bokeh.models import ColumnDataSource\n",
        "from bokeh.io import curdoc, show, output_notebook\n",
        "output_notebook()\n",
        "top_unigram = get_top_n_words(df['excerpt_clean'], 20)\n",
        "words = [i[0] for i in top_unigram]\n",
        "count = [i[1] for i in top_unigram]\n",
        "source = ColumnDataSource(data = dict(Word = words, counts = count, color = ['#6baed6'] * 20))\n",
        "\n",
        "p = figure(x_range = words, plot_height = 400, plot_width = 800, title = \"Top Unigrams\", tools = \"hover\", tooltips = \"@Word: @counts\")\n",
        "p.vbar(x = 'Word', top = 'counts', width = 0.8, source = source, color = 'color')\n",
        "curdoc().theme = 'dark_minimal'\n",
        "p.xgrid.grid_line_color = None\n",
        "p.y_range.start = 0\n",
        "p.title.align = 'center'\n",
        "p.xaxis.major_label_orientation = \"vertical\"\n",
        "show(p)"
      ],
      "execution_count": 26,
      "outputs": [
        {
          "output_type": "display_data",
          "data": {
            "application/javascript": [
              "\n",
              "(function(root) {\n",
              "  function now() {\n",
              "    return new Date();\n",
              "  }\n",
              "\n",
              "  var force = true;\n",
              "\n",
              "  if (typeof root._bokeh_onload_callbacks === \"undefined\" || force === true) {\n",
              "    root._bokeh_onload_callbacks = [];\n",
              "    root._bokeh_is_loading = undefined;\n",
              "  }\n",
              "\n",
              "  var JS_MIME_TYPE = 'application/javascript';\n",
              "  var HTML_MIME_TYPE = 'text/html';\n",
              "  var EXEC_MIME_TYPE = 'application/vnd.bokehjs_exec.v0+json';\n",
              "  var CLASS_NAME = 'output_bokeh rendered_html';\n",
              "\n",
              "  /**\n",
              "   * Render data to the DOM node\n",
              "   */\n",
              "  function render(props, node) {\n",
              "    var script = document.createElement(\"script\");\n",
              "    node.appendChild(script);\n",
              "  }\n",
              "\n",
              "  /**\n",
              "   * Handle when an output is cleared or removed\n",
              "   */\n",
              "  function handleClearOutput(event, handle) {\n",
              "    var cell = handle.cell;\n",
              "\n",
              "    var id = cell.output_area._bokeh_element_id;\n",
              "    var server_id = cell.output_area._bokeh_server_id;\n",
              "    // Clean up Bokeh references\n",
              "    if (id != null && id in Bokeh.index) {\n",
              "      Bokeh.index[id].model.document.clear();\n",
              "      delete Bokeh.index[id];\n",
              "    }\n",
              "\n",
              "    if (server_id !== undefined) {\n",
              "      // Clean up Bokeh references\n",
              "      var cmd = \"from bokeh.io.state import curstate; print(curstate().uuid_to_server['\" + server_id + \"'].get_sessions()[0].document.roots[0]._id)\";\n",
              "      cell.notebook.kernel.execute(cmd, {\n",
              "        iopub: {\n",
              "          output: function(msg) {\n",
              "            var id = msg.content.text.trim();\n",
              "            if (id in Bokeh.index) {\n",
              "              Bokeh.index[id].model.document.clear();\n",
              "              delete Bokeh.index[id];\n",
              "            }\n",
              "          }\n",
              "        }\n",
              "      });\n",
              "      // Destroy server and session\n",
              "      var cmd = \"import bokeh.io.notebook as ion; ion.destroy_server('\" + server_id + \"')\";\n",
              "      cell.notebook.kernel.execute(cmd);\n",
              "    }\n",
              "  }\n",
              "\n",
              "  /**\n",
              "   * Handle when a new output is added\n",
              "   */\n",
              "  function handleAddOutput(event, handle) {\n",
              "    var output_area = handle.output_area;\n",
              "    var output = handle.output;\n",
              "\n",
              "    // limit handleAddOutput to display_data with EXEC_MIME_TYPE content only\n",
              "    if ((output.output_type != \"display_data\") || (!Object.prototype.hasOwnProperty.call(output.data, EXEC_MIME_TYPE))) {\n",
              "      return\n",
              "    }\n",
              "\n",
              "    var toinsert = output_area.element.find(\".\" + CLASS_NAME.split(' ')[0]);\n",
              "\n",
              "    if (output.metadata[EXEC_MIME_TYPE][\"id\"] !== undefined) {\n",
              "      toinsert[toinsert.length - 1].firstChild.textContent = output.data[JS_MIME_TYPE];\n",
              "      // store reference to embed id on output_area\n",
              "      output_area._bokeh_element_id = output.metadata[EXEC_MIME_TYPE][\"id\"];\n",
              "    }\n",
              "    if (output.metadata[EXEC_MIME_TYPE][\"server_id\"] !== undefined) {\n",
              "      var bk_div = document.createElement(\"div\");\n",
              "      bk_div.innerHTML = output.data[HTML_MIME_TYPE];\n",
              "      var script_attrs = bk_div.children[0].attributes;\n",
              "      for (var i = 0; i < script_attrs.length; i++) {\n",
              "        toinsert[toinsert.length - 1].firstChild.setAttribute(script_attrs[i].name, script_attrs[i].value);\n",
              "        toinsert[toinsert.length - 1].firstChild.textContent = bk_div.children[0].textContent\n",
              "      }\n",
              "      // store reference to server id on output_area\n",
              "      output_area._bokeh_server_id = output.metadata[EXEC_MIME_TYPE][\"server_id\"];\n",
              "    }\n",
              "  }\n",
              "\n",
              "  function register_renderer(events, OutputArea) {\n",
              "\n",
              "    function append_mime(data, metadata, element) {\n",
              "      // create a DOM node to render to\n",
              "      var toinsert = this.create_output_subarea(\n",
              "        metadata,\n",
              "        CLASS_NAME,\n",
              "        EXEC_MIME_TYPE\n",
              "      );\n",
              "      this.keyboard_manager.register_events(toinsert);\n",
              "      // Render to node\n",
              "      var props = {data: data, metadata: metadata[EXEC_MIME_TYPE]};\n",
              "      render(props, toinsert[toinsert.length - 1]);\n",
              "      element.append(toinsert);\n",
              "      return toinsert\n",
              "    }\n",
              "\n",
              "    /* Handle when an output is cleared or removed */\n",
              "    events.on('clear_output.CodeCell', handleClearOutput);\n",
              "    events.on('delete.Cell', handleClearOutput);\n",
              "\n",
              "    /* Handle when a new output is added */\n",
              "    events.on('output_added.OutputArea', handleAddOutput);\n",
              "\n",
              "    /**\n",
              "     * Register the mime type and append_mime function with output_area\n",
              "     */\n",
              "    OutputArea.prototype.register_mime_type(EXEC_MIME_TYPE, append_mime, {\n",
              "      /* Is output safe? */\n",
              "      safe: true,\n",
              "      /* Index of renderer in `output_area.display_order` */\n",
              "      index: 0\n",
              "    });\n",
              "  }\n",
              "\n",
              "  // register the mime type if in Jupyter Notebook environment and previously unregistered\n",
              "  if (root.Jupyter !== undefined) {\n",
              "    var events = require('base/js/events');\n",
              "    var OutputArea = require('notebook/js/outputarea').OutputArea;\n",
              "\n",
              "    if (OutputArea.prototype.mime_types().indexOf(EXEC_MIME_TYPE) == -1) {\n",
              "      register_renderer(events, OutputArea);\n",
              "    }\n",
              "  }\n",
              "\n",
              "  \n",
              "  if (typeof (root._bokeh_timeout) === \"undefined\" || force === true) {\n",
              "    root._bokeh_timeout = Date.now() + 5000;\n",
              "    root._bokeh_failed_load = false;\n",
              "  }\n",
              "\n",
              "  var NB_LOAD_WARNING = {'data': {'text/html':\n",
              "     \"<div style='background-color: #fdd'>\\n\"+\n",
              "     \"<p>\\n\"+\n",
              "     \"BokehJS does not appear to have successfully loaded. If loading BokehJS from CDN, this \\n\"+\n",
              "     \"may be due to a slow or bad network connection. Possible fixes:\\n\"+\n",
              "     \"</p>\\n\"+\n",
              "     \"<ul>\\n\"+\n",
              "     \"<li>re-rerun `output_notebook()` to attempt to load from CDN again, or</li>\\n\"+\n",
              "     \"<li>use INLINE resources instead, as so:</li>\\n\"+\n",
              "     \"</ul>\\n\"+\n",
              "     \"<code>\\n\"+\n",
              "     \"from bokeh.resources import INLINE\\n\"+\n",
              "     \"output_notebook(resources=INLINE)\\n\"+\n",
              "     \"</code>\\n\"+\n",
              "     \"</div>\"}};\n",
              "\n",
              "  function display_loaded() {\n",
              "    var el = document.getElementById(null);\n",
              "    if (el != null) {\n",
              "      el.textContent = \"BokehJS is loading...\";\n",
              "    }\n",
              "    if (root.Bokeh !== undefined) {\n",
              "      if (el != null) {\n",
              "        el.textContent = \"BokehJS \" + root.Bokeh.version + \" successfully loaded.\";\n",
              "      }\n",
              "    } else if (Date.now() < root._bokeh_timeout) {\n",
              "      setTimeout(display_loaded, 100)\n",
              "    }\n",
              "  }\n",
              "\n",
              "\n",
              "  function run_callbacks() {\n",
              "    try {\n",
              "      root._bokeh_onload_callbacks.forEach(function(callback) {\n",
              "        if (callback != null)\n",
              "          callback();\n",
              "      });\n",
              "    } finally {\n",
              "      delete root._bokeh_onload_callbacks\n",
              "    }\n",
              "    console.debug(\"Bokeh: all callbacks have finished\");\n",
              "  }\n",
              "\n",
              "  function load_libs(css_urls, js_urls, callback) {\n",
              "    if (css_urls == null) css_urls = [];\n",
              "    if (js_urls == null) js_urls = [];\n",
              "\n",
              "    root._bokeh_onload_callbacks.push(callback);\n",
              "    if (root._bokeh_is_loading > 0) {\n",
              "      console.debug(\"Bokeh: BokehJS is being loaded, scheduling callback at\", now());\n",
              "      return null;\n",
              "    }\n",
              "    if (js_urls == null || js_urls.length === 0) {\n",
              "      run_callbacks();\n",
              "      return null;\n",
              "    }\n",
              "    console.debug(\"Bokeh: BokehJS not loaded, scheduling load and callback at\", now());\n",
              "    root._bokeh_is_loading = css_urls.length + js_urls.length;\n",
              "\n",
              "    function on_load() {\n",
              "      root._bokeh_is_loading--;\n",
              "      if (root._bokeh_is_loading === 0) {\n",
              "        console.debug(\"Bokeh: all BokehJS libraries/stylesheets loaded\");\n",
              "        run_callbacks()\n",
              "      }\n",
              "    }\n",
              "\n",
              "    function on_error(url) {\n",
              "      console.error(\"failed to load \" + url);\n",
              "    }\n",
              "\n",
              "    for (let i = 0; i < css_urls.length; i++) {\n",
              "      const url = css_urls[i];\n",
              "      const element = document.createElement(\"link\");\n",
              "      element.onload = on_load;\n",
              "      element.onerror = on_error.bind(null, url);\n",
              "      element.rel = \"stylesheet\";\n",
              "      element.type = \"text/css\";\n",
              "      element.href = url;\n",
              "      console.debug(\"Bokeh: injecting link tag for BokehJS stylesheet: \", url);\n",
              "      document.body.appendChild(element);\n",
              "    }\n",
              "\n",
              "    const hashes = {\"https://cdn.bokeh.org/bokeh/release/bokeh-2.3.3.min.js\": \"dM3QQsP+wXdHg42wTqW85BjZQdLNNIXqlPw/BgKoExPmTG7ZLML4EGqLMfqHT6ON\", \"https://cdn.bokeh.org/bokeh/release/bokeh-tables-2.3.3.min.js\": \"8x57I4YuIfu8XyZfFo0XVr2WAT8EK4rh/uDe3wF7YuW2FNUSNEpJbsPaB1nJ2fz2\", \"https://cdn.bokeh.org/bokeh/release/bokeh-widgets-2.3.3.min.js\": \"3QTqdz9LyAm2i0sG5XTePsHec3UHWwVsrOL68SYRoAXsafvfAyqtQ+h440+qIBhS\"};\n",
              "\n",
              "    for (let i = 0; i < js_urls.length; i++) {\n",
              "      const url = js_urls[i];\n",
              "      const element = document.createElement('script');\n",
              "      element.onload = on_load;\n",
              "      element.onerror = on_error.bind(null, url);\n",
              "      element.async = false;\n",
              "      element.src = url;\n",
              "      if (url in hashes) {\n",
              "        element.crossOrigin = \"anonymous\";\n",
              "        element.integrity = \"sha384-\" + hashes[url];\n",
              "      }\n",
              "      console.debug(\"Bokeh: injecting script tag for BokehJS library: \", url);\n",
              "      document.head.appendChild(element);\n",
              "    }\n",
              "  };\n",
              "\n",
              "  function inject_raw_css(css) {\n",
              "    const element = document.createElement(\"style\");\n",
              "    element.appendChild(document.createTextNode(css));\n",
              "    document.body.appendChild(element);\n",
              "  }\n",
              "\n",
              "  \n",
              "  var js_urls = [\"https://cdn.bokeh.org/bokeh/release/bokeh-2.3.3.min.js\", \"https://cdn.bokeh.org/bokeh/release/bokeh-widgets-2.3.3.min.js\", \"https://cdn.bokeh.org/bokeh/release/bokeh-tables-2.3.3.min.js\"];\n",
              "  var css_urls = [];\n",
              "  \n",
              "\n",
              "  var inline_js = [\n",
              "    function(Bokeh) {\n",
              "      Bokeh.set_log_level(\"info\");\n",
              "    },\n",
              "    function(Bokeh) {\n",
              "    \n",
              "    \n",
              "    }\n",
              "  ];\n",
              "\n",
              "  function run_inline_js() {\n",
              "    \n",
              "    if (root.Bokeh !== undefined || force === true) {\n",
              "      \n",
              "    for (var i = 0; i < inline_js.length; i++) {\n",
              "      inline_js[i].call(root, root.Bokeh);\n",
              "    }\n",
              "    } else if (Date.now() < root._bokeh_timeout) {\n",
              "      setTimeout(run_inline_js, 100);\n",
              "    } else if (!root._bokeh_failed_load) {\n",
              "      console.log(\"Bokeh: BokehJS failed to load within specified timeout.\");\n",
              "      root._bokeh_failed_load = true;\n",
              "    } else if (force !== true) {\n",
              "      var cell = $(document.getElementById(null)).parents('.cell').data().cell;\n",
              "      cell.output_area.append_execute_result(NB_LOAD_WARNING)\n",
              "    }\n",
              "\n",
              "  }\n",
              "\n",
              "  if (root._bokeh_is_loading === 0) {\n",
              "    console.debug(\"Bokeh: BokehJS loaded, going straight to plotting\");\n",
              "    run_inline_js();\n",
              "  } else {\n",
              "    load_libs(css_urls, js_urls, function() {\n",
              "      console.debug(\"Bokeh: BokehJS plotting callback run at\", now());\n",
              "      run_inline_js();\n",
              "    });\n",
              "  }\n",
              "}(window));"
            ],
            "application/vnd.bokehjs_load.v0+json": "\n(function(root) {\n  function now() {\n    return new Date();\n  }\n\n  var force = true;\n\n  if (typeof root._bokeh_onload_callbacks === \"undefined\" || force === true) {\n    root._bokeh_onload_callbacks = [];\n    root._bokeh_is_loading = undefined;\n  }\n\n  \n\n  \n  if (typeof (root._bokeh_timeout) === \"undefined\" || force === true) {\n    root._bokeh_timeout = Date.now() + 5000;\n    root._bokeh_failed_load = false;\n  }\n\n  var NB_LOAD_WARNING = {'data': {'text/html':\n     \"<div style='background-color: #fdd'>\\n\"+\n     \"<p>\\n\"+\n     \"BokehJS does not appear to have successfully loaded. If loading BokehJS from CDN, this \\n\"+\n     \"may be due to a slow or bad network connection. Possible fixes:\\n\"+\n     \"</p>\\n\"+\n     \"<ul>\\n\"+\n     \"<li>re-rerun `output_notebook()` to attempt to load from CDN again, or</li>\\n\"+\n     \"<li>use INLINE resources instead, as so:</li>\\n\"+\n     \"</ul>\\n\"+\n     \"<code>\\n\"+\n     \"from bokeh.resources import INLINE\\n\"+\n     \"output_notebook(resources=INLINE)\\n\"+\n     \"</code>\\n\"+\n     \"</div>\"}};\n\n  function display_loaded() {\n    var el = document.getElementById(null);\n    if (el != null) {\n      el.textContent = \"BokehJS is loading...\";\n    }\n    if (root.Bokeh !== undefined) {\n      if (el != null) {\n        el.textContent = \"BokehJS \" + root.Bokeh.version + \" successfully loaded.\";\n      }\n    } else if (Date.now() < root._bokeh_timeout) {\n      setTimeout(display_loaded, 100)\n    }\n  }\n\n\n  function run_callbacks() {\n    try {\n      root._bokeh_onload_callbacks.forEach(function(callback) {\n        if (callback != null)\n          callback();\n      });\n    } finally {\n      delete root._bokeh_onload_callbacks\n    }\n    console.debug(\"Bokeh: all callbacks have finished\");\n  }\n\n  function load_libs(css_urls, js_urls, callback) {\n    if (css_urls == null) css_urls = [];\n    if (js_urls == null) js_urls = [];\n\n    root._bokeh_onload_callbacks.push(callback);\n    if (root._bokeh_is_loading > 0) {\n      console.debug(\"Bokeh: BokehJS is being loaded, scheduling callback at\", now());\n      return null;\n    }\n    if (js_urls == null || js_urls.length === 0) {\n      run_callbacks();\n      return null;\n    }\n    console.debug(\"Bokeh: BokehJS not loaded, scheduling load and callback at\", now());\n    root._bokeh_is_loading = css_urls.length + js_urls.length;\n\n    function on_load() {\n      root._bokeh_is_loading--;\n      if (root._bokeh_is_loading === 0) {\n        console.debug(\"Bokeh: all BokehJS libraries/stylesheets loaded\");\n        run_callbacks()\n      }\n    }\n\n    function on_error(url) {\n      console.error(\"failed to load \" + url);\n    }\n\n    for (let i = 0; i < css_urls.length; i++) {\n      const url = css_urls[i];\n      const element = document.createElement(\"link\");\n      element.onload = on_load;\n      element.onerror = on_error.bind(null, url);\n      element.rel = \"stylesheet\";\n      element.type = \"text/css\";\n      element.href = url;\n      console.debug(\"Bokeh: injecting link tag for BokehJS stylesheet: \", url);\n      document.body.appendChild(element);\n    }\n\n    const hashes = {\"https://cdn.bokeh.org/bokeh/release/bokeh-2.3.3.min.js\": \"dM3QQsP+wXdHg42wTqW85BjZQdLNNIXqlPw/BgKoExPmTG7ZLML4EGqLMfqHT6ON\", \"https://cdn.bokeh.org/bokeh/release/bokeh-tables-2.3.3.min.js\": \"8x57I4YuIfu8XyZfFo0XVr2WAT8EK4rh/uDe3wF7YuW2FNUSNEpJbsPaB1nJ2fz2\", \"https://cdn.bokeh.org/bokeh/release/bokeh-widgets-2.3.3.min.js\": \"3QTqdz9LyAm2i0sG5XTePsHec3UHWwVsrOL68SYRoAXsafvfAyqtQ+h440+qIBhS\"};\n\n    for (let i = 0; i < js_urls.length; i++) {\n      const url = js_urls[i];\n      const element = document.createElement('script');\n      element.onload = on_load;\n      element.onerror = on_error.bind(null, url);\n      element.async = false;\n      element.src = url;\n      if (url in hashes) {\n        element.crossOrigin = \"anonymous\";\n        element.integrity = \"sha384-\" + hashes[url];\n      }\n      console.debug(\"Bokeh: injecting script tag for BokehJS library: \", url);\n      document.head.appendChild(element);\n    }\n  };\n\n  function inject_raw_css(css) {\n    const element = document.createElement(\"style\");\n    element.appendChild(document.createTextNode(css));\n    document.body.appendChild(element);\n  }\n\n  \n  var js_urls = [\"https://cdn.bokeh.org/bokeh/release/bokeh-2.3.3.min.js\", \"https://cdn.bokeh.org/bokeh/release/bokeh-widgets-2.3.3.min.js\", \"https://cdn.bokeh.org/bokeh/release/bokeh-tables-2.3.3.min.js\"];\n  var css_urls = [];\n  \n\n  var inline_js = [\n    function(Bokeh) {\n      Bokeh.set_log_level(\"info\");\n    },\n    function(Bokeh) {\n    \n    \n    }\n  ];\n\n  function run_inline_js() {\n    \n    if (root.Bokeh !== undefined || force === true) {\n      \n    for (var i = 0; i < inline_js.length; i++) {\n      inline_js[i].call(root, root.Bokeh);\n    }\n    } else if (Date.now() < root._bokeh_timeout) {\n      setTimeout(run_inline_js, 100);\n    } else if (!root._bokeh_failed_load) {\n      console.log(\"Bokeh: BokehJS failed to load within specified timeout.\");\n      root._bokeh_failed_load = true;\n    } else if (force !== true) {\n      var cell = $(document.getElementById(null)).parents('.cell').data().cell;\n      cell.output_area.append_execute_result(NB_LOAD_WARNING)\n    }\n\n  }\n\n  if (root._bokeh_is_loading === 0) {\n    console.debug(\"Bokeh: BokehJS loaded, going straight to plotting\");\n    run_inline_js();\n  } else {\n    load_libs(css_urls, js_urls, function() {\n      console.debug(\"Bokeh: BokehJS plotting callback run at\", now());\n      run_inline_js();\n    });\n  }\n}(window));"
          },
          "metadata": {}
        },
        {
          "output_type": "display_data",
          "data": {
            "text/html": [
              "\n",
              "\n",
              "\n",
              "\n",
              "\n",
              "\n",
              "  <div class=\"bk-root\" id=\"c0bdd6ac-8aa7-4e23-b352-08e5a8a40e7b\" data-root-id=\"1003\"></div>\n"
            ]
          },
          "metadata": {}
        },
        {
          "output_type": "display_data",
          "data": {
            "application/javascript": [
              "(function(root) {\n",
              "  function embed_document(root) {\n",
              "    \n",
              "  var docs_json = {\"7aa79a88-db33-49da-b243-065216fdebf6\":{\"defs\":[],\"roots\":{\"references\":[{\"attributes\":{\"background_fill_color\":\"#20262B\",\"below\":[{\"id\":\"1014\"}],\"border_fill_color\":\"#15191C\",\"center\":[{\"id\":\"1016\"},{\"id\":\"1020\"}],\"height\":400,\"left\":[{\"id\":\"1017\"}],\"outline_line_alpha\":0.25,\"outline_line_color\":\"#E0E0E0\",\"renderers\":[{\"id\":\"1027\"}],\"title\":{\"id\":\"1004\"},\"toolbar\":{\"id\":\"1022\"},\"width\":800,\"x_range\":{\"id\":\"1006\"},\"x_scale\":{\"id\":\"1010\"},\"y_range\":{\"id\":\"1008\"},\"y_scale\":{\"id\":\"1012\"}},\"id\":\"1003\",\"subtype\":\"Figure\",\"type\":\"Plot\"},{\"attributes\":{},\"id\":\"1035\",\"type\":\"AllLabels\"},{\"attributes\":{},\"id\":\"1018\",\"type\":\"BasicTicker\"},{\"attributes\":{\"axis_label_standoff\":10,\"axis_label_text_color\":\"#E0E0E0\",\"axis_label_text_font\":\"Helvetica\",\"axis_label_text_font_size\":\"1.25em\",\"axis_label_text_font_style\":\"normal\",\"axis_line_alpha\":0,\"axis_line_color\":\"#E0E0E0\",\"formatter\":{\"id\":\"1031\"},\"major_label_orientation\":\"vertical\",\"major_label_policy\":{\"id\":\"1032\"},\"major_label_text_color\":\"#E0E0E0\",\"major_label_text_font\":\"Helvetica\",\"major_label_text_font_size\":\"1.025em\",\"major_tick_line_alpha\":0,\"major_tick_line_color\":\"#E0E0E0\",\"minor_tick_line_alpha\":0,\"minor_tick_line_color\":\"#E0E0E0\",\"ticker\":{\"id\":\"1015\"}},\"id\":\"1014\",\"type\":\"CategoricalAxis\"},{\"attributes\":{},\"id\":\"1031\",\"type\":\"CategoricalTickFormatter\"},{\"attributes\":{\"axis\":{\"id\":\"1017\"},\"dimension\":1,\"grid_line_alpha\":0.25,\"grid_line_color\":\"#E0E0E0\",\"ticker\":null},\"id\":\"1020\",\"type\":\"Grid\"},{\"attributes\":{\"factors\":[\"little\",\"said\",\"time\",\"like\",\"people\",\"great\",\"water\",\"day\",\"called\",\"old\",\"came\",\"way\",\"went\",\"long\",\"man\",\"good\",\"new\",\"come\",\"found\",\"away\"]},\"id\":\"1006\",\"type\":\"FactorRange\"},{\"attributes\":{\"fill_color\":{\"field\":\"color\"},\"line_color\":{\"field\":\"color\"},\"top\":{\"field\":\"counts\"},\"width\":{\"value\":0.8},\"x\":{\"field\":\"Word\"}},\"id\":\"1025\",\"type\":\"VBar\"},{\"attributes\":{\"active_multi\":null,\"tools\":[{\"id\":\"1021\"}]},\"id\":\"1022\",\"type\":\"Toolbar\"},{\"attributes\":{},\"id\":\"1010\",\"type\":\"CategoricalScale\"},{\"attributes\":{},\"id\":\"1034\",\"type\":\"BasicTickFormatter\"},{\"attributes\":{\"callback\":null,\"tooltips\":\"@Word: @counts\"},\"id\":\"1021\",\"type\":\"HoverTool\"},{\"attributes\":{},\"id\":\"1036\",\"type\":\"UnionRenderers\"},{\"attributes\":{\"source\":{\"id\":\"1002\"}},\"id\":\"1028\",\"type\":\"CDSView\"},{\"attributes\":{},\"id\":\"1037\",\"type\":\"Selection\"},{\"attributes\":{},\"id\":\"1032\",\"type\":\"AllLabels\"},{\"attributes\":{},\"id\":\"1012\",\"type\":\"LinearScale\"},{\"attributes\":{\"start\":0},\"id\":\"1008\",\"type\":\"DataRange1d\"},{\"attributes\":{\"data_source\":{\"id\":\"1002\"},\"glyph\":{\"id\":\"1025\"},\"hover_glyph\":null,\"muted_glyph\":null,\"nonselection_glyph\":{\"id\":\"1026\"},\"view\":{\"id\":\"1028\"}},\"id\":\"1027\",\"type\":\"GlyphRenderer\"},{\"attributes\":{\"data\":{\"Word\":[\"little\",\"said\",\"time\",\"like\",\"people\",\"great\",\"water\",\"day\",\"called\",\"old\",\"came\",\"way\",\"went\",\"long\",\"man\",\"good\",\"new\",\"come\",\"found\",\"away\"],\"color\":[\"#6baed6\",\"#6baed6\",\"#6baed6\",\"#6baed6\",\"#6baed6\",\"#6baed6\",\"#6baed6\",\"#6baed6\",\"#6baed6\",\"#6baed6\",\"#6baed6\",\"#6baed6\",\"#6baed6\",\"#6baed6\",\"#6baed6\",\"#6baed6\",\"#6baed6\",\"#6baed6\",\"#6baed6\",\"#6baed6\"],\"counts\":[1137,1112,919,837,750,702,672,662,647,625,609,589,578,576,548,542,459,450,439,439]},\"selected\":{\"id\":\"1037\"},\"selection_policy\":{\"id\":\"1036\"}},\"id\":\"1002\",\"type\":\"ColumnDataSource\"},{\"attributes\":{\"align\":\"center\",\"text\":\"Top Unigrams\",\"text_color\":\"#E0E0E0\",\"text_font\":\"Helvetica\",\"text_font_size\":\"1.15em\"},\"id\":\"1004\",\"type\":\"Title\"},{\"attributes\":{\"axis\":{\"id\":\"1014\"},\"grid_line_alpha\":0.25,\"grid_line_color\":null,\"ticker\":null},\"id\":\"1016\",\"type\":\"Grid\"},{\"attributes\":{},\"id\":\"1015\",\"type\":\"CategoricalTicker\"},{\"attributes\":{\"axis_label_standoff\":10,\"axis_label_text_color\":\"#E0E0E0\",\"axis_label_text_font\":\"Helvetica\",\"axis_label_text_font_size\":\"1.25em\",\"axis_label_text_font_style\":\"normal\",\"axis_line_alpha\":0,\"axis_line_color\":\"#E0E0E0\",\"formatter\":{\"id\":\"1034\"},\"major_label_policy\":{\"id\":\"1035\"},\"major_label_text_color\":\"#E0E0E0\",\"major_label_text_font\":\"Helvetica\",\"major_label_text_font_size\":\"1.025em\",\"major_tick_line_alpha\":0,\"major_tick_line_color\":\"#E0E0E0\",\"minor_tick_line_alpha\":0,\"minor_tick_line_color\":\"#E0E0E0\",\"ticker\":{\"id\":\"1018\"}},\"id\":\"1017\",\"type\":\"LinearAxis\"},{\"attributes\":{\"fill_alpha\":{\"value\":0.1},\"fill_color\":{\"field\":\"color\"},\"line_alpha\":{\"value\":0.1},\"line_color\":{\"field\":\"color\"},\"top\":{\"field\":\"counts\"},\"width\":{\"value\":0.8},\"x\":{\"field\":\"Word\"}},\"id\":\"1026\",\"type\":\"VBar\"}],\"root_ids\":[\"1003\"]},\"title\":\"Bokeh Application\",\"version\":\"2.3.3\"}};\n",
              "  var render_items = [{\"docid\":\"7aa79a88-db33-49da-b243-065216fdebf6\",\"root_ids\":[\"1003\"],\"roots\":{\"1003\":\"c0bdd6ac-8aa7-4e23-b352-08e5a8a40e7b\"}}];\n",
              "  root.Bokeh.embed.embed_items_notebook(docs_json, render_items);\n",
              "\n",
              "  }\n",
              "  if (root.Bokeh !== undefined) {\n",
              "    embed_document(root);\n",
              "  } else {\n",
              "    var attempts = 0;\n",
              "    var timer = setInterval(function(root) {\n",
              "      if (root.Bokeh !== undefined) {\n",
              "        clearInterval(timer);\n",
              "        embed_document(root);\n",
              "      } else {\n",
              "        attempts++;\n",
              "        if (attempts > 100) {\n",
              "          clearInterval(timer);\n",
              "          console.log(\"Bokeh: ERROR: Unable to run BokehJS code because BokehJS library is missing\");\n",
              "        }\n",
              "      }\n",
              "    }, 10, root)\n",
              "  }\n",
              "})(window);"
            ],
            "application/vnd.bokehjs_exec.v0+json": ""
          },
          "metadata": {
            "application/vnd.bokehjs_exec.v0+json": {
              "id": "1003"
            }
          }
        }
      ]
    },
    {
      "cell_type": "code",
      "metadata": {
        "id": "pRutDyvP6Lls"
      },
      "source": [
        ""
      ],
      "execution_count": null,
      "outputs": []
    },
    {
      "cell_type": "markdown",
      "metadata": {
        "id": "DHrA0baS6l7z"
      },
      "source": [
        "## Stemming"
      ]
    },
    {
      "cell_type": "code",
      "metadata": {
        "id": "bHof5cgm6ndj"
      },
      "source": [
        "from nltk.stem.snowball import SnowballStemmer\n",
        "stemmer = SnowballStemmer(language='english')\n"
      ],
      "execution_count": 28,
      "outputs": []
    },
    {
      "cell_type": "code",
      "metadata": {
        "id": "xad2r3tX6vlb"
      },
      "source": [
        "def stemWord(text):\n",
        "    tokens = text.split()\n",
        "    clean_text = ' '\n",
        "    for token in tokens:\n",
        "        clean_text = clean_text + \" \" + stemmer.stem(token)      \n",
        "    \n",
        "    return clean_text"
      ],
      "execution_count": 29,
      "outputs": []
    },
    {
      "cell_type": "code",
      "metadata": {
        "id": "Ko7Rn-odAQHL"
      },
      "source": [
        "df['excerpt_clean_stemming'] = df['excerpt_clean'].apply(stemWord)"
      ],
      "execution_count": 30,
      "outputs": []
    },
    {
      "cell_type": "markdown",
      "metadata": {
        "id": "di-DURz2mZFe"
      },
      "source": [
        "#Using Spacy with Bi-LSTM"
      ]
    },
    {
      "cell_type": "code",
      "metadata": {
        "execution": {
          "iopub.execute_input": "2021-07-15T08:03:53.659588Z",
          "iopub.status.busy": "2021-07-15T08:03:53.644099Z",
          "iopub.status.idle": "2021-07-15T08:05:33.808202Z",
          "shell.execute_reply": "2021-07-15T08:05:33.809027Z",
          "shell.execute_reply.started": "2021-07-15T07:57:33.327585Z"
        },
        "papermill": {
          "duration": 100.223817,
          "end_time": "2021-07-15T08:05:33.809390",
          "exception": false,
          "start_time": "2021-07-15T08:03:53.585573",
          "status": "completed"
        },
        "tags": [],
        "colab": {
          "base_uri": "https://localhost:8080/"
        },
        "id": "f983da56",
        "outputId": "fae1b2a3-6447-473b-a8d0-c745eaf1ae20"
      },
      "source": [
        "# Split train into X and Y\n",
        "X = train.drop(columns='target')\n",
        "Y = train['target']\n",
        "\n",
        "clean_text_train = [clean_text(i) for i in X['excerpt']]\n",
        "clean_text_test = [clean_text(i) for i in test['excerpt']]\n",
        "\n",
        "#clean_work = clean_text(work)\n",
        "\n",
        "# Add cleaned columns back\n",
        "# X['clean_url'] = clean_urls_train\n",
        "X['clean_text'] = clean_text_train\n",
        "# test['clean_url'] = clean_urls_test\n",
        "test['clean_text'] = clean_text_test\n",
        "# Generate tokens from clean_text\n",
        "# train_url_tokens = remove_stopwords_url([gen_tokens(i) for i in X['clean_url']])\n",
        "train_excerpt_tokens = remove_stopwords([gen_tokens(i) for i in X['clean_text']])\n",
        "# test_url_tokens = remove_stopwords_url([gen_tokens(i) for i in test['clean_url']])\n",
        "test_excerpt_tokens = remove_stopwords([gen_tokens(i) for i in test['clean_text']])\n",
        "\n",
        "\n",
        "X['excerpt_tokens'] = train_excerpt_tokens\n",
        "\n",
        "test['excerpt_tokens'] = test_excerpt_tokens\n",
        "\n",
        "X_train, X_val, y_train, y_val = train_test_split(X, Y, test_size=0.1, random_state=42)\n",
        "print(\"Train:\",(X_train.shape, y_train.shape), \"Val:\",(X_val.shape, y_val.shape))"
      ],
      "execution_count": null,
      "outputs": [
        {
          "output_type": "stream",
          "name": "stdout",
          "text": [
            "Train: ((2550, 7), (2550,)) Val: ((284, 7), (284,))\n"
          ]
        }
      ]
    },
    {
      "cell_type": "code",
      "metadata": {
        "execution": {
          "iopub.execute_input": "2021-07-15T08:05:33.848596Z",
          "iopub.status.busy": "2021-07-15T08:05:33.847455Z",
          "iopub.status.idle": "2021-07-15T08:05:34.031736Z",
          "shell.execute_reply": "2021-07-15T08:05:34.031120Z",
          "shell.execute_reply.started": "2021-07-15T07:59:07.623052Z"
        },
        "papermill": {
          "duration": 0.205461,
          "end_time": "2021-07-15T08:05:34.031921",
          "exception": false,
          "start_time": "2021-07-15T08:05:33.826460",
          "status": "completed"
        },
        "tags": [],
        "id": "567e9301"
      },
      "source": [
        "X_train_vect = [np.array(i) for i in X_train['excerpt_tokens']]\n",
        "X_val_vect = [np.array(i) for i in X_val['excerpt_tokens']]\n",
        "test_vect = [np.array(i) for i in test['excerpt_tokens']]\n"
      ],
      "execution_count": null,
      "outputs": []
    },
    {
      "cell_type": "code",
      "metadata": {
        "execution": {
          "iopub.execute_input": "2021-07-15T08:05:34.070456Z",
          "iopub.status.busy": "2021-07-15T08:05:34.069027Z",
          "iopub.status.idle": "2021-07-15T08:05:34.071793Z",
          "shell.execute_reply": "2021-07-15T08:05:34.072363Z",
          "shell.execute_reply.started": "2021-07-15T07:59:07.806268Z"
        },
        "papermill": {
          "duration": 0.024781,
          "end_time": "2021-07-15T08:05:34.072526",
          "exception": false,
          "start_time": "2021-07-15T08:05:34.047745",
          "status": "completed"
        },
        "tags": [],
        "id": "4669894b"
      },
      "source": [
        "def pad_array(data):\n",
        "    data_out = []\n",
        "    for i in range(len(data)):\n",
        "        an_array = data[i]\n",
        "        shape = np.shape(an_array)\n",
        "        padded_array = np.zeros((200,300))\n",
        "        padded_array[:shape[0],:shape[1]] = an_array\n",
        "        data_out.append(padded_array)\n",
        "    return data_out"
      ],
      "execution_count": null,
      "outputs": []
    },
    {
      "cell_type": "code",
      "metadata": {
        "id": "UdfJ2yHNnGzA"
      },
      "source": [
        "cool_array_X = pad_array(X_train_vect)\n",
        "cool_array_V = pad_array(X_val_vect)\n",
        "cool_array_test = pad_array(test_vect)\n",
        "t = np.array(cool_array_X).reshape(len(X_train), 200, 300)\n",
        "v = np.array(cool_array_V).reshape(len(y_val), 200, 300)\n",
        "vt = np.array(cool_array_test).reshape(len(test), 200, 300)\n",
        "\n",
        "\n",
        "y = np.array(y_train)\n",
        "y = y.reshape(1, -1)"
      ],
      "execution_count": null,
      "outputs": []
    },
    {
      "cell_type": "code",
      "metadata": {
        "id": "Yk-38OeqnKmH"
      },
      "source": [
        "model1 = Sequential()\n",
        "\n",
        "model1.add(Bidirectional(LSTM(512, input_shape=(None, 300), return_sequences=True),\n",
        "                            backward_layer=LSTM(512, go_backwards=True, return_sequences=True)))\n",
        "\n",
        "model1.add(Dense(128, activation='relu'))\n",
        "\n",
        "model1.add(Dense(1))\n",
        "\n",
        "model1.compile(loss='mean_squared_error', optimizer='adam', metrics=['mse'])\n",
        "\n"
      ],
      "execution_count": null,
      "outputs": []
    },
    {
      "cell_type": "code",
      "metadata": {
        "execution": {
          "iopub.execute_input": "2021-07-15T08:05:38.336863Z",
          "iopub.status.busy": "2021-07-15T08:05:38.336079Z",
          "iopub.status.idle": "2021-07-15T08:21:23.208389Z",
          "shell.execute_reply": "2021-07-15T08:21:23.207812Z"
        },
        "papermill": {
          "duration": 944.893094,
          "end_time": "2021-07-15T08:21:23.208542",
          "exception": false,
          "start_time": "2021-07-15T08:05:38.315448",
          "status": "completed"
        },
        "tags": [],
        "colab": {
          "base_uri": "https://localhost:8080/"
        },
        "id": "b6542ff0",
        "outputId": "dc642009-76d6-4cfc-83eb-8802b2ca494c"
      },
      "source": [
        "model1.fit(t, y_train,\n",
        "           validation_data=(v, y_val),\n",
        "           batch_size = 20,\n",
        "           epochs=100,\n",
        "           verbose=1,\n",
        "           \n",
        "          )"
      ],
      "execution_count": null,
      "outputs": [
        {
          "output_type": "stream",
          "name": "stdout",
          "text": [
            "Epoch 1/100\n",
            "128/128 [==============================] - 34s 200ms/step - loss: 0.9803 - mse: 0.9803 - val_loss: 0.7087 - val_mse: 0.7087\n",
            "Epoch 2/100\n",
            "128/128 [==============================] - 24s 191ms/step - loss: 0.7533 - mse: 0.7533 - val_loss: 0.9557 - val_mse: 0.9557\n",
            "Epoch 3/100\n",
            "128/128 [==============================] - 25s 192ms/step - loss: 0.8775 - mse: 0.8775 - val_loss: 0.7122 - val_mse: 0.7122\n",
            "Epoch 4/100\n",
            "128/128 [==============================] - 24s 190ms/step - loss: 0.7637 - mse: 0.7637 - val_loss: 0.8215 - val_mse: 0.8215\n",
            "Epoch 5/100\n",
            "128/128 [==============================] - 24s 191ms/step - loss: 0.7864 - mse: 0.7864 - val_loss: 1.0499 - val_mse: 1.0499\n",
            "Epoch 6/100\n",
            "128/128 [==============================] - 25s 192ms/step - loss: 0.7949 - mse: 0.7949 - val_loss: 0.7918 - val_mse: 0.7918\n",
            "Epoch 7/100\n",
            "128/128 [==============================] - 25s 192ms/step - loss: 0.7367 - mse: 0.7367 - val_loss: 0.7582 - val_mse: 0.7582\n",
            "Epoch 8/100\n",
            "128/128 [==============================] - 24s 191ms/step - loss: 0.6565 - mse: 0.6565 - val_loss: 0.6752 - val_mse: 0.6752\n",
            "Epoch 9/100\n",
            "128/128 [==============================] - 24s 191ms/step - loss: 0.6036 - mse: 0.6036 - val_loss: 0.6783 - val_mse: 0.6783\n",
            "Epoch 10/100\n",
            "128/128 [==============================] - 24s 191ms/step - loss: 0.5338 - mse: 0.5338 - val_loss: 0.5846 - val_mse: 0.5846\n",
            "Epoch 11/100\n",
            "128/128 [==============================] - 24s 190ms/step - loss: 0.3733 - mse: 0.3733 - val_loss: 0.5077 - val_mse: 0.5077\n",
            "Epoch 12/100\n",
            "128/128 [==============================] - 24s 190ms/step - loss: 0.3099 - mse: 0.3099 - val_loss: 0.5082 - val_mse: 0.5082\n",
            "Epoch 13/100\n",
            "128/128 [==============================] - 25s 192ms/step - loss: 0.2579 - mse: 0.2579 - val_loss: 0.5160 - val_mse: 0.5160\n",
            "Epoch 14/100\n",
            "128/128 [==============================] - 24s 191ms/step - loss: 0.2130 - mse: 0.2130 - val_loss: 0.5036 - val_mse: 0.5036\n",
            "Epoch 15/100\n",
            "128/128 [==============================] - 24s 191ms/step - loss: 0.1788 - mse: 0.1788 - val_loss: 0.5115 - val_mse: 0.5115\n",
            "Epoch 16/100\n",
            "128/128 [==============================] - 24s 190ms/step - loss: 0.1456 - mse: 0.1456 - val_loss: 0.5132 - val_mse: 0.5132\n",
            "Epoch 17/100\n",
            "128/128 [==============================] - 24s 191ms/step - loss: 0.1271 - mse: 0.1271 - val_loss: 0.5272 - val_mse: 0.5272\n",
            "Epoch 18/100\n",
            "128/128 [==============================] - 24s 191ms/step - loss: 0.1005 - mse: 0.1005 - val_loss: 0.5174 - val_mse: 0.5174\n",
            "Epoch 19/100\n",
            "128/128 [==============================] - 25s 192ms/step - loss: 0.0789 - mse: 0.0789 - val_loss: 0.5053 - val_mse: 0.5053\n",
            "Epoch 20/100\n",
            "128/128 [==============================] - 24s 191ms/step - loss: 0.0622 - mse: 0.0622 - val_loss: 0.5022 - val_mse: 0.5022\n",
            "Epoch 21/100\n",
            "128/128 [==============================] - 24s 191ms/step - loss: 0.0516 - mse: 0.0516 - val_loss: 0.5117 - val_mse: 0.5117\n",
            "Epoch 22/100\n",
            "128/128 [==============================] - 24s 190ms/step - loss: 0.0455 - mse: 0.0455 - val_loss: 0.5107 - val_mse: 0.5107\n",
            "Epoch 23/100\n",
            "128/128 [==============================] - 24s 190ms/step - loss: 0.0382 - mse: 0.0382 - val_loss: 0.5173 - val_mse: 0.5173\n",
            "Epoch 24/100\n",
            "128/128 [==============================] - 24s 191ms/step - loss: 0.0326 - mse: 0.0326 - val_loss: 0.5195 - val_mse: 0.5195\n",
            "Epoch 25/100\n",
            "128/128 [==============================] - 25s 192ms/step - loss: 0.0281 - mse: 0.0281 - val_loss: 0.4993 - val_mse: 0.4993\n",
            "Epoch 26/100\n",
            "128/128 [==============================] - 24s 191ms/step - loss: 0.0277 - mse: 0.0277 - val_loss: 0.5133 - val_mse: 0.5133\n",
            "Epoch 27/100\n",
            "128/128 [==============================] - 25s 192ms/step - loss: 0.0251 - mse: 0.0251 - val_loss: 0.5296 - val_mse: 0.5296\n",
            "Epoch 28/100\n",
            "128/128 [==============================] - 24s 190ms/step - loss: 0.0195 - mse: 0.0195 - val_loss: 0.5101 - val_mse: 0.5101\n",
            "Epoch 29/100\n",
            "128/128 [==============================] - 24s 191ms/step - loss: 0.0188 - mse: 0.0188 - val_loss: 0.5237 - val_mse: 0.5237\n",
            "Epoch 30/100\n",
            "128/128 [==============================] - 24s 191ms/step - loss: 0.0162 - mse: 0.0162 - val_loss: 0.5116 - val_mse: 0.5116\n",
            "Epoch 31/100\n",
            "128/128 [==============================] - 25s 192ms/step - loss: 0.0173 - mse: 0.0173 - val_loss: 0.5159 - val_mse: 0.5159\n",
            "Epoch 32/100\n",
            "128/128 [==============================] - 24s 191ms/step - loss: 0.0153 - mse: 0.0153 - val_loss: 0.5214 - val_mse: 0.5214\n",
            "Epoch 33/100\n",
            "128/128 [==============================] - 25s 192ms/step - loss: 0.0135 - mse: 0.0135 - val_loss: 0.5089 - val_mse: 0.5089\n",
            "Epoch 34/100\n",
            "128/128 [==============================] - 24s 191ms/step - loss: 0.0113 - mse: 0.0113 - val_loss: 0.5098 - val_mse: 0.5098\n",
            "Epoch 35/100\n",
            "128/128 [==============================] - 24s 191ms/step - loss: 0.0101 - mse: 0.0101 - val_loss: 0.5110 - val_mse: 0.5110\n",
            "Epoch 36/100\n",
            " 74/128 [================>.............] - ETA: 9s - loss: 0.0093 - mse: 0.0093 "
          ]
        }
      ]
    },
    {
      "cell_type": "code",
      "metadata": {
        "id": "7pdGM-RfnxoG"
      },
      "source": [
        "model1.save('model1')"
      ],
      "execution_count": null,
      "outputs": []
    },
    {
      "cell_type": "code",
      "metadata": {
        "id": "clBxcmLwn0Wu"
      },
      "source": [
        "l = model1.predict(vt)\n",
        "f = [np.mean(i) for i in l]"
      ],
      "execution_count": null,
      "outputs": []
    },
    {
      "cell_type": "code",
      "metadata": {
        "execution": {
          "iopub.execute_input": "2021-07-15T08:22:16.863615Z",
          "iopub.status.busy": "2021-07-15T08:22:16.862442Z",
          "iopub.status.idle": "2021-07-15T08:22:16.872756Z",
          "shell.execute_reply": "2021-07-15T08:22:16.873576Z"
        },
        "papermill": {
          "duration": 4.449585,
          "end_time": "2021-07-15T08:22:16.873772",
          "exception": false,
          "start_time": "2021-07-15T08:22:12.424187",
          "status": "completed"
        },
        "tags": [],
        "id": "8f4b04e8",
        "outputId": "93b36f56-f755-4ad0-92c1-2d3b8e48f7d1"
      },
      "source": [
        "f"
      ],
      "execution_count": null,
      "outputs": [
        {
          "data": {
            "text/plain": [
              "[-1.3602839,\n",
              " -0.7652048,\n",
              " -0.5913999,\n",
              " -2.105972,\n",
              " -1.4669632,\n",
              " -2.0891907,\n",
              " -0.45615074]"
            ]
          },
          "execution_count": 15,
          "metadata": {},
          "output_type": "execute_result"
        }
      ]
    },
    {
      "cell_type": "code",
      "metadata": {
        "id": "cAy61fANn5FI"
      },
      "source": [
        "submission['target'] = f\n",
        "\n",
        "submission.to_csv(\"./submission.csv\", index=False)"
      ],
      "execution_count": null,
      "outputs": []
    },
    {
      "cell_type": "markdown",
      "metadata": {
        "id": "xshZSwO7n535"
      },
      "source": [
        "# Score with BiLSTM 0.666, a whole alot of improve"
      ]
    },
    {
      "cell_type": "markdown",
      "metadata": {
        "id": "YY02iqzT-UqC"
      },
      "source": [
        "## Using Bert Transformer"
      ]
    },
    {
      "cell_type": "code",
      "metadata": {
        "id": "andcAZ7U-d47"
      },
      "source": [
        "import numpy as np \n",
        "import pandas as pd"
      ],
      "execution_count": 2,
      "outputs": []
    },
    {
      "cell_type": "code",
      "metadata": {
        "colab": {
          "base_uri": "https://localhost:8080/"
        },
        "id": "kRk5JYMzAntv",
        "outputId": "61d2bdc5-9bed-470e-ddb2-e96f0311ec6a"
      },
      "source": [
        "!pip install transformers"
      ],
      "execution_count": 4,
      "outputs": [
        {
          "output_type": "stream",
          "name": "stdout",
          "text": [
            "Requirement already satisfied: transformers in /usr/local/lib/python3.7/dist-packages (4.12.5)\n",
            "Requirement already satisfied: tokenizers<0.11,>=0.10.1 in /usr/local/lib/python3.7/dist-packages (from transformers) (0.10.3)\n",
            "Requirement already satisfied: tqdm>=4.27 in /usr/local/lib/python3.7/dist-packages (from transformers) (4.62.3)\n",
            "Requirement already satisfied: pyyaml>=5.1 in /usr/local/lib/python3.7/dist-packages (from transformers) (6.0)\n",
            "Requirement already satisfied: filelock in /usr/local/lib/python3.7/dist-packages (from transformers) (3.4.0)\n",
            "Requirement already satisfied: requests in /usr/local/lib/python3.7/dist-packages (from transformers) (2.23.0)\n",
            "Requirement already satisfied: packaging>=20.0 in /usr/local/lib/python3.7/dist-packages (from transformers) (21.3)\n",
            "Requirement already satisfied: importlib-metadata in /usr/local/lib/python3.7/dist-packages (from transformers) (4.8.2)\n",
            "Requirement already satisfied: huggingface-hub<1.0,>=0.1.0 in /usr/local/lib/python3.7/dist-packages (from transformers) (0.2.0)\n",
            "Requirement already satisfied: regex!=2019.12.17 in /usr/local/lib/python3.7/dist-packages (from transformers) (2019.12.20)\n",
            "Requirement already satisfied: sacremoses in /usr/local/lib/python3.7/dist-packages (from transformers) (0.0.46)\n",
            "Requirement already satisfied: numpy>=1.17 in /usr/local/lib/python3.7/dist-packages (from transformers) (1.19.5)\n",
            "Requirement already satisfied: typing-extensions>=3.7.4.3 in /usr/local/lib/python3.7/dist-packages (from huggingface-hub<1.0,>=0.1.0->transformers) (4.0.1)\n",
            "Requirement already satisfied: pyparsing!=3.0.5,>=2.0.2 in /usr/local/lib/python3.7/dist-packages (from packaging>=20.0->transformers) (3.0.6)\n",
            "Requirement already satisfied: zipp>=0.5 in /usr/local/lib/python3.7/dist-packages (from importlib-metadata->transformers) (3.6.0)\n",
            "Requirement already satisfied: idna<3,>=2.5 in /usr/local/lib/python3.7/dist-packages (from requests->transformers) (2.10)\n",
            "Requirement already satisfied: chardet<4,>=3.0.2 in /usr/local/lib/python3.7/dist-packages (from requests->transformers) (3.0.4)\n",
            "Requirement already satisfied: urllib3!=1.25.0,!=1.25.1,<1.26,>=1.21.1 in /usr/local/lib/python3.7/dist-packages (from requests->transformers) (1.24.3)\n",
            "Requirement already satisfied: certifi>=2017.4.17 in /usr/local/lib/python3.7/dist-packages (from requests->transformers) (2021.10.8)\n",
            "Requirement already satisfied: six in /usr/local/lib/python3.7/dist-packages (from sacremoses->transformers) (1.15.0)\n",
            "Requirement already satisfied: click in /usr/local/lib/python3.7/dist-packages (from sacremoses->transformers) (7.1.2)\n",
            "Requirement already satisfied: joblib in /usr/local/lib/python3.7/dist-packages (from sacremoses->transformers) (1.1.0)\n"
          ]
        }
      ]
    },
    {
      "cell_type": "code",
      "metadata": {
        "id": "k-nw7P4uoogs"
      },
      "source": [
        "from transformers import BertTokenizer, BertModel, get_linear_schedule_with_warmup\n",
        "\n",
        "import torch\n",
        "from torch.utils.data import DataLoader, Dataset, random_split\n",
        "\n",
        "from sklearn.model_selection import train_test_split"
      ],
      "execution_count": 5,
      "outputs": []
    },
    {
      "cell_type": "code",
      "metadata": {
        "id": "oDKoHoKLo87_"
      },
      "source": [
        "def pad_to_len(seqs, to_len, padding=0):\n",
        "    paddeds = []\n",
        "    for seq in seqs:\n",
        "        paddeds.append(\n",
        "            seq[:to_len] + [padding] * max(0, to_len - len(seq))\n",
        "        )\n",
        "    return paddeds"
      ],
      "execution_count": 7,
      "outputs": []
    },
    {
      "cell_type": "code",
      "metadata": {
        "id": "jkIpLrRro-sM"
      },
      "source": [
        "class dataset(Dataset):\n",
        "    def __init__(self, data):\n",
        "        self.data  = data\n",
        "        \n",
        "    def __len__(self):\n",
        "        return len(self.data)\n",
        "    \n",
        "    def __getitem__(self, index):\n",
        "        sample = self.data[index]\n",
        "        return sample\n",
        "    \n",
        "    def collate_fn(self, samples, target=True):\n",
        "\n",
        "        batch = {}\n",
        "        \n",
        "        for key in ['input_ids', 'token_type_ids', 'attention_mask']:\n",
        "            to_len = max([len(sample[key]) for sample in samples])\n",
        "            padded = pad_to_len(\n",
        "                [sample[key] for sample in samples], to_len, 0\n",
        "            )\n",
        "            batch[key] = torch.tensor(padded)\n",
        "        \n",
        "        if target:\n",
        "            batch['label'] = torch.tensor([sample['target'] for sample in samples])\n",
        "            \n",
        "        return batch"
      ],
      "execution_count": 8,
      "outputs": []
    },
    {
      "cell_type": "code",
      "metadata": {
        "id": "wgTwHG-ppA26"
      },
      "source": [
        "class BERT(torch.nn.Module):\n",
        "    def __init__(self):\n",
        "        super().__init__()        \n",
        "        self.model = BertModel.from_pretrained( \"bert-base-uncased\")\n",
        "        self.extractor = torch.nn.Linear(768, 768)\n",
        "        self.classifer = torch.nn.Linear(768, 1)\n",
        "        self.dropout   = torch.nn.Dropout(0.1)\n",
        "        self.tanh = torch.nn.Tanh() \n",
        "        \n",
        "    def forward(self, ids, mask):\n",
        "        output = self.model(ids, mask)\n",
        "        CLS    = output.last_hidden_state[:,0,:]\n",
        "        output = self.tanh(self.extractor(CLS))\n",
        "        output = self.dropout(output)\n",
        "        output = self.classifer(output)\n",
        "        return output"
      ],
      "execution_count": 22,
      "outputs": []
    },
    {
      "cell_type": "code",
      "metadata": {
        "id": "KbMujew3pCl2"
      },
      "source": [
        "class Estimator():\n",
        "    def __init__(self, hyperparameters, device, model, optim = 'AdamW'):        \n",
        "        self.params = hyperparameters\n",
        "        self.model  = model\n",
        "        self.device = device\n",
        "        \n",
        "        no_decay = ['bias', 'LayerNorm.weight']\n",
        "        optimizer_grouped_parameters = [\n",
        "            {'params': [p for n, p in self.model.named_parameters() if not any(nd in n for nd in no_decay)], \n",
        "             'weight_decay': self.params['weight_decay']},\n",
        "            {'params': [p for n, p in self.model.named_parameters() if any(nd in n for nd in no_decay)], \n",
        "             'weight_decay': 0.0}\n",
        "        ]\n",
        "        \n",
        "        if optim == 'Adam':\n",
        "            self.optimizer = torch.optim.Adam(params=optimizer_grouped_parameters, \n",
        "                                              lr=self.params['learning_rate'])\n",
        "        if optim == 'AdamW':\n",
        "            self.optimizer = torch.optim.AdamW(params=optimizer_grouped_parameters, \n",
        "                                              lr=self.params['learning_rate'])\n",
        "        self.model.to(self.device)\n",
        "        \n",
        "    def load_weight(self, weight_path):\n",
        "        self.model.load_state_dict(torch.load(weight_path))\n",
        "\n",
        "    def fit(self, data, save_name):\n",
        "        \n",
        "        ## loss function\n",
        "        criterion = torch.nn.MSELoss()\n",
        "        criterion.to(self.device)\n",
        "\n",
        "        ## Meta\n",
        "        len_of_train = len(data['train'].dataset)\n",
        "        len_of_test  = len(data['test'].dataset)\n",
        "        best = 1000\n",
        "        \n",
        "        train_steps = int(len_of_train/self.params['batch_size']*self.params['epoch'])\n",
        "        num_steps   = int(train_steps*0.1)\n",
        "\n",
        "        scheduler = get_linear_schedule_with_warmup(self.optimizer, num_steps, train_steps)\n",
        "\n",
        "        for epoch in range(self.params['epoch']):\n",
        "            total_loss = 0\n",
        "            total_val_loss = 0\n",
        "            \n",
        "            self.model.train()\n",
        "            for batch in tqdm.tqdm(data['train']):\n",
        "                ## INPUT\n",
        "                input_ids = batch['input_ids'].to(self.device)\n",
        "                attention_mask = batch['attention_mask'].to(self.device)\n",
        "                target = batch['label'].to(self.device)\n",
        "\n",
        "                ## FOWARD\n",
        "                output = self.model(input_ids, attention_mask)\n",
        "                loss = criterion(output.squeeze(), target) ## LOSS and PREDICT\n",
        "                total_loss+=loss.item()*len(input_ids)\n",
        "\n",
        "                ## OPTIMIZE\n",
        "                self.optimizer.zero_grad()\n",
        "                loss.backward()\n",
        "                self.optimizer.step()\n",
        "                scheduler.step() # Update learning rate schedule\n",
        "\n",
        "            self.model.eval()\n",
        "            for batch in data['test']:\n",
        "                with torch.no_grad():\n",
        "                    ## INPUT\n",
        "                    input_ids = batch['input_ids'].to(self.device)\n",
        "                    attention_mask = batch['attention_mask'].to(self.device)\n",
        "                    target = batch['label'].to(self.device)\n",
        "\n",
        "                    ## FOWARD\n",
        "                    output = self.model(input_ids, attention_mask)\n",
        "                    loss = criterion(output.squeeze(), target) ## LOSS and PREDICT\n",
        "                    \n",
        "                    total_val_loss+=loss.item()*len(input_ids)\n",
        "                \n",
        "            print(f'Epoch: {epoch}, Train: {(total_loss/len_of_train)**(1/2)}, Test: {(total_val_loss/len_of_test)**(1/2)}')\n",
        "\n",
        "            if total_val_loss < best:\n",
        "                best = total_val_loss\n",
        "                torch.save(self.model.state_dict(), f\"{save_name}.pth\")\n",
        "                    \n",
        "    def inference(self, data, t = True):\n",
        "        \n",
        "        total_loss = 0\n",
        "        outputs = []\n",
        "        \n",
        "        ## loss function\n",
        "        criterion = torch.nn.MSELoss()\n",
        "        criterion.to(self.device)\n",
        "        \n",
        "        self.model.eval()\n",
        "        for batch in tqdm.tqdm(data):\n",
        "            with torch.no_grad():\n",
        "                ## INPUT\n",
        "                input_ids = batch['input_ids'].to(self.device)\n",
        "                attention_mask = batch['attention_mask'].to(self.device)\n",
        "                if t:\n",
        "                    target = batch['label'].to(self.device)\n",
        "                \n",
        "                ## FOWARD\n",
        "                output = self.model(input_ids, attention_mask)\n",
        "                \n",
        "                if t:\n",
        "                    loss = criterion(output.squeeze(), target) ## LOSS and PREDICT\n",
        "                    total_loss+=loss.item()*len(input_ids)\n",
        "                \n",
        "                outputs+=output.squeeze().tolist()\n",
        "        \n",
        "        if t:\n",
        "            return (total_loss/len(data.dataset))**(1/2)\n",
        "        else:\n",
        "            return outputs"
      ],
      "execution_count": 10,
      "outputs": []
    },
    {
      "cell_type": "code",
      "metadata": {
        "id": "zP71u4jCpE9m"
      },
      "source": [
        "X_train, X_test, _, _ = train_test_split(df, df['target'], test_size=0.1, random_state=42)\n",
        "\n",
        "\n",
        "X_train, X_valid, _, _ = train_test_split(X_train, X_train['target'], test_size=1/9, random_state=42)\n",
        "\n",
        "X_train = X_train.reset_index(drop=True)\n",
        "X_valid = X_valid.reset_index(drop=True)\n",
        "X_test  = X_test.reset_index(drop=True)\n",
        "\n",
        "datasets = {\"train\": X_train, \"valid\": X_valid, \"test\": X_test, \"submit\": df_test}"
      ],
      "execution_count": 13,
      "outputs": []
    },
    {
      "cell_type": "code",
      "metadata": {
        "id": "AaohsXTVpOzd"
      },
      "source": [
        "pretrained_bert = \"bert-base-uncased\"\n",
        "tokenizer = BertTokenizer.from_pretrained(pretrained_bert, do_lower_case=True)"
      ],
      "execution_count": 14,
      "outputs": []
    },
    {
      "cell_type": "code",
      "metadata": {
        "id": "iPW1vMqWpSSn"
      },
      "source": [
        "for key in datasets.keys():\n",
        "    datasets[key]['input_ids'] = datasets[key]['excerpt'].apply(lambda x: tokenizer(x))\n",
        "    datasets[key]['token_type_ids'] = datasets[key]['input_ids'].apply(lambda x: x['token_type_ids'])\n",
        "    datasets[key]['attention_mask'] = datasets[key]['input_ids'].apply(lambda x: x['attention_mask'])\n",
        "    datasets[key]['input_ids']      = datasets[key]['input_ids'].apply(lambda x: x['input_ids'])"
      ],
      "execution_count": 15,
      "outputs": []
    },
    {
      "cell_type": "code",
      "metadata": {
        "id": "iBfThugppWpL"
      },
      "source": [
        "train_dataset  = dataset(X_train.transpose().to_dict())\n",
        "valid_dataset  = dataset(X_valid.transpose().to_dict())\n",
        "test_dataset   = dataset(X_test.transpose().to_dict())\n",
        "submit_dataset = dataset(df_test.transpose().to_dict())"
      ],
      "execution_count": 17,
      "outputs": []
    },
    {
      "cell_type": "code",
      "metadata": {
        "colab": {
          "base_uri": "https://localhost:8080/"
        },
        "id": "rAc4FAeopa0n",
        "outputId": "356d61cb-e3be-47c1-8663-2c98fd2ce798"
      },
      "source": [
        "BATCH_SIZE = 16\n",
        "train_loader = DataLoader(\n",
        "    dataset = train_dataset,\n",
        "    batch_size = BATCH_SIZE,\n",
        "    shuffle = True,\n",
        "    num_workers=4,\n",
        "    pin_memory=True,\n",
        "    collate_fn = lambda x: dataset.collate_fn(train_dataset, x)\n",
        ")\n",
        "\n",
        "valid_loader = DataLoader(\n",
        "    dataset = valid_dataset,\n",
        "    batch_size = BATCH_SIZE,\n",
        "    shuffle = False,\n",
        "    num_workers=4,\n",
        "    pin_memory=True,\n",
        "    collate_fn = lambda x: dataset.collate_fn(valid_dataset, x)\n",
        ")\n",
        "\n",
        "test_loader = DataLoader(\n",
        "    dataset = test_dataset,\n",
        "    batch_size = BATCH_SIZE,\n",
        "    shuffle = False,\n",
        "    num_workers=4,\n",
        "    pin_memory=True,\n",
        "    collate_fn = lambda x: dataset.collate_fn(test_dataset, x)\n",
        ")\n",
        "\n",
        "submit_loader = DataLoader(\n",
        "    dataset = submit_dataset,\n",
        "    batch_size = BATCH_SIZE,\n",
        "    shuffle = False,\n",
        "    num_workers=4,\n",
        "    pin_memory=True,\n",
        "    collate_fn = lambda x: dataset.collate_fn(submit_dataset, x, target=False)\n",
        ")"
      ],
      "execution_count": 18,
      "outputs": [
        {
          "output_type": "stream",
          "name": "stderr",
          "text": [
            "/usr/local/lib/python3.7/dist-packages/torch/utils/data/dataloader.py:481: UserWarning: This DataLoader will create 4 worker processes in total. Our suggested max number of worker in current system is 2, which is smaller than what this DataLoader is going to create. Please be aware that excessive worker creation might get DataLoader running slow or even freeze, lower the worker number to avoid potential slowness/freeze if necessary.\n",
            "  cpuset_checked))\n"
          ]
        }
      ]
    },
    {
      "cell_type": "code",
      "metadata": {
        "colab": {
          "base_uri": "https://localhost:8080/"
        },
        "id": "7K_wroRbqKo3",
        "outputId": "90c3416a-9e9a-4af2-ff5d-9237865db194"
      },
      "source": [
        "print(len(train_dataset), len(valid_dataset), len(test_dataset), len(submit_dataset))"
      ],
      "execution_count": 19,
      "outputs": [
        {
          "output_type": "stream",
          "name": "stdout",
          "text": [
            "2266 284 284 7\n"
          ]
        }
      ]
    },
    {
      "cell_type": "code",
      "metadata": {
        "colab": {
          "base_uri": "https://localhost:8080/"
        },
        "id": "Y6iL7lAdqNT5",
        "outputId": "63310017-875e-41d3-9ff0-a649ac841d54"
      },
      "source": [
        "device = torch.device('cuda' if torch.cuda.is_available() else 'cpu')\n",
        "device"
      ],
      "execution_count": 20,
      "outputs": [
        {
          "output_type": "execute_result",
          "data": {
            "text/plain": [
              "device(type='cuda')"
            ]
          },
          "metadata": {},
          "execution_count": 20
        }
      ]
    },
    {
      "cell_type": "code",
      "metadata": {
        "colab": {
          "base_uri": "https://localhost:8080/"
        },
        "id": "xILZoCrTqQOj",
        "outputId": "0044594a-eafe-43e0-ff66-99e00560a8f4"
      },
      "source": [
        "estimator = Estimator(\n",
        "    hyperparameters = {\n",
        "        'learning_rate': 2e-5,\n",
        "        'epoch': 5,\n",
        "        'batch_size': BATCH_SIZE,\n",
        "        'weight_decay':1e-2,\n",
        "    }, \n",
        "    device = device,\n",
        "    model = BERT()\n",
        ")"
      ],
      "execution_count": 23,
      "outputs": [
        {
          "output_type": "stream",
          "name": "stderr",
          "text": [
            "Some weights of the model checkpoint at bert-base-uncased were not used when initializing BertModel: ['cls.seq_relationship.weight', 'cls.predictions.transform.dense.weight', 'cls.predictions.transform.dense.bias', 'cls.predictions.decoder.weight', 'cls.predictions.transform.LayerNorm.bias', 'cls.predictions.transform.LayerNorm.weight', 'cls.seq_relationship.bias', 'cls.predictions.bias']\n",
            "- This IS expected if you are initializing BertModel from the checkpoint of a model trained on another task or with another architecture (e.g. initializing a BertForSequenceClassification model from a BertForPreTraining model).\n",
            "- This IS NOT expected if you are initializing BertModel from the checkpoint of a model that you expect to be exactly identical (initializing a BertForSequenceClassification model from a BertForSequenceClassification model).\n"
          ]
        }
      ]
    },
    {
      "cell_type": "code",
      "metadata": {
        "colab": {
          "base_uri": "https://localhost:8080/"
        },
        "id": "cNhw2u2gqeMq",
        "outputId": "23a22097-fe85-4f0d-e27c-e668829ec130"
      },
      "source": [
        "import tqdm\n",
        "\n",
        "estimator.fit({'train': train_loader, \n",
        "               'test': valid_loader},\n",
        "              save_name='best_model')\n",
        "estimator.load_weight('best_model.pth')\n",
        "estimator.inference(test_loader)"
      ],
      "execution_count": 25,
      "outputs": [
        {
          "output_type": "stream",
          "name": "stderr",
          "text": [
            "\r  0%|          | 0/142 [00:00<?, ?it/s]/usr/local/lib/python3.7/dist-packages/torch/utils/data/dataloader.py:481: UserWarning: This DataLoader will create 4 worker processes in total. Our suggested max number of worker in current system is 2, which is smaller than what this DataLoader is going to create. Please be aware that excessive worker creation might get DataLoader running slow or even freeze, lower the worker number to avoid potential slowness/freeze if necessary.\n",
            "  cpuset_checked))\n",
            "100%|██████████| 142/142 [03:16<00:00,  1.39s/it]\n"
          ]
        },
        {
          "output_type": "stream",
          "name": "stdout",
          "text": [
            "Epoch: 0, Train: 0.8690360231241028, Test: 0.6124805330158242\n"
          ]
        },
        {
          "output_type": "stream",
          "name": "stderr",
          "text": [
            "100%|██████████| 142/142 [03:17<00:00,  1.39s/it]\n"
          ]
        },
        {
          "output_type": "stream",
          "name": "stdout",
          "text": [
            "Epoch: 1, Train: 0.5010360345888139, Test: 0.7043183844946678\n"
          ]
        },
        {
          "output_type": "stream",
          "name": "stderr",
          "text": [
            "100%|██████████| 142/142 [03:17<00:00,  1.39s/it]\n"
          ]
        },
        {
          "output_type": "stream",
          "name": "stdout",
          "text": [
            "Epoch: 2, Train: 0.3826306114940801, Test: 0.6237571178448892\n"
          ]
        },
        {
          "output_type": "stream",
          "name": "stderr",
          "text": [
            "100%|██████████| 142/142 [03:17<00:00,  1.39s/it]\n"
          ]
        },
        {
          "output_type": "stream",
          "name": "stdout",
          "text": [
            "Epoch: 3, Train: 0.30514902722623294, Test: 0.5922866186455208\n"
          ]
        },
        {
          "output_type": "stream",
          "name": "stderr",
          "text": [
            "100%|██████████| 142/142 [03:17<00:00,  1.39s/it]\n"
          ]
        },
        {
          "output_type": "stream",
          "name": "stdout",
          "text": [
            "Epoch: 4, Train: 0.2597230395704148, Test: 0.644555415483205\n"
          ]
        },
        {
          "output_type": "stream",
          "name": "stderr",
          "text": [
            "100%|██████████| 18/18 [00:09<00:00,  1.96it/s]\n"
          ]
        },
        {
          "output_type": "execute_result",
          "data": {
            "text/plain": [
              "0.5788806635042568"
            ]
          },
          "metadata": {},
          "execution_count": 25
        }
      ]
    },
    {
      "cell_type": "code",
      "metadata": {
        "id": "fMkeAAUXqhy3"
      },
      "source": [
        "X_valid['predict'] = estimator.inference(valid_loader, False)"
      ],
      "execution_count": null,
      "outputs": []
    },
    {
      "cell_type": "code",
      "metadata": {
        "id": "Lwb2J9t7qkcb"
      },
      "source": [
        "X_valid[['excerpt', 'target', 'predict']].sample(5)"
      ],
      "execution_count": null,
      "outputs": []
    },
    {
      "cell_type": "code",
      "metadata": {
        "id": "2AqB8d6rqmZI"
      },
      "source": [
        "submit = pd.read_csv('../input/commonlitreadabilityprize/sample_submission.csv')\n",
        "submit['target'] = estimator.inference(submit_loader, False)"
      ],
      "execution_count": null,
      "outputs": []
    },
    {
      "cell_type": "code",
      "metadata": {
        "id": "M9cgxwCrqoY_"
      },
      "source": [
        "submit"
      ],
      "execution_count": null,
      "outputs": []
    },
    {
      "cell_type": "markdown",
      "metadata": {
        "id": "-HSS89gnIwpf"
      },
      "source": [
        "# Bert Score = 0.59"
      ]
    },
    {
      "cell_type": "code",
      "metadata": {
        "id": "tSUgy6zP4ySe"
      },
      "source": [
        ""
      ],
      "execution_count": null,
      "outputs": []
    }
  ]
}